{
  "nbformat": 4,
  "nbformat_minor": 0,
  "metadata": {
    "colab": {
      "name": "Untitled1.ipynb",
      "provenance": [],
      "collapsed_sections": [],
      "toc_visible": true
    },
    "kernelspec": {
      "name": "python3",
      "display_name": "Python 3"
    }
  },
  "cells": [
    {
      "cell_type": "markdown",
      "metadata": {
        "id": "h6mgspFSAJxv"
      },
      "source": [
        "# **Day-5**"
      ]
    },
    {
      "cell_type": "markdown",
      "metadata": {
        "id": "9ff5WkURih14"
      },
      "source": [
        "## **Question 16**\n",
        "Question:\n",
        "Use a list comprehension to square each odd number in a list.\n",
        "The list is input by a sequence of comma-separated numbers.\n",
        "\n",
        "Suppose the following input is supplied to the program:\n",
        "\n",
        "**1,2,3,4,5,6,7,8,9**\n",
        "\n",
        "Then, the output should be:\n",
        "\n",
        "**1,9,25,49,81**\n",
        "\n",
        "### **Hints:**\n",
        "In case of input data being supplied to the question, it should be assumed to be a console input."
      ]
    },
    {
      "cell_type": "code",
      "metadata": {
        "colab": {
          "base_uri": "https://localhost:8080/"
        },
        "id": "-zArWm8UjOpG",
        "outputId": "6bf100c6-bade-4870-e31e-145738c912a4"
      },
      "source": [
        "lst = [ str(int(i) ** 2) for i in input().split(',') if int(i) % 2]\n",
        "\n",
        "print(\",\".join(lst))"
      ],
      "execution_count": null,
      "outputs": [
        {
          "output_type": "stream",
          "text": [
            "1,2,3,4,5,6,7,8,9\n",
            "1,9,25,49,81\n"
          ],
          "name": "stdout"
        }
      ]
    },
    {
      "cell_type": "code",
      "metadata": {
        "colab": {
          "base_uri": "https://localhost:8080/"
        },
        "id": "pSHJIc77k3DV",
        "outputId": "fc1b3c0b-187f-4f73-89fa-db8343c7ca1e"
      },
      "source": [
        "'''Solution by: shagun'''\n",
        "\n",
        "# splits in comma position and set up in list\n",
        "lst = input().split(',')\n",
        "\n",
        "seq = []\n",
        "\n",
        "# converts string to integer\n",
        "lst = [int(i) for i in lst]\n",
        "\n",
        "for i in lst:\n",
        "  if i % 2 != 0:\n",
        "    i = i * i\n",
        "    seq.append(i)\n",
        "\n",
        "# All the integers are converted to string to be able to apply join operation\n",
        "seq = [str(i) for i in seq]\n",
        "\n",
        "print(\",\".join(seq))"
      ],
      "execution_count": null,
      "outputs": [
        {
          "output_type": "stream",
          "text": [
            "1,2,3,4,5,6,7,8,9\n",
            "1,9,25,49,81\n"
          ],
          "name": "stdout"
        }
      ]
    },
    {
      "cell_type": "code",
      "metadata": {
        "colab": {
          "base_uri": "https://localhost:8080/"
        },
        "id": "0qnadQydmdh6",
        "outputId": "a1edb062-58e8-4a76-8639-95b596591a9b"
      },
      "source": [
        "\n",
        "'''Solution by: Jack'''\n",
        "\n",
        "seq = input().split(',')\n",
        "\n",
        "lst = [int(i) for i in seq]\n",
        "\n",
        "def flt(i):\n",
        "  return i % 2 != 0\n",
        "\n",
        "result_l = [str(i * i) for i in filter(flt, lst)]\n",
        "\n",
        "print(\",\".join(result_l))"
      ],
      "execution_count": null,
      "outputs": [
        {
          "output_type": "stream",
          "text": [
            "1,2,3,4,5,6,7,8,9\n",
            "1,9,25,49,81\n"
          ],
          "name": "stdout"
        }
      ]
    },
    {
      "cell_type": "markdown",
      "metadata": {
        "id": "ox9QehnGVL-K"
      },
      "source": [
        "## **Question 17**\n",
        "Question:\n",
        "Write a program that computes the net amount of a bank account based a transaction log\n",
        "from console input. The transaction log format is shown as following:\n",
        "\n",
        "D 100\n",
        "W 200\n",
        "\n",
        "D means deposit while W means withdrawal.\n",
        "\n",
        "Suppose the following input is supplied to the program:\n",
        "\n",
        "**D 300**\n",
        "\n",
        "**D 300**\n",
        "\n",
        "**W 200**\n",
        "\n",
        "**D 100**\n",
        "\n",
        "\n",
        "Then, the output should be:\n",
        "\n",
        "\n",
        "**500**\n",
        "\n",
        "\n",
        "### **Hints:**\n",
        "In case of input data being supplied to the question, it should be assumed to be a console input."
      ]
    },
    {
      "cell_type": "code",
      "metadata": {
        "colab": {
          "base_uri": "https://localhost:8080/"
        },
        "id": "UFe0sLx3VrKo",
        "outputId": "a0b04968-2aa0-46ab-daee-8b1b75fd94c3"
      },
      "source": [
        "total = 0\n",
        "\n",
        "while True:\n",
        "  s = input().split()\n",
        "  if not s:\n",
        "    break\n",
        "  cm, num = map(str, s)\n",
        "\n",
        "  if cm == 'D':\n",
        "    total += int(num)\n",
        "  if cm == 'W':\n",
        "    total -= int(num)\n",
        "\n",
        "print(total)"
      ],
      "execution_count": 1,
      "outputs": [
        {
          "output_type": "stream",
          "text": [
            "D 300\n",
            "D 300\n",
            "W 200\n",
            "D 100\n",
            "\n",
            "500\n"
          ],
          "name": "stdout"
        }
      ]
    },
    {
      "cell_type": "code",
      "metadata": {
        "colab": {
          "base_uri": "https://localhost:8080/"
        },
        "id": "LnWKHkkDXYnN",
        "outputId": "b27afef1-7bd6-4926-fafb-a28f0c2a0a7d"
      },
      "source": [
        "'''Solution by: leonedott'''\n",
        "\n",
        "lst = []\n",
        "\n",
        "while True:\n",
        "  x = input()\n",
        "  if len(x) == 0:\n",
        "    break\n",
        "  lst.append(x)\n",
        "\n",
        "balance = 0\n",
        "\n",
        "for item in lst:\n",
        "  if 'D' in item:\n",
        "    balance += int(item.strip('D'))\n",
        "  if 'W' in item:\n",
        "    balance -= int(item.strip('W'))\n",
        "\n",
        "print(balance)"
      ],
      "execution_count": 2,
      "outputs": [
        {
          "output_type": "stream",
          "text": [
            "D 300\n",
            "D 300\n",
            "W 200\n",
            "D 100\n",
            "\n",
            "500\n"
          ],
          "name": "stdout"
        }
      ]
    },
    {
      "cell_type": "code",
      "metadata": {
        "colab": {
          "base_uri": "https://localhost:8080/"
        },
        "id": "xc-0nJindsqu",
        "outputId": "932e6fad-c853-4e2a-ab37-592551a99b26"
      },
      "source": [
        "'''Solution by: ChichiLovesDonkeys\n",
        "'''\n",
        "money = 0\n",
        "\n",
        "while 1:\n",
        "  trans = input().split(' ')\n",
        "  if trans[0] == 'D':\n",
        "    money = money + int(trans[1])\n",
        "  elif trans[0] == 'W':\n",
        "    money = money - int(trans[1])\n",
        "  elif input() == '':\n",
        "    break\n",
        "  print(f'Your current balance is: {money}')"
      ],
      "execution_count": 5,
      "outputs": [
        {
          "output_type": "stream",
          "text": [
            "D 300\n",
            "Your current balance is: 300\n",
            "D 300\n",
            "Your current balance is: 600\n",
            "W 200\n",
            "Your current balance is: 400\n",
            "D 100\n",
            "Your current balance is: 500\n",
            "\n",
            "\n"
          ],
          "name": "stdout"
        }
      ]
    }
  ]
}