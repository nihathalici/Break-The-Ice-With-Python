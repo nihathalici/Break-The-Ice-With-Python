{
  "nbformat": 4,
  "nbformat_minor": 0,
  "metadata": {
    "colab": {
      "name": "Untitled1.ipynb",
      "provenance": [],
      "collapsed_sections": [],
      "toc_visible": true
    },
    "kernelspec": {
      "name": "python3",
      "display_name": "Python 3"
    }
  },
  "cells": [
    {
      "cell_type": "markdown",
      "metadata": {
        "id": "h6mgspFSAJxv"
      },
      "source": [
        "# **Day-18**"
      ]
    },
    {
      "cell_type": "markdown",
      "metadata": {
        "id": "TZyHoU74N_wI"
      },
      "source": [
        "## **Question 70**\n",
        "Question\n",
        "Please write a program to output a random even number\n",
        "between 0 and 10 inclusive using random module and list comprehension.\n",
        "\n",
        "### **Hints**\n",
        "Use random.choice() to a random element from a list."
      ]
    },
    {
      "cell_type": "code",
      "metadata": {
        "colab": {
          "base_uri": "https://localhost:8080/"
        },
        "id": "EI8Oqz6LOE3M",
        "outputId": "77a8af2a-f805-4df0-f925-053572492b15"
      },
      "source": [
        "import random\n",
        "\n",
        "print(random.choice([i for i in range(11) if i % 2 == 0]))"
      ],
      "execution_count": 1,
      "outputs": [
        {
          "output_type": "stream",
          "text": [
            "2\n"
          ],
          "name": "stdout"
        }
      ]
    },
    {
      "cell_type": "code",
      "metadata": {
        "colab": {
          "base_uri": "https://localhost:8080/"
        },
        "id": "5FE3YWcZOn5h",
        "outputId": "06f410b0-57f4-432c-be5c-ac0dfe23b9a7"
      },
      "source": [
        "import random \n",
        "\n",
        "resp = [i for i in range(0, 11, 2)]\n",
        "\n",
        "print(random.choice(resp))"
      ],
      "execution_count": 2,
      "outputs": [
        {
          "output_type": "stream",
          "text": [
            "8\n"
          ],
          "name": "stdout"
        }
      ]
    },
    {
      "cell_type": "markdown",
      "metadata": {
        "id": "OMoU10OkPHUi"
      },
      "source": [
        "## **Question 71**\n",
        "Question\n",
        "Please write a program to output a random number, which is divisible by 5 and 7,\n",
        "between 10 and 150 inclusive using random module and list comprehension.\n",
        "\n",
        "### **Hints**\n",
        "Use random.choice() to a random element from a list."
      ]
    },
    {
      "cell_type": "code",
      "metadata": {
        "colab": {
          "base_uri": "https://localhost:8080/"
        },
        "id": "8jxKXHi4Pef6",
        "outputId": "f76e197e-8133-4ce3-8c06-73e4bfaa4521"
      },
      "source": [
        "import random\n",
        "\n",
        "print(random.choice([i for i in range(10, 151) if i % 5 == 0 and i % 7 == 0]))"
      ],
      "execution_count": 3,
      "outputs": [
        {
          "output_type": "stream",
          "text": [
            "105\n"
          ],
          "name": "stdout"
        }
      ]
    },
    {
      "cell_type": "code",
      "metadata": {
        "colab": {
          "base_uri": "https://localhost:8080/"
        },
        "id": "XO0Z24m7QVPF",
        "outputId": "af3e8385-6e1a-409f-a263-45da1863fca7"
      },
      "source": [
        "import random\n",
        "\n",
        "resp = [i for i in range(10, 151) if i % 35 == 0]\n",
        "\n",
        "print(random.choice(resp))"
      ],
      "execution_count": 7,
      "outputs": [
        {
          "output_type": "stream",
          "text": [
            "105\n"
          ],
          "name": "stdout"
        }
      ]
    },
    {
      "cell_type": "markdown",
      "metadata": {
        "id": "TLb0YenPQ0s9"
      },
      "source": [
        "## **Question 72**\n",
        "Question\n",
        "Please write a program to generate a list with 5 random numbers\n",
        "between 100 and 200 inclusive.\n",
        "\n",
        "### **Hints**\n",
        "Use random.sample() to generate a list of random values."
      ]
    },
    {
      "cell_type": "code",
      "metadata": {
        "colab": {
          "base_uri": "https://localhost:8080/"
        },
        "id": "Y45-0dn9Q6mH",
        "outputId": "88f48493-9a38-427a-cb8a-9eb7956ebdf0"
      },
      "source": [
        "import random\n",
        "\n",
        "print(random.sample(range(100, 201), 5))"
      ],
      "execution_count": 8,
      "outputs": [
        {
          "output_type": "stream",
          "text": [
            "[163, 195, 144, 138, 174]\n"
          ],
          "name": "stdout"
        }
      ]
    },
    {
      "cell_type": "code",
      "metadata": {
        "colab": {
          "base_uri": "https://localhost:8080/"
        },
        "id": "S-G6Uf-ZRZF-",
        "outputId": "96435064-3dbf-4bed-fbc1-b78de779d91b"
      },
      "source": [
        "import random\n",
        "\n",
        "resp = random.sample(range(100, 201), 5)\n",
        "\n",
        "print(resp)"
      ],
      "execution_count": 9,
      "outputs": [
        {
          "output_type": "stream",
          "text": [
            "[158, 162, 144, 178, 103]\n"
          ],
          "name": "stdout"
        }
      ]
    },
    {
      "cell_type": "markdown",
      "metadata": {
        "id": "bp1v1DkdRwwa"
      },
      "source": [
        "## **Question 73**\n",
        "Question\n",
        "Please write a program to randomly generate a list\n",
        "with 5 even numbers between 100 and 200 inclusive.\n",
        "\n",
        "### **Hints**\n",
        "Use random.sample() to generate a list of random values."
      ]
    },
    {
      "cell_type": "code",
      "metadata": {
        "colab": {
          "base_uri": "https://localhost:8080/"
        },
        "id": "E-2jH1hvR8tS",
        "outputId": "65e784b5-c52b-4ff7-8c32-95e90e6277d5"
      },
      "source": [
        "import random\n",
        "\n",
        "print(random.sample([i for i in range(100, 201) if i % 2 == 0], 5))"
      ],
      "execution_count": 10,
      "outputs": [
        {
          "output_type": "stream",
          "text": [
            "[120, 150, 146, 170, 166]\n"
          ],
          "name": "stdout"
        }
      ]
    },
    {
      "cell_type": "code",
      "metadata": {
        "colab": {
          "base_uri": "https://localhost:8080/"
        },
        "id": "ALb0NJuTSYu3",
        "outputId": "f5a51190-b693-48fc-c665-8d02e0cbb431"
      },
      "source": [
        "import random\n",
        "\n",
        "resp = random.sample([i for i in range(100, 201) if i % 2 == 0], 5)\n",
        "\n",
        "print(resp)"
      ],
      "execution_count": 11,
      "outputs": [
        {
          "output_type": "stream",
          "text": [
            "[156, 194, 192, 186, 148]\n"
          ],
          "name": "stdout"
        }
      ]
    },
    {
      "cell_type": "markdown",
      "metadata": {
        "id": "SgkVoxRVS0qv"
      },
      "source": [
        "## **Question 74**\n",
        "Question\n",
        "Please write a program to randomly generate a list with 5 numbers,\n",
        "which are divisible by 5 and 7 , between 1 and 1000 inclusive.\n",
        "\n",
        "### **Hints**\n",
        "Use random.sample() to generate a list of random values."
      ]
    },
    {
      "cell_type": "code",
      "metadata": {
        "colab": {
          "base_uri": "https://localhost:8080/"
        },
        "id": "G3fOdNcHS8Ct",
        "outputId": "b297ff03-a00d-49a2-da78-e5a77cd0304f"
      },
      "source": [
        "import random\n",
        "\n",
        "print(random.sample([i for i in range(1, 1001) if i % 5 == 0 and i % 7 == 0], 5))"
      ],
      "execution_count": 12,
      "outputs": [
        {
          "output_type": "stream",
          "text": [
            "[35, 245, 350, 140, 735]\n"
          ],
          "name": "stdout"
        }
      ]
    },
    {
      "cell_type": "code",
      "metadata": {
        "colab": {
          "base_uri": "https://localhost:8080/"
        },
        "id": "sk0Je6SRTi1z",
        "outputId": "2ef4c353-7d3b-4582-c726-a4197d890e61"
      },
      "source": [
        "import random\n",
        "\n",
        "lst = [i for i in range(1, 1001) if i % 35 == 0]\n",
        "\n",
        "resp = random.sample(lst, 5)\n",
        "\n",
        "print(resp)"
      ],
      "execution_count": 13,
      "outputs": [
        {
          "output_type": "stream",
          "text": [
            "[280, 665, 210, 70, 490]\n"
          ],
          "name": "stdout"
        }
      ]
    }
  ]
}