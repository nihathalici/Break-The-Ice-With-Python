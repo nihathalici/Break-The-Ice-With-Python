{
  "nbformat": 4,
  "nbformat_minor": 0,
  "metadata": {
    "colab": {
      "name": "Untitled1.ipynb",
      "provenance": [],
      "collapsed_sections": [],
      "toc_visible": true
    },
    "kernelspec": {
      "name": "python3",
      "display_name": "Python 3"
    }
  },
  "cells": [
    {
      "cell_type": "markdown",
      "metadata": {
        "id": "h6mgspFSAJxv"
      },
      "source": [
        "# **Day-22**"
      ]
    },
    {
      "cell_type": "markdown",
      "metadata": {
        "id": "YembeiTZJboX"
      },
      "source": [
        "## **Question 90**\n",
        "Question\n",
        "Please write a program which count and print the numbers\n",
        "of each character in a string input by console.\n",
        "\n",
        "Example: If the following string is given as input to the program:\n",
        "\n",
        "**abcdefgabc**\n",
        "\n",
        "Then, the output of the program should be:\n",
        "\n",
        "```\n",
        "a,2\n",
        "c,2\n",
        "b,2\n",
        "e,1\n",
        "d,1\n",
        "g,1\n",
        "f,1\n",
        "```\n",
        "\n",
        "### **Hints**\n",
        "Use dict to store key/value pairs. Use dict.get() method to lookup a key with default value.\n"
      ]
    },
    {
      "cell_type": "code",
      "metadata": {
        "colab": {
          "base_uri": "https://localhost:8080/"
        },
        "id": "qwLYBQvUJ7th",
        "outputId": "963d17bf-b936-462d-f707-a7c8ed883209"
      },
      "source": [
        "import string\n",
        "\n",
        "s = input()\n",
        "\n",
        "for letter in string.ascii_lowercase:\n",
        "  cnt = s.count(letter)\n",
        "  if cnt > 0:\n",
        "    print(\"{}, {}\".format(letter, cnt))"
      ],
      "execution_count": null,
      "outputs": [
        {
          "output_type": "stream",
          "text": [
            "abcdefgabc\n",
            "a, 2\n",
            "b, 2\n",
            "c, 2\n",
            "d, 1\n",
            "e, 1\n",
            "f, 1\n",
            "g, 1\n"
          ],
          "name": "stdout"
        }
      ]
    },
    {
      "cell_type": "code",
      "metadata": {
        "colab": {
          "base_uri": "https://localhost:8080/"
        },
        "id": "O8mUUyDdzk1I",
        "outputId": "91822e25-160f-4ece-ed6a-e87ef1a431fc"
      },
      "source": [
        "s = input()\n",
        "\n",
        "# ord() gets the ascii value of a char\n",
        "for letter in range(ord('a'), ord('z') + 1):\n",
        "  # chr() gets the char of an ascii value\n",
        "  letter = chr(letter)\n",
        "  cnt = s.count(letter)\n",
        "  if cnt > 0:\n",
        "    print(\"{}, {}\".format(letter, cnt))"
      ],
      "execution_count": 3,
      "outputs": [
        {
          "output_type": "stream",
          "text": [
            "abcdefgabc\n",
            "a, 2\n",
            "b, 2\n",
            "c, 2\n",
            "d, 1\n",
            "e, 1\n",
            "f, 1\n",
            "g, 1\n"
          ],
          "name": "stdout"
        }
      ]
    },
    {
      "cell_type": "code",
      "metadata": {
        "id": "NCTD2kA103jE"
      },
      "source": [
        "'''Solution by: Utkarsh4697\n",
        "'''\n",
        "\n",
        "s = 'abcdefgabc'\n",
        "\n",
        "for i in sorted(set(s)):\n",
        "  print(f'{i}, {s.count(i)}')"
      ],
      "execution_count": null,
      "outputs": []
    },
    {
      "cell_type": "code",
      "metadata": {
        "colab": {
          "base_uri": "https://localhost:8080/"
        },
        "id": "FI7KJb6h1VeX",
        "outputId": "2eb502b1-fb89-484e-8893-eb1f773a1c54"
      },
      "source": [
        "'''Solution by: popomaticbubble\n",
        "'''\n",
        "\n",
        "def character_counter(text):\n",
        "\n",
        "  characters_list = list(text)\n",
        "  char_count = {}\n",
        "\n",
        "  for x in characters_list:\n",
        "    if x in char_count.keys():\n",
        "      char_count[x] += 1\n",
        "    else:\n",
        "      char_count[x] = 1\n",
        "  return char_count\n",
        "\n",
        "def dict_viewer(dictionary):\n",
        "  for x, y in dictionary.items():\n",
        "    print(f\"{x}, {y}\")\n",
        "\n",
        "text = input(\"> \")\n",
        "dict_viewer(character_counter(text))\n"
      ],
      "execution_count": 4,
      "outputs": [
        {
          "output_type": "stream",
          "text": [
            "> abcdefgabc\n",
            "a, 2\n",
            "b, 2\n",
            "c, 2\n",
            "d, 1\n",
            "e, 1\n",
            "f, 1\n",
            "g, 1\n"
          ],
          "name": "stdout"
        }
      ]
    }
  ]
}