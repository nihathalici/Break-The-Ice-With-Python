{
  "nbformat": 4,
  "nbformat_minor": 0,
  "metadata": {
    "colab": {
      "name": "Untitled1.ipynb",
      "provenance": [],
      "collapsed_sections": [],
      "toc_visible": true
    },
    "kernelspec": {
      "name": "python3",
      "display_name": "Python 3"
    }
  },
  "cells": [
    {
      "cell_type": "markdown",
      "metadata": {
        "id": "h6mgspFSAJxv"
      },
      "source": [
        "# **Day-22**"
      ]
    },
    {
      "cell_type": "markdown",
      "metadata": {
        "id": "YembeiTZJboX"
      },
      "source": [
        "## **Question 90**\n",
        "Question\n",
        "Please write a program which count and print the numbers\n",
        "of each character in a string input by console.\n",
        "\n",
        "Example: If the following string is given as input to the program:\n",
        "\n",
        "**abcdefgabc**\n",
        "\n",
        "Then, the output of the program should be:\n",
        "\n",
        "```\n",
        "a,2\n",
        "c,2\n",
        "b,2\n",
        "e,1\n",
        "d,1\n",
        "g,1\n",
        "f,1\n",
        "```\n",
        "\n",
        "### **Hints**\n",
        "Use dict to store key/value pairs. Use dict.get() method to lookup a key with default value.\n"
      ]
    },
    {
      "cell_type": "code",
      "metadata": {
        "colab": {
          "base_uri": "https://localhost:8080/"
        },
        "id": "qwLYBQvUJ7th",
        "outputId": "963d17bf-b936-462d-f707-a7c8ed883209"
      },
      "source": [
        "import string\n",
        "\n",
        "s = input()\n",
        "\n",
        "for letter in string.ascii_lowercase:\n",
        "  cnt = s.count(letter)\n",
        "  if cnt > 0:\n",
        "    print(\"{}, {}\".format(letter, cnt))"
      ],
      "execution_count": null,
      "outputs": [
        {
          "output_type": "stream",
          "text": [
            "abcdefgabc\n",
            "a, 2\n",
            "b, 2\n",
            "c, 2\n",
            "d, 1\n",
            "e, 1\n",
            "f, 1\n",
            "g, 1\n"
          ],
          "name": "stdout"
        }
      ]
    },
    {
      "cell_type": "code",
      "metadata": {
        "colab": {
          "base_uri": "https://localhost:8080/"
        },
        "id": "O8mUUyDdzk1I",
        "outputId": "91822e25-160f-4ece-ed6a-e87ef1a431fc"
      },
      "source": [
        "s = input()\n",
        "\n",
        "# ord() gets the ascii value of a char\n",
        "for letter in range(ord('a'), ord('z') + 1):\n",
        "  # chr() gets the char of an ascii value\n",
        "  letter = chr(letter)\n",
        "  cnt = s.count(letter)\n",
        "  if cnt > 0:\n",
        "    print(\"{}, {}\".format(letter, cnt))"
      ],
      "execution_count": null,
      "outputs": [
        {
          "output_type": "stream",
          "text": [
            "abcdefgabc\n",
            "a, 2\n",
            "b, 2\n",
            "c, 2\n",
            "d, 1\n",
            "e, 1\n",
            "f, 1\n",
            "g, 1\n"
          ],
          "name": "stdout"
        }
      ]
    },
    {
      "cell_type": "code",
      "metadata": {
        "id": "NCTD2kA103jE",
        "colab": {
          "base_uri": "https://localhost:8080/"
        },
        "outputId": "b29f90a5-56ca-4634-c64a-6db7fe204ad9"
      },
      "source": [
        "'''Solution by: Utkarsh4697\n",
        "'''\n",
        "\n",
        "s = 'abcdefgabc'\n",
        "\n",
        "for i in sorted(set(s)):\n",
        "  print(f'{i}, {s.count(i)}')"
      ],
      "execution_count": 1,
      "outputs": [
        {
          "output_type": "stream",
          "text": [
            "a, 2\n",
            "b, 2\n",
            "c, 2\n",
            "d, 1\n",
            "e, 1\n",
            "f, 1\n",
            "g, 1\n"
          ],
          "name": "stdout"
        }
      ]
    },
    {
      "cell_type": "code",
      "metadata": {
        "colab": {
          "base_uri": "https://localhost:8080/"
        },
        "id": "FI7KJb6h1VeX",
        "outputId": "2eb502b1-fb89-484e-8893-eb1f773a1c54"
      },
      "source": [
        "'''Solution by: popomaticbubble\n",
        "'''\n",
        "\n",
        "def character_counter(text):\n",
        "\n",
        "  characters_list = list(text)\n",
        "  char_count = {}\n",
        "\n",
        "  for x in characters_list:\n",
        "    if x in char_count.keys():\n",
        "      char_count[x] += 1\n",
        "    else:\n",
        "      char_count[x] = 1\n",
        "  return char_count\n",
        "\n",
        "def dict_viewer(dictionary):\n",
        "  for x, y in dictionary.items():\n",
        "    print(f\"{x}, {y}\")\n",
        "\n",
        "text = input(\"> \")\n",
        "dict_viewer(character_counter(text))\n"
      ],
      "execution_count": null,
      "outputs": [
        {
          "output_type": "stream",
          "text": [
            "> abcdefgabc\n",
            "a, 2\n",
            "b, 2\n",
            "c, 2\n",
            "d, 1\n",
            "e, 1\n",
            "f, 1\n",
            "g, 1\n"
          ],
          "name": "stdout"
        }
      ]
    },
    {
      "cell_type": "markdown",
      "metadata": {
        "id": "ig9gpawyHmKy"
      },
      "source": [
        "## **Question 91**\n",
        "Question\n",
        "Please write a program which accepts a string from console and print it in reverse order.\n",
        "\n",
        "Example: If the following string is given as input to the program:*\n",
        "\n",
        "**rise to vote sir**\n",
        "\n",
        "Then, the output of the program should be:\n",
        "\n",
        "**ris etov ot esir**\n",
        "\n",
        "### **Hints**\n",
        "Use list[::-1] to iterate a list in a reverse order."
      ]
    },
    {
      "cell_type": "code",
      "metadata": {
        "colab": {
          "base_uri": "https://localhost:8080/"
        },
        "id": "CnO9db8NHxa5",
        "outputId": "80c44d5f-2eac-4d52-a9e3-49927e1950f4"
      },
      "source": [
        "s = input()\n",
        "\n",
        "s = s[::-1]\n",
        "\n",
        "print(s)"
      ],
      "execution_count": 2,
      "outputs": [
        {
          "output_type": "stream",
          "text": [
            "rise to vote sir\n",
            "ris etov ot esir\n"
          ],
          "name": "stdout"
        }
      ]
    },
    {
      "cell_type": "code",
      "metadata": {
        "colab": {
          "base_uri": "https://localhost:8080/"
        },
        "id": "SF6NvcevIGcZ",
        "outputId": "178c879c-6872-4d6c-a236-5b2eb0ebadf1"
      },
      "source": [
        "s = input()\n",
        "\n",
        "s = ''.join(reversed(s))\n",
        "\n",
        "print(s)"
      ],
      "execution_count": 3,
      "outputs": [
        {
          "output_type": "stream",
          "text": [
            "rise to vote sir\n",
            "ris etov ot esir\n"
          ],
          "name": "stdout"
        }
      ]
    },
    {
      "cell_type": "markdown",
      "metadata": {
        "id": "6UgLx4lsIZD0"
      },
      "source": [
        "##**Question 92**\n",
        "Question\n",
        "Please write a program which accepts a string from\n",
        "console and print the characters that have even indexes.\n",
        "\n",
        "Example: If the following string is given as input to the program:\n",
        "\n",
        "**H1e2l3l4o5w6o7r8l9d**\n",
        "\n",
        "Then, the output of the program should be:\n",
        "\n",
        "**Helloworld**\n",
        "\n",
        "### **Hints**\n",
        "Use list[::2] to iterate a list by step 2."
      ]
    },
    {
      "cell_type": "code",
      "metadata": {
        "colab": {
          "base_uri": "https://localhost:8080/"
        },
        "id": "02mtP5euIo8c",
        "outputId": "a4ad8226-db9d-4eeb-a84f-35ab1a75b6e4"
      },
      "source": [
        "s = input()\n",
        "\n",
        "s = s[::2]\n",
        "\n",
        "print(s)"
      ],
      "execution_count": 4,
      "outputs": [
        {
          "output_type": "stream",
          "text": [
            "H1e2l3l4o5w6o7r8l9d\n",
            "Helloworld\n"
          ],
          "name": "stdout"
        }
      ]
    },
    {
      "cell_type": "code",
      "metadata": {
        "colab": {
          "base_uri": "https://localhost:8080/"
        },
        "id": "yeZ0-zINJB44",
        "outputId": "43f9bf9f-e200-4d0d-86a7-7dded835caf3"
      },
      "source": [
        "\n",
        "s = \"H1e2l3l4o5w6o7r8l9d\"\n",
        "\n",
        "s = [s[i] for i in range(len(s)) if i % 2 == 0]\n",
        "\n",
        "print(''.join(s))\n"
      ],
      "execution_count": 6,
      "outputs": [
        {
          "output_type": "stream",
          "text": [
            "Helloworld\n"
          ],
          "name": "stdout"
        }
      ]
    },
    {
      "cell_type": "code",
      "metadata": {
        "colab": {
          "base_uri": "https://localhost:8080/"
        },
        "id": "-8s09wVfc8ML",
        "outputId": "24cfb7aa-4861-4088-b087-da746e849b07"
      },
      "source": [
        "s = \"H1e2l3l4o5w6o7r8l9d\"\n",
        "\n",
        "ns = ''\n",
        "\n",
        "for i in range(len(s)):\n",
        "  if i % 2 == 0:\n",
        "    ns += s[i]\n",
        "\n",
        "print(ns)"
      ],
      "execution_count": 7,
      "outputs": [
        {
          "output_type": "stream",
          "text": [
            "Helloworld\n"
          ],
          "name": "stdout"
        }
      ]
    },
    {
      "cell_type": "markdown",
      "metadata": {
        "id": "X3q21JQ9deiM"
      },
      "source": [
        "## **Question 93**\n",
        "Question\n",
        "Please write a program which prints all permutations of [1,2,3]\n",
        "\n",
        "### **Hints**\n",
        "Use itertools.permutations() to get permutations of list."
      ]
    },
    {
      "cell_type": "code",
      "metadata": {
        "colab": {
          "base_uri": "https://localhost:8080/"
        },
        "id": "urUdl7YjdlST",
        "outputId": "ab551ede-7202-495c-81f5-b2f06a72ed46"
      },
      "source": [
        "import itertools\n",
        "\n",
        "print(list(itertools.permutations([1, 2, 3])))"
      ],
      "execution_count": 8,
      "outputs": [
        {
          "output_type": "stream",
          "text": [
            "[(1, 2, 3), (1, 3, 2), (2, 1, 3), (2, 3, 1), (3, 1, 2), (3, 2, 1)]\n"
          ],
          "name": "stdout"
        }
      ]
    },
    {
      "cell_type": "code",
      "metadata": {
        "colab": {
          "base_uri": "https://localhost:8080/"
        },
        "id": "OYdTflgXeAlG",
        "outputId": "c49ac56a-af99-4995-e4e0-e124a2f04df7"
      },
      "source": [
        "\"\"\"Solution by: popomaticbubble\n",
        "\"\"\"\n",
        "\n",
        "from itertools import permutations\n",
        "\n",
        "def permutations_generator(iterable):\n",
        "  p = permutations(iterable)\n",
        "  for i in p:\n",
        "    print(i)\n",
        "\n",
        "x = [1, 2, 3]\n",
        "\n",
        "permutations_generator(x)"
      ],
      "execution_count": 9,
      "outputs": [
        {
          "output_type": "stream",
          "text": [
            "(1, 2, 3)\n",
            "(1, 3, 2)\n",
            "(2, 1, 3)\n",
            "(2, 3, 1)\n",
            "(3, 1, 2)\n",
            "(3, 2, 1)\n"
          ],
          "name": "stdout"
        }
      ]
    },
    {
      "cell_type": "markdown",
      "metadata": {
        "id": "hCgC-5T3ekEB"
      },
      "source": [
        "## **Question 94**\n",
        "Question\n",
        "Write a program to solve a classic ancient Chinese puzzle:\n",
        "We count 35 heads and 94 legs among the chickens and rabbits in a farm.\n",
        "How many rabbits and how many chickens do we have?\n",
        "\n",
        "### **Hints**\n",
        "Use for loop to iterate all possible solutions."
      ]
    },
    {
      "cell_type": "code",
      "metadata": {
        "colab": {
          "base_uri": "https://localhost:8080/"
        },
        "id": "CRmGkPlbetzP",
        "outputId": "797084ea-3919-4acc-81f6-16481cc2cdf9"
      },
      "source": [
        "def solve(numheads, numlegs):\n",
        "  ns = 'No solutions!'\n",
        "  for i in range(numheads + 1):\n",
        "    j = numheads - i\n",
        "    if 2 * i + 4 * j == numlegs:\n",
        "      return i, j\n",
        "  return ns, ns\n",
        "\n",
        "numheads = 35\n",
        "numlegs = 94\n",
        "\n",
        "solutions = solve(numheads, numlegs)\n",
        "\n",
        "print(solutions)"
      ],
      "execution_count": 10,
      "outputs": [
        {
          "output_type": "stream",
          "text": [
            "(23, 12)\n"
          ],
          "name": "stdout"
        }
      ]
    },
    {
      "cell_type": "code",
      "metadata": {
        "colab": {
          "base_uri": "https://localhost:8080/"
        },
        "id": "i3xeMks_ftHY",
        "outputId": "4e850010-cdfc-489e-95a6-933ef06cbe6d"
      },
      "source": [
        "\"\"\"Solution by: popomaticbubble\n",
        "\"\"\"\n",
        "\n",
        "import itertools\n",
        "\n",
        "def animal_counter(lst):\n",
        "  chickens = 0\n",
        "  rabbits = 0\n",
        "  for i in lst:\n",
        "    if i == 2:\n",
        "      chickens += 1\n",
        "    elif i == 4:\n",
        "      rabbits += 1\n",
        "  print(f\"Number of chickens is {chickens}\\nNumber of rabbits is {rabbits}\")\n",
        "\n",
        "def animal_calculator(total_legs, total_heads, legs_of_each_species):\n",
        "  combinations = itertools.combinations_with_replacement(legs_of_each_species, total_heads)\n",
        "  correct_combos = []\n",
        "  for i in list(combinations):\n",
        "    if sum(i) == total_legs:\n",
        "      correct_combos.append(i)\n",
        "  for i in correct_combos:\n",
        "    animal_counter(i)\n",
        "\n",
        "animal_calculator(94, 35, legs_of_each_species = [2, 4])"
      ],
      "execution_count": 12,
      "outputs": [
        {
          "output_type": "stream",
          "text": [
            "Number of chickens is 23\n",
            "Number of rabbits is 12\n"
          ],
          "name": "stdout"
        }
      ]
    }
  ]
}