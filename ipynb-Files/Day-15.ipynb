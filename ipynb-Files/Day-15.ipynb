{
  "nbformat": 4,
  "nbformat_minor": 0,
  "metadata": {
    "colab": {
      "name": "Untitled1.ipynb",
      "provenance": [],
      "collapsed_sections": [],
      "toc_visible": true
    },
    "kernelspec": {
      "name": "python3",
      "display_name": "Python 3"
    }
  },
  "cells": [
    {
      "cell_type": "markdown",
      "metadata": {
        "id": "h6mgspFSAJxv"
      },
      "source": [
        "# **Day-15**"
      ]
    },
    {
      "cell_type": "markdown",
      "metadata": {
        "id": "k5W49nGS62Ai"
      },
      "source": [
        "## **Question 54**\n",
        "Question\n",
        "Assuming that we have some email addresses in the \"username@companyname.com\" format,\n",
        "please write program to print the company name of a given email address.\n",
        "Both user names and company names are composed of letters only.\n",
        "\n",
        "Example: If the following email address is given as input to the program:\n",
        "\n",
        "**john@google.com**\n",
        "\n",
        "Then, the output of the program should be:\n",
        "\n",
        "**google**\n",
        "\n",
        "In case of input data being supplied to the question, it should be assumed to be a console input.\n",
        "\n",
        "### **Hints**\n",
        "Use \\w to match letters."
      ]
    },
    {
      "cell_type": "code",
      "metadata": {
        "colab": {
          "base_uri": "https://localhost:8080/"
        },
        "id": "tOeE7tVZ-6cy",
        "outputId": "c3bd0d26-7a65-4f29-bc1e-c9e714da84a8"
      },
      "source": [
        "import re\n",
        "\n",
        "emailAddress = input()\n",
        "\n",
        "pat2 = \"(\\w+)@(\\w+)\\.(com)\"\n",
        "\n",
        "r2 = re.match(pat2, emailAddress)\n",
        "\n",
        "print(r2.group(2))"
      ],
      "execution_count": null,
      "outputs": [
        {
          "output_type": "stream",
          "text": [
            "john@google.com\n",
            "google\n"
          ],
          "name": "stdout"
        }
      ]
    },
    {
      "cell_type": "code",
      "metadata": {
        "colab": {
          "base_uri": "https://localhost:8080/"
        },
        "id": "stm20R0pAcNS",
        "outputId": "25bb5be6-4b3a-4cf6-e216-b3b32185360a"
      },
      "source": [
        "import re\n",
        "\n",
        "email = \"john@google.com elise@python.com\"\n",
        "\n",
        "pattern = \"\\w+@(\\w+).com\"\n",
        "\n",
        "ans = re.findall(pattern, email)\n",
        "\n",
        "print(ans)"
      ],
      "execution_count": null,
      "outputs": [
        {
          "output_type": "stream",
          "text": [
            "['google', 'python']\n"
          ],
          "name": "stdout"
        }
      ]
    },
    {
      "cell_type": "markdown",
      "metadata": {
        "id": "wb8zytUnZHc6"
      },
      "source": [
        "## **Question 55**\n",
        "Question\n",
        "Write a program which accepts a sequence of words separated by whitespace\n",
        "as input to print the words composed of digits only.\n",
        "\n",
        "Example: If the following words is given as input to the program:\n",
        "\n",
        "**2 cats and 3 dogs.**\n",
        "\n",
        "Then, the output of the program should be:\n",
        "\n",
        "**['2', '3']**\n",
        "\n",
        "In case of input data being supplied to the question, it should be assumed to be a console input.\n",
        "\n",
        "### **Hints**\n",
        "Use re.findall() to find all substring using regex.\n"
      ]
    },
    {
      "cell_type": "code",
      "metadata": {
        "colab": {
          "base_uri": "https://localhost:8080/"
        },
        "id": "qnsLiCqLZldW",
        "outputId": "6937f77e-b80d-4ea9-d7c6-dc9bbec2e9e9"
      },
      "source": [
        "import re \n",
        "\n",
        "email = input()\n",
        "\n",
        "pattern = \"\\d+\"\n",
        "\n",
        "ans = re.findall(pattern, email)\n",
        "\n",
        "print(ans)"
      ],
      "execution_count": 3,
      "outputs": [
        {
          "output_type": "stream",
          "text": [
            "2 cats and 3 dogs.\n",
            "['2', '3']\n"
          ],
          "name": "stdout"
        }
      ]
    },
    {
      "cell_type": "code",
      "metadata": {
        "colab": {
          "base_uri": "https://localhost:8080/"
        },
        "id": "YZ75LYnLaWYa",
        "outputId": "f33457b3-5963-4950-df4d-e314a1b4b378"
      },
      "source": [
        "email = input().split()\n",
        "\n",
        "ans = []\n",
        "\n",
        "for word in email:\n",
        "  # can also use isnumeric() / isdecimal() function instead\n",
        "  if word.isdigit():\n",
        "    ans.append(word)\n",
        "\n",
        "print(ans)"
      ],
      "execution_count": 4,
      "outputs": [
        {
          "output_type": "stream",
          "text": [
            "2 cats and 3 dogs.\n",
            "['2', '3']\n"
          ],
          "name": "stdout"
        }
      ]
    },
    {
      "cell_type": "code",
      "metadata": {
        "colab": {
          "base_uri": "https://localhost:8080/"
        },
        "id": "08FYSnOTcLnn",
        "outputId": "7ab00c19-a8d9-42a3-f16c-629ff757d51d"
      },
      "source": [
        "email = input().split()\n",
        "\n",
        "# using list comprehension method\n",
        "ans = [word for word in email if word.isdigit()]\n",
        "\n",
        "print(ans)"
      ],
      "execution_count": 5,
      "outputs": [
        {
          "output_type": "stream",
          "text": [
            "2 cats and 3 dogs.\n",
            "['2', '3']\n"
          ],
          "name": "stdout"
        }
      ]
    },
    {
      "cell_type": "markdown",
      "metadata": {
        "id": "i6HGEEb8co61"
      },
      "source": [
        "## **Question 56**\n",
        "Question\n",
        "Print a unicode string \"hello world\".\n",
        "\n",
        "### **Hints**\n",
        "Use u'strings' format to define unicode string."
      ]
    },
    {
      "cell_type": "code",
      "metadata": {
        "colab": {
          "base_uri": "https://localhost:8080/"
        },
        "id": "BLBvdFYkcwkE",
        "outputId": "d904d9f7-1ccc-426e-b1ae-13a71cef9e54"
      },
      "source": [
        "unicodeString = u\"hello world\"\n",
        "\n",
        "print(unicodeString)"
      ],
      "execution_count": 6,
      "outputs": [
        {
          "output_type": "stream",
          "text": [
            "hello world\n"
          ],
          "name": "stdout"
        }
      ]
    },
    {
      "cell_type": "markdown",
      "metadata": {
        "id": "Reyt-mVldCem"
      },
      "source": [
        "## **Question 57**\n",
        "Question\n",
        "Write a program to read an ASCII string and to convert it to a unicode string encoded by utf-8.\n",
        "\n",
        "### **Hints**\n",
        "Use unicode()/encode() function to convert."
      ]
    },
    {
      "cell_type": "code",
      "metadata": {
        "colab": {
          "base_uri": "https://localhost:8080/"
        },
        "id": "VdpJ5tXWdMkf",
        "outputId": "39b011f5-9758-4756-dc6b-7d6c6f0e84fe"
      },
      "source": [
        "s = input()\n",
        "\n",
        "u = s.encode('utf-8')\n",
        "\n",
        "print(u)"
      ],
      "execution_count": 8,
      "outputs": [
        {
          "output_type": "stream",
          "text": [
            "je ne parle pas français\n",
            "b'je ne parle pas fran\\xc3\\xa7ais'\n"
          ],
          "name": "stdout"
        }
      ]
    },
    {
      "cell_type": "markdown",
      "metadata": {
        "id": "2sz2YeyCh7mm"
      },
      "source": [
        "## **Question 58**\n",
        "Question\n",
        "Write a special comment to indicate a Python source code file is in unicode.\n",
        "\n",
        "### **Hints**\n",
        "Use unicode() function to convert."
      ]
    },
    {
      "cell_type": "code",
      "metadata": {
        "id": "rI4NrhrRiC3n"
      },
      "source": [
        "# -*- coding: utf.8 -*-"
      ],
      "execution_count": null,
      "outputs": []
    },
    {
      "cell_type": "markdown",
      "metadata": {
        "id": "Xk9HEiMUiN5c"
      },
      "source": [
        "## **Question 59**\n",
        "Question\n",
        "Write a program to compute 1/2+2/3+3/4+...+n/n+1 with a given n input by console (n>0).\n",
        "\n",
        "Example: If the following n is given as input to the program:\n",
        "\n",
        "**5**\n",
        "\n",
        "Then, the output of the program should be:\n",
        "\n",
        "**3.55**\n",
        "\n",
        "In case of input data being supplied to the question, it should be assumed to be a console input.\n",
        "\n",
        "### **Hints**\n",
        "Use float() to convert an integer to a float.\n",
        "Even if not converted it wont cause a problem because python by default understands the data type of a value."
      ]
    },
    {
      "cell_type": "code",
      "metadata": {
        "colab": {
          "base_uri": "https://localhost:8080/"
        },
        "id": "GkB1-JSeindY",
        "outputId": "67021772-ab6a-42ca-b086-2ce4485fb0ba"
      },
      "source": [
        "n = int(input())\n",
        "\n",
        "sum = 0\n",
        "\n",
        "for i in range(1, n + 1):\n",
        "  sum += i / (i + 1)\n",
        "\n",
        "# rounded to 2 decimal point\n",
        "print(round(sum, 2))"
      ],
      "execution_count": 9,
      "outputs": [
        {
          "output_type": "stream",
          "text": [
            "5\n",
            "3.55\n"
          ],
          "name": "stdout"
        }
      ]
    }
  ]
}