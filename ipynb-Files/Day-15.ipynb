{
  "nbformat": 4,
  "nbformat_minor": 0,
  "metadata": {
    "colab": {
      "name": "Untitled1.ipynb",
      "provenance": [],
      "collapsed_sections": [],
      "toc_visible": true
    },
    "kernelspec": {
      "name": "python3",
      "display_name": "Python 3"
    }
  },
  "cells": [
    {
      "cell_type": "markdown",
      "metadata": {
        "id": "h6mgspFSAJxv"
      },
      "source": [
        "# **Day-15**"
      ]
    },
    {
      "cell_type": "markdown",
      "metadata": {
        "id": "k5W49nGS62Ai"
      },
      "source": [
        "## **Question 54**\n",
        "Question\n",
        "Assuming that we have some email addresses in the \"username@companyname.com\" format,\n",
        "please write program to print the company name of a given email address.\n",
        "Both user names and company names are composed of letters only.\n",
        "\n",
        "Example: If the following email address is given as input to the program:\n",
        "\n",
        "**john@google.com**\n",
        "\n",
        "Then, the output of the program should be:\n",
        "\n",
        "**google**\n",
        "\n",
        "In case of input data being supplied to the question, it should be assumed to be a console input.\n",
        "\n",
        "### **Hints**\n",
        "Use \\w to match letters."
      ]
    },
    {
      "cell_type": "code",
      "metadata": {
        "colab": {
          "base_uri": "https://localhost:8080/"
        },
        "id": "tOeE7tVZ-6cy",
        "outputId": "c3bd0d26-7a65-4f29-bc1e-c9e714da84a8"
      },
      "source": [
        "import re\n",
        "\n",
        "emailAddress = input()\n",
        "\n",
        "pat2 = \"(\\w+)@(\\w+)\\.(com)\"\n",
        "\n",
        "r2 = re.match(pat2, emailAddress)\n",
        "\n",
        "print(r2.group(2))"
      ],
      "execution_count": null,
      "outputs": [
        {
          "output_type": "stream",
          "text": [
            "john@google.com\n",
            "google\n"
          ],
          "name": "stdout"
        }
      ]
    },
    {
      "cell_type": "code",
      "metadata": {
        "colab": {
          "base_uri": "https://localhost:8080/"
        },
        "id": "stm20R0pAcNS",
        "outputId": "25bb5be6-4b3a-4cf6-e216-b3b32185360a"
      },
      "source": [
        "import re\n",
        "\n",
        "email = \"john@google.com elise@python.com\"\n",
        "\n",
        "pattern = \"\\w+@(\\w+).com\"\n",
        "\n",
        "ans = re.findall(pattern, email)\n",
        "\n",
        "print(ans)"
      ],
      "execution_count": null,
      "outputs": [
        {
          "output_type": "stream",
          "text": [
            "['google', 'python']\n"
          ],
          "name": "stdout"
        }
      ]
    }
  ]
}