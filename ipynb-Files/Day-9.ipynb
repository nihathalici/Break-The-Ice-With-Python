{
  "nbformat": 4,
  "nbformat_minor": 0,
  "metadata": {
    "colab": {
      "name": "Untitled1.ipynb",
      "provenance": [],
      "collapsed_sections": [],
      "toc_visible": true
    },
    "kernelspec": {
      "name": "python3",
      "display_name": "Python 3"
    }
  },
  "cells": [
    {
      "cell_type": "markdown",
      "metadata": {
        "id": "h6mgspFSAJxv"
      },
      "source": [
        "# **Day-9**"
      ]
    },
    {
      "cell_type": "markdown",
      "metadata": {
        "id": "hm-8wDoePtFz"
      },
      "source": [
        "## **Question 26**\n",
        "Question:\n",
        "Define a function which can compute the sum of two numbers.\n",
        "\n",
        "### **Hints:**\n",
        "Define a function with two numbers as arguments.\n",
        "You can compute the sum in the function and return the value.\n"
      ]
    },
    {
      "cell_type": "code",
      "metadata": {
        "colab": {
          "base_uri": "https://localhost:8080/"
        },
        "id": "EtXhtZahP3n5",
        "outputId": "44422d4c-b4e8-4172-82cd-c554340b89f5"
      },
      "source": [
        "def sumFunction(number1, number2):\n",
        "  return number1 + number2\n",
        "\n",
        "print(sumFunction(1, 2))"
      ],
      "execution_count": 1,
      "outputs": [
        {
          "output_type": "stream",
          "text": [
            "3\n"
          ],
          "name": "stdout"
        }
      ]
    },
    {
      "cell_type": "code",
      "metadata": {
        "colab": {
          "base_uri": "https://localhost:8080/"
        },
        "id": "1KcaSsUxQLYB",
        "outputId": "eb1060a9-bb73-4b08-83bc-9ae2c17b0ace"
      },
      "source": [
        "sum = lambda n1, n2: n1 + n2\n",
        "print(sum(1, 2))"
      ],
      "execution_count": 2,
      "outputs": [
        {
          "output_type": "stream",
          "text": [
            "3\n"
          ],
          "name": "stdout"
        }
      ]
    },
    {
      "cell_type": "markdown",
      "metadata": {
        "id": "wz5v5zhmQfws"
      },
      "source": [
        "## **Question 27**\n",
        "Question:\n",
        "Define a function that can convert a integer into a string and print it in console.\n",
        "\n",
        "### **Hints:**\n",
        "Use str() to convert a number to string.\n"
      ]
    },
    {
      "cell_type": "code",
      "metadata": {
        "colab": {
          "base_uri": "https://localhost:8080/"
        },
        "id": "rggZ0bEGQqzS",
        "outputId": "71c55674-772e-4e6a-c912-15aebd21a627"
      },
      "source": [
        "def printValue(n):\n",
        "  print(str(n))\n",
        "\n",
        "printValue(3)"
      ],
      "execution_count": 3,
      "outputs": [
        {
          "output_type": "stream",
          "text": [
            "3\n"
          ],
          "name": "stdout"
        }
      ]
    },
    {
      "cell_type": "code",
      "metadata": {
        "colab": {
          "base_uri": "https://localhost:8080/"
        },
        "id": "7U1HDky6Q-f9",
        "outputId": "762efdf8-d9b2-4f9c-eb7e-410c369e35e7"
      },
      "source": [
        "conv = lambda x: str(x)\n",
        "\n",
        "n = conv(10)\n",
        "\n",
        "print(n)"
      ],
      "execution_count": 4,
      "outputs": [
        {
          "output_type": "stream",
          "text": [
            "10\n"
          ],
          "name": "stdout"
        }
      ]
    },
    {
      "cell_type": "markdown",
      "metadata": {
        "id": "e1bVzY33RZLr"
      },
      "source": [
        "## **Question 28**\n",
        "Question:\n",
        "Define a function that can receive two integer numbers in string form\n",
        "and compute their sum and then print it in console.\n",
        "\n",
        "### **Hints:**\n",
        "Use int() to convert a string to integer."
      ]
    },
    {
      "cell_type": "code",
      "metadata": {
        "colab": {
          "base_uri": "https://localhost:8080/"
        },
        "id": "iyN0y7stRkIL",
        "outputId": "6eeeb6f8-78f3-44a0-ff66-d2b401b64f57"
      },
      "source": [
        "def printValue(s1, s2):\n",
        "  print(int(s1) + int(s2))\n",
        "\n",
        "printValue(\"3\", \"4\")"
      ],
      "execution_count": 5,
      "outputs": [
        {
          "output_type": "stream",
          "text": [
            "7\n"
          ],
          "name": "stdout"
        }
      ]
    },
    {
      "cell_type": "code",
      "metadata": {
        "colab": {
          "base_uri": "https://localhost:8080/"
        },
        "id": "W13h2UjWSAeF",
        "outputId": "1f482a21-f61e-4003-dbcd-bc09e3820ec8"
      },
      "source": [
        "sum = lambda s1, s2: int(s1) + int(s2)\n",
        "\n",
        "print(sum(\"10\", \"45\"))"
      ],
      "execution_count": 6,
      "outputs": [
        {
          "output_type": "stream",
          "text": [
            "55\n"
          ],
          "name": "stdout"
        }
      ]
    },
    {
      "cell_type": "markdown",
      "metadata": {
        "id": "UJv3vfwxSaiT"
      },
      "source": [
        "## **Question 29**\n",
        "Question:\n",
        "Define a function that can accept two strings as input\n",
        "and concatenate them and then print it in console.\n",
        "\n",
        "### **Hints:**\n",
        "Use + sign to concatenate the strings."
      ]
    },
    {
      "cell_type": "code",
      "metadata": {
        "colab": {
          "base_uri": "https://localhost:8080/"
        },
        "id": "Zo_azaH2ShRH",
        "outputId": "89ea9cd6-bce5-4269-91a6-60f79dc4ece4"
      },
      "source": [
        "def printValue(s1, s2):\n",
        "  print(s1+ s2)\n",
        "\n",
        "printValue(\"3\", \"4\")"
      ],
      "execution_count": 7,
      "outputs": [
        {
          "output_type": "stream",
          "text": [
            "34\n"
          ],
          "name": "stdout"
        }
      ]
    },
    {
      "cell_type": "code",
      "metadata": {
        "colab": {
          "base_uri": "https://localhost:8080/"
        },
        "id": "UcJmZT2mS5_Q",
        "outputId": "9e6be51e-196e-41de-c6eb-ad1a6a86180c"
      },
      "source": [
        "sum = lambda s1, s2: s1 + s2\n",
        "\n",
        "print(sum(\"10\", \"45\"))"
      ],
      "execution_count": 8,
      "outputs": [
        {
          "output_type": "stream",
          "text": [
            "1045\n"
          ],
          "name": "stdout"
        }
      ]
    },
    {
      "cell_type": "markdown",
      "metadata": {
        "id": "_OPdi8BlTMTo"
      },
      "source": [
        "## **Question 30**\n",
        "Question:\n",
        "Define a function that can accept two strings as input\n",
        "and print the string with maximum length in console.\n",
        "If two strings have the same length,\n",
        "then the function should print all strings line by line.\n",
        "\n",
        "### **Hints:**\n",
        "Use len() function to get the length of a string."
      ]
    },
    {
      "cell_type": "code",
      "metadata": {
        "colab": {
          "base_uri": "https://localhost:8080/"
        },
        "id": "85ixhibATYvh",
        "outputId": "195227d0-b424-48f4-fea0-95e53ed44b5c"
      },
      "source": [
        "def printValue(s1, s2):\n",
        "  len1 = len(s1)\n",
        "  len2 = len(s2)\n",
        "  if len1 > len2:\n",
        "    print(s1)\n",
        "  if len2 > len1:\n",
        "    print(s2)\n",
        "  else:\n",
        "    print(s1)\n",
        "    print(s2)\n",
        "\n",
        "printValue(\"one\", \"three\")"
      ],
      "execution_count": 9,
      "outputs": [
        {
          "output_type": "stream",
          "text": [
            "three\n"
          ],
          "name": "stdout"
        }
      ]
    },
    {
      "cell_type": "code",
      "metadata": {
        "colab": {
          "base_uri": "https://localhost:8080/"
        },
        "id": "yuckLC6-VAsx",
        "outputId": "42086a7f-b668-4a37-d6b9-b0c1b166fb42"
      },
      "source": [
        "def printVal(s1, s2):\n",
        "  len1 = len(s1)\n",
        "  len2 = len(s2)\n",
        "\n",
        "  if len1 > len2:\n",
        "    print(s1)\n",
        "  if len1 < len2:\n",
        "    print(s2)\n",
        "  else:\n",
        "    print(s1)\n",
        "    print(s2)\n",
        "\n",
        "s1, s2 = input().split()\n",
        "\n",
        "printVal(s1, s2)"
      ],
      "execution_count": 11,
      "outputs": [
        {
          "output_type": "stream",
          "text": [
            "one three\n",
            "three\n"
          ],
          "name": "stdout"
        }
      ]
    }
  ]
}