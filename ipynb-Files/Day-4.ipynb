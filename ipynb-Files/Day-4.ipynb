{
  "nbformat": 4,
  "nbformat_minor": 0,
  "metadata": {
    "colab": {
      "name": "Untitled1.ipynb",
      "provenance": [],
      "collapsed_sections": [],
      "toc_visible": true
    },
    "kernelspec": {
      "name": "python3",
      "display_name": "Python 3"
    }
  },
  "cells": [
    {
      "cell_type": "markdown",
      "metadata": {
        "id": "h6mgspFSAJxv"
      },
      "source": [
        "# **Day-4**"
      ]
    },
    {
      "cell_type": "markdown",
      "metadata": {
        "id": "qidW_N0d_Q2G"
      },
      "source": [
        "## **Question 14**\n",
        "Question:\n",
        "Write a program that accepts a sentence and calculate the number of upper case letters and lower case letters.\n",
        "\n",
        "Suppose the following input is supplied to the program:\n",
        "\n",
        "**Hello world!**\n",
        "\n",
        "Then, the output should be:\n",
        "\n",
        "**UPPER CASE 1**\n",
        "\n",
        "**LOWER CASE 9** \n",
        "\n",
        "### **Hints:**\n",
        "In case of input data being supplied to the question, it should be assumed to be a console input."
      ]
    },
    {
      "cell_type": "code",
      "metadata": {
        "colab": {
          "base_uri": "https://localhost:8080/"
        },
        "id": "9hfpxcjb_3xy",
        "outputId": "f0730572-8d5e-46c5-abb1-a93e902e23f1"
      },
      "source": [
        "word = input()\n",
        "\n",
        "upper, lower = 0, 0\n",
        "\n",
        "for i in word:\n",
        "  if 'a' <= i and i <= 'z':\n",
        "    lower += 1\n",
        "  if 'A' <= i and i <= 'Z':\n",
        "    upper += 1\n",
        "\n",
        "print(\"UPPER CASE {0}\\nLOWER CASE {1}\".format(upper, lower))"
      ],
      "execution_count": 1,
      "outputs": [
        {
          "output_type": "stream",
          "text": [
            "Hello world!\n",
            "UPPER CASE 1\n",
            "LOWER CASE 9\n"
          ],
          "name": "stdout"
        }
      ]
    },
    {
      "cell_type": "code",
      "metadata": {
        "colab": {
          "base_uri": "https://localhost:8080/"
        },
        "id": "pYdCgXdIBVoM",
        "outputId": "608c7c5b-287e-4ad4-9773-7361f6b228f1"
      },
      "source": [
        "word = input()\n",
        "\n",
        "# sum function cumulatively sum up 1's if the condition is True\n",
        "upper = sum(1 for i in word if i.isupper())\n",
        "lower = sum(1 for i in word if i.islower())\n",
        "\n",
        "print(\"UPPER CASE {0}\\nLOWER CASE {1}\".format(upper, lower))"
      ],
      "execution_count": 3,
      "outputs": [
        {
          "output_type": "stream",
          "text": [
            "Hello world!\n",
            "UPPER CASE 1\n",
            "LOWER CASE 9\n"
          ],
          "name": "stdout"
        }
      ]
    },
    {
      "cell_type": "code",
      "metadata": {
        "colab": {
          "base_uri": "https://localhost:8080/"
        },
        "id": "I5H4ZOb8CgFZ",
        "outputId": "71d9c9a7-18ec-41f6-9ebb-3150f9b40ef7"
      },
      "source": [
        "# solution by Amitewu\n",
        "\n",
        "string = input(\"Enter the sentence\")\n",
        "upper = 0\n",
        "lower = 0\n",
        "\n",
        "for x in string:\n",
        "  if x.isupper() == True:\n",
        "    upper += 1\n",
        "  if x.islower() == True:\n",
        "    lower += 1\n",
        "\n",
        "print(\"UPPER CASE: \", upper)\n",
        "print(\"LOWER CASE: \", lower)"
      ],
      "execution_count": 4,
      "outputs": [
        {
          "output_type": "stream",
          "text": [
            "Enter the sentenceHello world!\n",
            "UPPER CASE:  1\n",
            "LOWER CASE:  9\n"
          ],
          "name": "stdout"
        }
      ]
    },
    {
      "cell_type": "markdown",
      "metadata": {
        "id": "l_PDrdpsD530"
      },
      "source": [
        "## **Question 15**\n",
        "Question:\n",
        "Write a program that computes the value of a+aa+aaa+aaaa with a given digit as the value of a.\n",
        "\n",
        "Suppose the following input is supplied to the program:\n",
        "\n",
        "**9**\n",
        "\n",
        "Then, the output should be:\n",
        "\n",
        "**11106**\n",
        "\n",
        "### **Hints:**\n",
        "\n",
        "In case of input data being supplied to the question, it should be assumed to be a console input."
      ]
    },
    {
      "cell_type": "code",
      "metadata": {
        "colab": {
          "base_uri": "https://localhost:8080/"
        },
        "id": "iEv9geDBE_Ry",
        "outputId": "fe0cb04c-6def-4b83-e6ed-11259f01a827"
      },
      "source": [
        "a = input()\n",
        "\n",
        "# initialing an integer and empty string\n",
        "total, tmp = 0, str()\n",
        "\n",
        "for i in range(4):\n",
        "  # concatenating 'a' to 'tmp'\n",
        "  tmp += a\n",
        "  # converting string type to integer type\n",
        "  total += int(tmp)\n",
        "\n",
        "print(total)"
      ],
      "execution_count": 5,
      "outputs": [
        {
          "output_type": "stream",
          "text": [
            "9\n",
            "11106\n"
          ],
          "name": "stdout"
        }
      ]
    },
    {
      "cell_type": "code",
      "metadata": {
        "colab": {
          "base_uri": "https://localhost:8080/"
        },
        "id": "boe4kW5PHOL3",
        "outputId": "17bbb094-5c52-4997-ffd8-71cbe664108c"
      },
      "source": [
        "'''Solution by: lcastrooliveira\n",
        "'''\n",
        "\n",
        "def question_15(string_digit):\n",
        "  return sum(int(string_digit * n) for n in range(1, 5))\n",
        "\n",
        "inp = input()\n",
        "\n",
        "print(question_15(inp))"
      ],
      "execution_count": 6,
      "outputs": [
        {
          "output_type": "stream",
          "text": [
            "9\n",
            "11106\n"
          ],
          "name": "stdout"
        }
      ]
    },
    {
      "cell_type": "code",
      "metadata": {
        "colab": {
          "base_uri": "https://localhost:8080/"
        },
        "id": "CKQmPONMJfbF",
        "outputId": "960f3b94-b7e0-41b1-d2d9-a1cac6e64ac8"
      },
      "source": [
        "'''Solution by: apenam7\n",
        "'''\n",
        "\n",
        "a = input()\n",
        "\n",
        "print(sum(int(i * a) for i in range(1, 5)))"
      ],
      "execution_count": 7,
      "outputs": [
        {
          "output_type": "stream",
          "text": [
            "9\n",
            "11106\n"
          ],
          "name": "stdout"
        }
      ]
    }
  ]
}