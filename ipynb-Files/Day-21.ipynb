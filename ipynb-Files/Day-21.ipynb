{
  "nbformat": 4,
  "nbformat_minor": 0,
  "metadata": {
    "colab": {
      "name": "Untitled1.ipynb",
      "provenance": [],
      "collapsed_sections": [],
      "toc_visible": true
    },
    "kernelspec": {
      "name": "python3",
      "display_name": "Python 3"
    }
  },
  "cells": [
    {
      "cell_type": "markdown",
      "metadata": {
        "id": "h6mgspFSAJxv"
      },
      "source": [
        "# **Day-21**"
      ]
    },
    {
      "cell_type": "markdown",
      "metadata": {
        "id": "s1hzQbBfjChF"
      },
      "source": [
        "## **Question 85**\n",
        "Question\n",
        "By using list comprehension, please write a program to print the list\n",
        "after removing the 0th,4th,5th numbers in [12,24,35,70,88,120,155].\n",
        "\n",
        "### **Hints**\n",
        "Use list comprehension to delete a bunch of element from a list.\n",
        "Use enumerate() to get (index, value) tuple.\n"
      ]
    },
    {
      "cell_type": "code",
      "metadata": {
        "colab": {
          "base_uri": "https://localhost:8080/"
        },
        "id": "BT2cLArBjO6_",
        "outputId": "a679bd04-204c-4025-d232-515dee339b67"
      },
      "source": [
        "li = [12, 24, 35, 70, 88, 120, 155]\n",
        "\n",
        "li = [x for (i, x) in enumerate(li) if i not in (0, 4, 5)]\n",
        "\n",
        "print(li)"
      ],
      "execution_count": 1,
      "outputs": [
        {
          "output_type": "stream",
          "text": [
            "[24, 35, 70, 155]\n"
          ],
          "name": "stdout"
        }
      ]
    },
    {
      "cell_type": "code",
      "metadata": {
        "colab": {
          "base_uri": "https://localhost:8080/"
        },
        "id": "0A7mNMBOkNjj",
        "outputId": "0c83ebba-f6e4-4b50-dcc8-b0ee30476915"
      },
      "source": [
        "li = [12, 24, 35, 70, 88, 120, 155]\n",
        "\n",
        "li = [li[i] for i in range(len(li)) if i not in (0, 4, 5)]\n",
        "\n",
        "print(li)"
      ],
      "execution_count": 2,
      "outputs": [
        {
          "output_type": "stream",
          "text": [
            "[24, 35, 70, 155]\n"
          ],
          "name": "stdout"
        }
      ]
    },
    {
      "cell_type": "code",
      "metadata": {
        "colab": {
          "base_uri": "https://localhost:8080/"
        },
        "id": "9Z_i1QNQktsg",
        "outputId": "49eab1e5-3e48-4867-d7b9-d17a431c1e4c"
      },
      "source": [
        "'''Solution by: pratikb0501\n",
        "'''\n",
        "\n",
        "li = [12, 24, 35, 70, 88, 120, 155]\n",
        "\n",
        "print(list(j for i, j in enumerate(li) if i != 0 and i != 4 and i != 5))"
      ],
      "execution_count": 3,
      "outputs": [
        {
          "output_type": "stream",
          "text": [
            "[24, 35, 70, 155]\n"
          ],
          "name": "stdout"
        }
      ]
    },
    {
      "cell_type": "markdown",
      "metadata": {
        "id": "pfVW1B4clVNw"
      },
      "source": [
        "## **Question 86**\n",
        "Question\n",
        "By using list comprehension, please write a program to print\n",
        "the list after removing the value 24 in [12,24,35,24,88,120,155].\n",
        "\n",
        "### **Hints**\n",
        "Use list's remove method to delete a value."
      ]
    },
    {
      "cell_type": "code",
      "metadata": {
        "colab": {
          "base_uri": "https://localhost:8080/"
        },
        "id": "ReoAIHAAliTp",
        "outputId": "41e300a3-f8ed-413f-9a09-dcac03f0f050"
      },
      "source": [
        "li = [12, 24, 35, 24, 88, 120, 155]\n",
        "\n",
        "li = [x for x in li if x != 24]\n",
        "\n",
        "print(li)"
      ],
      "execution_count": 4,
      "outputs": [
        {
          "output_type": "stream",
          "text": [
            "[12, 35, 88, 120, 155]\n"
          ],
          "name": "stdout"
        }
      ]
    },
    {
      "cell_type": "code",
      "metadata": {
        "colab": {
          "base_uri": "https://localhost:8080/"
        },
        "id": "pIn_DblOl5vq",
        "outputId": "e15b1831-7181-40a0-e377-49267d0c94ac"
      },
      "source": [
        "li = [12, 24, 35, 24, 88, 120, 155]\n",
        "\n",
        "# this will remove only the first occurrence of 24\n",
        "li.remove(24)\n",
        "\n",
        "print(li)"
      ],
      "execution_count": 5,
      "outputs": [
        {
          "output_type": "stream",
          "text": [
            "[12, 35, 24, 88, 120, 155]\n"
          ],
          "name": "stdout"
        }
      ]
    },
    {
      "cell_type": "markdown",
      "metadata": {
        "id": "wChpHQqTorA-"
      },
      "source": [
        "## **Question 87**\n",
        "Question\n",
        "With two given lists [1,3,6,78,35,55] and [12,24,35,24,88,120,155],\n",
        "write a program to make a list whose elements are\n",
        "intersection of the above given lists.\n",
        "\n",
        "### **Hints**\n",
        "Use set() and \"&=\" to do set intersection operation.\n"
      ]
    },
    {
      "cell_type": "code",
      "metadata": {
        "colab": {
          "base_uri": "https://localhost:8080/"
        },
        "id": "fY1DbYn0qOMD",
        "outputId": "c49c1e0d-2923-481f-b261-5f5d34a72117"
      },
      "source": [
        "set1 = set([1, 3, 6, 78, 35, 55])\n",
        "set2 = set([12, 24, 35, 24, 88, 120, 155])\n",
        "\n",
        "set1 &= set2\n",
        "\n",
        "li = list(set1)\n",
        "\n",
        "print(li)"
      ],
      "execution_count": 6,
      "outputs": [
        {
          "output_type": "stream",
          "text": [
            "[35]\n"
          ],
          "name": "stdout"
        }
      ]
    },
    {
      "cell_type": "code",
      "metadata": {
        "colab": {
          "base_uri": "https://localhost:8080/"
        },
        "id": "_5tm-A83qwyf",
        "outputId": "5d2bab2d-29b4-490e-f894-ff65160ba8ee"
      },
      "source": [
        "list1 = [1, 3, 6, 78, 35, 55]\n",
        "list2 = [12, 24, 35, 24, 88, 120, 155]\n",
        "\n",
        "set1 = set(list1)\n",
        "set2 = set(list2)\n",
        "\n",
        "intersection = set1 & set2\n",
        "\n",
        "print(list(intersection))"
      ],
      "execution_count": 7,
      "outputs": [
        {
          "output_type": "stream",
          "text": [
            "[35]\n"
          ],
          "name": "stdout"
        }
      ]
    },
    {
      "cell_type": "code",
      "metadata": {
        "colab": {
          "base_uri": "https://localhost:8080/"
        },
        "id": "-3T4wDySrI7D",
        "outputId": "2ea1625c-a84b-47ac-fbf2-b63927f3351a"
      },
      "source": [
        "list1 = [1, 3, 6, 78, 35, 55]\n",
        "list2 = [12, 24, 35, 24, 88, 120, 155]\n",
        "\n",
        "set1 = set(list1)\n",
        "set2 = set(list2)\n",
        "\n",
        "intersection = set.intersection(set1, set2)\n",
        "\n",
        "print(list(intersection))"
      ],
      "execution_count": 8,
      "outputs": [
        {
          "output_type": "stream",
          "text": [
            "[35]\n"
          ],
          "name": "stdout"
        }
      ]
    },
    {
      "cell_type": "markdown",
      "metadata": {
        "id": "-DhVmHqarmTH"
      },
      "source": [
        "## **Question 88**\n",
        "Question\n",
        "With a given list [12,24,35,24,88,120,155,88,120,155], write a program to print this list\n",
        "after removing all duplicate values with original order reserved.\n",
        "\n",
        "### **Hints**\n",
        "Use set() to store a number of values without duplicate."
      ]
    },
    {
      "cell_type": "code",
      "metadata": {
        "colab": {
          "base_uri": "https://localhost:8080/"
        },
        "id": "fdV8Ij6brrbw",
        "outputId": "0d2d730b-d529-4340-a2b6-7e1e2c9b8064"
      },
      "source": [
        "def removeDuplicate(li):\n",
        "  newli = []\n",
        "  seen = set()\n",
        "  for item in li:\n",
        "    if item not in seen:\n",
        "      seen.add(item)\n",
        "      newli.append(item)\n",
        "  return newli \n",
        "\n",
        "li = [12, 24, 35, 24, 88, 120, 155, 88, 120, 155]\n",
        "\n",
        "print(removeDuplicate(li))"
      ],
      "execution_count": 10,
      "outputs": [
        {
          "output_type": "stream",
          "text": [
            "[12, 24, 35, 88, 120, 155]\n"
          ],
          "name": "stdout"
        }
      ]
    },
    {
      "cell_type": "code",
      "metadata": {
        "colab": {
          "base_uri": "https://localhost:8080/"
        },
        "id": "hqrkVDqItArB",
        "outputId": "33357270-de87-44ea-ede9-c2573cad6687"
      },
      "source": [
        "li = [12, 24, 35, 24, 88, 120, 155, 88, 120, 155]\n",
        "\n",
        "for i in li:\n",
        "  if li.count(i) > 1:\n",
        "    li.remove(i)\n",
        "\n",
        "print(li)"
      ],
      "execution_count": 11,
      "outputs": [
        {
          "output_type": "stream",
          "text": [
            "[12, 35, 24, 88, 120, 155]\n"
          ],
          "name": "stdout"
        }
      ]
    },
    {
      "cell_type": "code",
      "metadata": {
        "colab": {
          "base_uri": "https://localhost:8080/"
        },
        "id": "4S7DQ26ntcj6",
        "outputId": "d073ed3e-058d-4d82-fc11-3089076ac32b"
      },
      "source": [
        "def removeDuplicate(li):\n",
        "  seen = {}\n",
        "  for item in li:\n",
        "    if item not in seen:\n",
        "      seen[item] = True\n",
        "      yield item\n",
        "\n",
        "li = [12, 24, 35, 24, 88, 120, 155, 88, 120, 155]\n",
        "\n",
        "ans = list(removeDuplicate(li))\n",
        "\n",
        "print(ans)"
      ],
      "execution_count": 12,
      "outputs": [
        {
          "output_type": "stream",
          "text": [
            "[12, 24, 35, 88, 120, 155]\n"
          ],
          "name": "stdout"
        }
      ]
    },
    {
      "cell_type": "markdown",
      "metadata": {
        "id": "lUamye6muKRu"
      },
      "source": [
        "## **Question 89**\n",
        "Question\n",
        "Define a class Person and its two child classes: Male and Female.\n",
        "All classes have a method \"getGender\" which can print \"Male\"\n",
        "for Male class and \"Female\" for Female class.\n",
        "\n",
        "### **Hints**\n",
        "Use Subclass(Parentclass) to define a child class."
      ]
    },
    {
      "cell_type": "code",
      "metadata": {
        "colab": {
          "base_uri": "https://localhost:8080/"
        },
        "id": "XUtRQNopuU94",
        "outputId": "0a52efe0-d043-41cb-d326-4f2ceee3e4e3"
      },
      "source": [
        "class Person(object):\n",
        "  def getGender(self):\n",
        "    return \"Unknown\"\n",
        "\n",
        "class Female(Person):\n",
        "  def getGender(Female):\n",
        "    return \"Female\"\n",
        "    \n",
        "class Male(Person):\n",
        "  def getGender(self):\n",
        "    return \"Male\"\n",
        "\n",
        "aFemale = Female()\n",
        "aMale = Male()\n",
        "\n",
        "print(aFemale.getGender())\n",
        "print(aMale.getGender())"
      ],
      "execution_count": 17,
      "outputs": [
        {
          "output_type": "stream",
          "text": [
            "Female\n",
            "Male\n"
          ],
          "name": "stdout"
        }
      ]
    },
    {
      "cell_type": "code",
      "metadata": {
        "colab": {
          "base_uri": "https://localhost:8080/"
        },
        "id": "Zd20kAE7vR5y",
        "outputId": "e11fd1ef-454c-4426-b87d-bcbc367d41aa"
      },
      "source": [
        "'''Solution by: popomaticbubble\n",
        "'''\n",
        "\n",
        "class Person(object):\n",
        "  def __init__(self):\n",
        "    self.gender = \"unknown\"\n",
        "  \n",
        "  def getGender(self):\n",
        "    print(self.gender)\n",
        "\n",
        "class Female(Person):\n",
        "  def __init__(self):\n",
        "    self.gender = \"Female\"\n",
        "\n",
        "class Male(Person):\n",
        "  def __init__(self):\n",
        "    self.gender = \"Male\"\n",
        "\n",
        "sharon = Female()\n",
        "doug = Male()\n",
        "sharon.getGender()\n",
        "doug.getGender()"
      ],
      "execution_count": 18,
      "outputs": [
        {
          "output_type": "stream",
          "text": [
            "Female\n",
            "Male\n"
          ],
          "name": "stdout"
        }
      ]
    }
  ]
}