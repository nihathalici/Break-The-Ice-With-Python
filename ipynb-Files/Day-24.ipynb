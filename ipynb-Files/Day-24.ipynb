{
  "nbformat": 4,
  "nbformat_minor": 0,
  "metadata": {
    "colab": {
      "name": "Untitled1.ipynb",
      "provenance": [],
      "collapsed_sections": [],
      "toc_visible": true
    },
    "kernelspec": {
      "name": "python3",
      "display_name": "Python 3"
    }
  },
  "cells": [
    {
      "cell_type": "markdown",
      "metadata": {
        "id": "h6mgspFSAJxv"
      },
      "source": [
        "# **Day-24**"
      ]
    },
    {
      "cell_type": "markdown",
      "metadata": {
        "id": "qfd2NURBWKHp"
      },
      "source": [
        "## **Question 100**\n",
        "Question\n",
        "You are given words. Some words may repeat. For each word, output its number of occurrences.\n",
        "The output order should correspond with the input order of appearance of the word.\n",
        "See the sample input/output for clarification.\n",
        "\n",
        "If the following string is given as input to the program:\n",
        "\n",
        "```\n",
        "4\n",
        "bcdef\n",
        "abcdefg\n",
        "bcde\n",
        "bcdef\n",
        "```\n",
        "\n",
        "Then, the output of the program should be:\n",
        "\n",
        "```\n",
        "3\n",
        "2 1 1\n",
        "```\n",
        "\n",
        "### **Hints**\n",
        "Make a list to get the input order and a dictionary to count the word frequency\n"
      ]
    },
    {
      "cell_type": "code",
      "metadata": {
        "colab": {
          "base_uri": "https://localhost:8080/"
        },
        "id": "F2qEUcuqW_Iv",
        "outputId": "8033b379-3d0d-45f8-aaae-7c0227e2d900"
      },
      "source": [
        "n = int(input())\n",
        "\n",
        "word_list = []\n",
        "word_dict = {}\n",
        "\n",
        "for i in range(n):\n",
        "  word = input()\n",
        "  if word not in word_dict:\n",
        "    word_list.append(word)\n",
        "  word_dict[word] = word_dict.get(word, 0) + 1\n",
        "\n",
        "print(word_list)\n",
        "\n",
        "print(len(word_list))\n",
        "\n",
        "for word in word_list:\n",
        "  print(word_dict[word], end = ' ')"
      ],
      "execution_count": 2,
      "outputs": [
        {
          "output_type": "stream",
          "text": [
            "4\n",
            "bcdef\n",
            "abcdefg\n",
            "bcde\n",
            "bcdef\n",
            "['bcdef', 'abcdefg', 'bcde']\n",
            "3\n",
            "2 1 1 "
          ],
          "name": "stdout"
        }
      ]
    }
  ]
}