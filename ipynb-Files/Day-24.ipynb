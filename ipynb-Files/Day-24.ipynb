{
  "nbformat": 4,
  "nbformat_minor": 0,
  "metadata": {
    "colab": {
      "name": "Untitled1.ipynb",
      "provenance": [],
      "collapsed_sections": [],
      "toc_visible": true
    },
    "kernelspec": {
      "name": "python3",
      "display_name": "Python 3"
    }
  },
  "cells": [
    {
      "cell_type": "markdown",
      "metadata": {
        "id": "h6mgspFSAJxv"
      },
      "source": [
        "# **Day-24**"
      ]
    },
    {
      "cell_type": "markdown",
      "metadata": {
        "id": "qfd2NURBWKHp"
      },
      "source": [
        "## **Question 100**\n",
        "Question\n",
        "You are given words. Some words may repeat. For each word, output its number of occurrences.\n",
        "The output order should correspond with the input order of appearance of the word.\n",
        "See the sample input/output for clarification.\n",
        "\n",
        "If the following string is given as input to the program:\n",
        "\n",
        "```\n",
        "4\n",
        "bcdef\n",
        "abcdefg\n",
        "bcde\n",
        "bcdef\n",
        "```\n",
        "\n",
        "Then, the output of the program should be:\n",
        "\n",
        "```\n",
        "3\n",
        "2 1 1\n",
        "```\n",
        "\n",
        "### **Hints**\n",
        "Make a list to get the input order and a dictionary to count the word frequency\n"
      ]
    },
    {
      "cell_type": "code",
      "metadata": {
        "colab": {
          "base_uri": "https://localhost:8080/"
        },
        "id": "F2qEUcuqW_Iv",
        "outputId": "8033b379-3d0d-45f8-aaae-7c0227e2d900"
      },
      "source": [
        "n = int(input())\n",
        "\n",
        "word_list = []\n",
        "word_dict = {}\n",
        "\n",
        "for i in range(n):\n",
        "  word = input()\n",
        "  if word not in word_dict:\n",
        "    word_list.append(word)\n",
        "  word_dict[word] = word_dict.get(word, 0) + 1\n",
        "\n",
        "print(word_list)\n",
        "\n",
        "print(len(word_list))\n",
        "\n",
        "for word in word_list:\n",
        "  print(word_dict[word], end = ' ')"
      ],
      "execution_count": null,
      "outputs": [
        {
          "output_type": "stream",
          "text": [
            "4\n",
            "bcdef\n",
            "abcdefg\n",
            "bcde\n",
            "bcdef\n",
            "['bcdef', 'abcdefg', 'bcde']\n",
            "3\n",
            "2 1 1 "
          ],
          "name": "stdout"
        }
      ]
    },
    {
      "cell_type": "markdown",
      "metadata": {
        "id": "pqMajV2q-Jzf"
      },
      "source": [
        "## **Question 101**\n",
        "Question\n",
        "You are given a string. Your task is to count the frequency of letters\n",
        "of the string and print the letters in descending order of frequency.\n",
        "\n",
        "If the following string is given as input to the program:\n",
        "\n",
        "aabbbccde\n",
        "\n",
        "Then, the output of the program should be:\n",
        "```\n",
        "b 3\n",
        "a 2\n",
        "c 2\n",
        "d 1\n",
        "e 1\n",
        "```\n",
        "### **Hints**\n",
        "Count frequency with dictionary and sort by Value from dictionary Items\n"
      ]
    },
    {
      "cell_type": "code",
      "metadata": {
        "colab": {
          "base_uri": "https://localhost:8080/"
        },
        "id": "7qv1hizj-kyq",
        "outputId": "6f6a3a06-a1d1-4a95-a84d-2fce150a8c90"
      },
      "source": [
        "word = input()\n",
        "dct = {}\n",
        "\n",
        "for i in word:\n",
        "  dct[i] = dct.get(i, 0) + 1\n",
        "\n",
        "dct = sorted(dct.items(), key = lambda x: (-x[1], x[0]))\n",
        "\n",
        "for i in dct:\n",
        "  print(i[0], i[1])"
      ],
      "execution_count": null,
      "outputs": [
        {
          "output_type": "stream",
          "text": [
            "aabbbccde\n",
            "b 3\n",
            "a 2\n",
            "c 2\n",
            "d 1\n",
            "e 1\n"
          ],
          "name": "stdout"
        }
      ]
    },
    {
      "cell_type": "code",
      "metadata": {
        "colab": {
          "base_uri": "https://localhost:8080/"
        },
        "id": "18OU4XhsAAQj",
        "outputId": "8f449532-1016-4d6e-cca6-35dbc5370124"
      },
      "source": [
        "'''Solution by: yuan1z'''\n",
        "\n",
        "X = input()\n",
        "my_set = set(X)\n",
        "arr = []\n",
        "\n",
        "for item in my_set:\n",
        "  arr.append([item, X.count(item)])\n",
        "\n",
        "tmp = sorted(arr, key = lambda x: (-x[1], x[0]))\n",
        "\n",
        "for i in tmp:\n",
        "  print(i[0] + ' ' + str(i[1]))"
      ],
      "execution_count": null,
      "outputs": [
        {
          "output_type": "stream",
          "text": [
            "aabbbccde\n",
            "b 3\n",
            "a 2\n",
            "c 2\n",
            "d 1\n",
            "e 1\n"
          ],
          "name": "stdout"
        }
      ]
    },
    {
      "cell_type": "code",
      "metadata": {
        "colab": {
          "base_uri": "https://localhost:8080/"
        },
        "id": "G8u_iQUyBZKA",
        "outputId": "a31d8301-7abe-444e-b865-19be00452ce1"
      },
      "source": [
        "'''Solution by: StartZer0'''\n",
        "\n",
        "s = list(input())\n",
        "\n",
        "dict_count_ = {k:s.count(k) for k in s}\n",
        "\n",
        "list_of_tuples = [(k, v) for k, v in dict_count_.items()]\n",
        "\n",
        "list_of_tuples.sort(key = lambda x: x[1], reverse = True)\n",
        "\n",
        "for item in list_of_tuples:\n",
        "  print(item[0], item[1])"
      ],
      "execution_count": null,
      "outputs": [
        {
          "output_type": "stream",
          "text": [
            "aabbbccde\n",
            "b 3\n",
            "a 2\n",
            "c 2\n",
            "d 1\n",
            "e 1\n"
          ],
          "name": "stdout"
        }
      ]
    },
    {
      "cell_type": "markdown",
      "metadata": {
        "id": "4gNbUHuL1O89"
      },
      "source": [
        "## **Question 102**\n",
        "Question\n",
        "Write a Python program that accepts a string\n",
        "and calculate the number of digits and letters.\n",
        "\n",
        "Input\n",
        "\n",
        "**Hello321Bye360**\n",
        "\n",
        "Output\n",
        "```\n",
        "Digit - 6\n",
        "Letter - 8\n",
        "```\n",
        "### **Hints**\n",
        "Use isdigit() and isalpha() function\n"
      ]
    },
    {
      "cell_type": "code",
      "metadata": {
        "colab": {
          "base_uri": "https://localhost:8080/"
        },
        "id": "kAFfxDxa1gen",
        "outputId": "acb5d00c-e9a8-492b-f78c-df435890ee71"
      },
      "source": [
        "word = input()\n",
        "\n",
        "digit, letter = 0, 0\n",
        "\n",
        "for char in word:\n",
        "  digit += char.isdigit()\n",
        "  letter += char.isalpha()\n",
        "\n",
        "print('Digit - ', digit)\n",
        "print('Letter - ', letter)"
      ],
      "execution_count": 1,
      "outputs": [
        {
          "output_type": "stream",
          "text": [
            "Hello321Bye360\n",
            "Digit -  6\n",
            "Letter -  8\n"
          ],
          "name": "stdout"
        }
      ]
    },
    {
      "cell_type": "markdown",
      "metadata": {
        "id": "oVBx5AEg2ftC"
      },
      "source": [
        "## **Question 103**\n",
        "Question\n",
        "Given a number N.\n",
        "Find Sum of 1 to N Using Recursion\n",
        "\n",
        "Input\n",
        "\n",
        "5\n",
        "\n",
        "Output\n",
        "\n",
        "15\n",
        "\n",
        "### **Hints**\n",
        "Make a recursive function to get the sum\n"
      ]
    },
    {
      "cell_type": "code",
      "metadata": {
        "colab": {
          "base_uri": "https://localhost:8080/"
        },
        "id": "PJI2QFqi2s7D",
        "outputId": "0f15e8db-474e-4e38-b904-63dcdd2e9495"
      },
      "source": [
        "def rec(n):\n",
        "  if n == 0:\n",
        "    return n\n",
        "  return rec(n - 1) + n\n",
        "\n",
        "n = int(input())\n",
        "\n",
        "sum = rec(n)\n",
        "\n",
        "print(sum)"
      ],
      "execution_count": 2,
      "outputs": [
        {
          "output_type": "stream",
          "text": [
            "5\n",
            "15\n"
          ],
          "name": "stdout"
        }
      ]
    }
  ]
}