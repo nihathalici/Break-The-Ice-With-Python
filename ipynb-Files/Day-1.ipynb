{
  "nbformat": 4,
  "nbformat_minor": 0,
  "metadata": {
    "colab": {
      "name": "Untitled1.ipynb",
      "provenance": [],
      "collapsed_sections": [],
      "toc_visible": true
    },
    "kernelspec": {
      "name": "python3",
      "display_name": "Python 3"
    }
  },
  "cells": [
    {
      "cell_type": "markdown",
      "metadata": {
        "id": "h6mgspFSAJxv"
      },
      "source": [
        "# **Day-1**"
      ]
    },
    {
      "cell_type": "markdown",
      "metadata": {
        "id": "yeUpr0XI4qC9"
      },
      "source": [
        "## **Question-1:**\n",
        "Write a program which will find all such numbers which are divisible by 7\n",
        "but are not a multiple of 5, between 2000 and 3200 (both included).\n",
        "The numbers obtained should be printed in a comma-separated sequence on a single line. \n",
        "### **Hints:**\n",
        "Consider use range(#begin, #end) method."
      ]
    },
    {
      "cell_type": "code",
      "metadata": {
        "colab": {
          "base_uri": "https://localhost:8080/"
        },
        "id": "dzUNvE2k4se9",
        "outputId": "e9485dbb-40e5-487e-a58b-e85b86fc07ce"
      },
      "source": [
        "l = []\n",
        "\n",
        "for i in range(2000, 3201):\n",
        "  if i % 7 == 0 and i % 5 != 0:\n",
        "    l.append(str(i))\n",
        "\n",
        "print(\",\".join(l))\n"
      ],
      "execution_count": null,
      "outputs": [
        {
          "output_type": "stream",
          "text": [
            "2002,2009,2016,2023,2037,2044,2051,2058,2072,2079,2086,2093,2107,2114,2121,2128,2142,2149,2156,2163,2177,2184,2191,2198,2212,2219,2226,2233,2247,2254,2261,2268,2282,2289,2296,2303,2317,2324,2331,2338,2352,2359,2366,2373,2387,2394,2401,2408,2422,2429,2436,2443,2457,2464,2471,2478,2492,2499,2506,2513,2527,2534,2541,2548,2562,2569,2576,2583,2597,2604,2611,2618,2632,2639,2646,2653,2667,2674,2681,2688,2702,2709,2716,2723,2737,2744,2751,2758,2772,2779,2786,2793,2807,2814,2821,2828,2842,2849,2856,2863,2877,2884,2891,2898,2912,2919,2926,2933,2947,2954,2961,2968,2982,2989,2996,3003,3017,3024,3031,3038,3052,3059,3066,3073,3087,3094,3101,3108,3122,3129,3136,3143,3157,3164,3171,3178,3192,3199\n"
          ],
          "name": "stdout"
        }
      ]
    },
    {
      "cell_type": "code",
      "metadata": {
        "colab": {
          "base_uri": "https://localhost:8080/"
        },
        "id": "SjBc03kM5_LL",
        "outputId": "455ace4d-119a-411e-cc96-483f307476a5"
      },
      "source": [
        "# Using for loops, without list\n",
        "\n",
        "for i in range(2000, 3201):\n",
        "  if i % 7 == 0 and i % 5 != 0:\n",
        "    print(i, end = ',')\n",
        "print(\"\\b\")\n"
      ],
      "execution_count": null,
      "outputs": [
        {
          "output_type": "stream",
          "text": [
            "2002,2009,2016,2023,2037,2044,2051,2058,2072,2079,2086,2093,2107,2114,2121,2128,2142,2149,2156,2163,2177,2184,2191,2198,2212,2219,2226,2233,2247,2254,2261,2268,2282,2289,2296,2303,2317,2324,2331,2338,2352,2359,2366,2373,2387,2394,2401,2408,2422,2429,2436,2443,2457,2464,2471,2478,2492,2499,2506,2513,2527,2534,2541,2548,2562,2569,2576,2583,2597,2604,2611,2618,2632,2639,2646,2653,2667,2674,2681,2688,2702,2709,2716,2723,2737,2744,2751,2758,2772,2779,2786,2793,2807,2814,2821,2828,2842,2849,2856,2863,2877,2884,2891,2898,2912,2919,2926,2933,2947,2954,2961,2968,2982,2989,2996,3003,3017,3024,3031,3038,3052,3059,3066,3073,3087,3094,3101,3108,3122,3129,3136,3143,3157,3164,3171,3178,3192,3199,\b\n"
          ],
          "name": "stdout"
        }
      ]
    },
    {
      "cell_type": "code",
      "metadata": {
        "colab": {
          "base_uri": "https://localhost:8080/"
        },
        "id": "0K0iyCfm62UR",
        "outputId": "45f49859-ab0d-4ed7-a5db-7d7ac6d9c7ce"
      },
      "source": [
        "# Using generators and list comprehension\n",
        "\n",
        "print(*(i for i in range(2000, 3201) if i % 7 == 0 and i % 5 != 0), sep = \",\")\n"
      ],
      "execution_count": null,
      "outputs": [
        {
          "output_type": "stream",
          "text": [
            "2002,2009,2016,2023,2037,2044,2051,2058,2072,2079,2086,2093,2107,2114,2121,2128,2142,2149,2156,2163,2177,2184,2191,2198,2212,2219,2226,2233,2247,2254,2261,2268,2282,2289,2296,2303,2317,2324,2331,2338,2352,2359,2366,2373,2387,2394,2401,2408,2422,2429,2436,2443,2457,2464,2471,2478,2492,2499,2506,2513,2527,2534,2541,2548,2562,2569,2576,2583,2597,2604,2611,2618,2632,2639,2646,2653,2667,2674,2681,2688,2702,2709,2716,2723,2737,2744,2751,2758,2772,2779,2786,2793,2807,2814,2821,2828,2842,2849,2856,2863,2877,2884,2891,2898,2912,2919,2926,2933,2947,2954,2961,2968,2982,2989,2996,3003,3017,3024,3031,3038,3052,3059,3066,3073,3087,3094,3101,3108,3122,3129,3136,3143,3157,3164,3171,3178,3192,3199\n"
          ],
          "name": "stdout"
        }
      ]
    },
    {
      "cell_type": "markdown",
      "metadata": {
        "id": "u8oE4q-Z84Cd"
      },
      "source": [
        "## **Question 2**\n",
        "Question:\n",
        "Write a program which can compute the factorial of a given numbers.\n",
        "The results should be printed in a comma-separated sequence on a single line.\n",
        "Suppose the following input is supplied to the program:\n",
        "\n",
        "8\n",
        "\n",
        "Then, the output should be:\n",
        "\n",
        "40320\n",
        "\n",
        "### **Hints:**\n",
        "In case of input data being supplied to the question, it should be assumed to be a console input."
      ]
    },
    {
      "cell_type": "code",
      "metadata": {
        "colab": {
          "base_uri": "https://localhost:8080/"
        },
        "id": "Kf_WJrcf-Ie1",
        "outputId": "0e825d1c-fdf7-49ca-e0e1-362c4abbce19"
      },
      "source": [
        "def fact(x):\n",
        "  if x == 0:\n",
        "    return 1\n",
        "  return x * fact(x - 1)\n",
        "x = int(input())\n",
        "\n",
        "print(fact(x))"
      ],
      "execution_count": null,
      "outputs": [
        {
          "output_type": "stream",
          "text": [
            "8\n",
            "40320\n"
          ],
          "name": "stdout"
        }
      ]
    },
    {
      "cell_type": "code",
      "metadata": {
        "colab": {
          "base_uri": "https://localhost:8080/"
        },
        "id": "ndjE2fwNA6Cf",
        "outputId": "0665901b-b6bd-4f0f-9c06-6610a8feee86"
      },
      "source": [
        "# Using For Loop\n",
        "\n",
        "n = int(input())\n",
        "\n",
        "fact = 1\n",
        "\n",
        "for i in range(1, n + 1):\n",
        "  fact = fact * i\n",
        "print(fact)\n"
      ],
      "execution_count": null,
      "outputs": [
        {
          "output_type": "stream",
          "text": [
            "8\n",
            "40320\n"
          ],
          "name": "stdout"
        }
      ]
    },
    {
      "cell_type": "code",
      "metadata": {
        "colab": {
          "base_uri": "https://localhost:8080/"
        },
        "id": "2mQknIFRBfhC",
        "outputId": "525c3435-7d40-4230-fa19-1100e86e8531"
      },
      "source": [
        "# Using Lambda Function\n",
        "\n",
        "n = int(input())\n",
        "\n",
        "def shortFact(x): return 1 if x <= 1 else x * shortFact(x - 1)\n",
        "\n",
        "print(shortFact(n))"
      ],
      "execution_count": null,
      "outputs": [
        {
          "output_type": "stream",
          "text": [
            "8\n",
            "40320\n"
          ],
          "name": "stdout"
        }
      ]
    },
    {
      "cell_type": "code",
      "metadata": {
        "colab": {
          "base_uri": "https://localhost:8080/"
        },
        "id": "3aC47pKICDR1",
        "outputId": "af7a3460-6afb-4843-c374-692ac244978e"
      },
      "source": [
        "# Using While Loop\n",
        "\n",
        "n = int(input())\n",
        "\n",
        "fact = 1\n",
        "\n",
        "i = 1\n",
        "\n",
        "while i <= n:\n",
        "  fact = fact * i\n",
        "  i = i + 1\n",
        "print(fact)"
      ],
      "execution_count": null,
      "outputs": [
        {
          "output_type": "stream",
          "text": [
            "8\n",
            "40320\n"
          ],
          "name": "stdout"
        }
      ]
    },
    {
      "cell_type": "code",
      "metadata": {
        "colab": {
          "base_uri": "https://localhost:8080/"
        },
        "id": "DGb2g_S4C-AB",
        "outputId": "5e5c94a2-c7f8-486e-91b2-474151dc4b5c"
      },
      "source": [
        "'''Solution by: minnielahoti\n",
        "'''\n",
        "\n",
        "while True:\n",
        "  try:\n",
        "    num = int(input(\"Enter a number: \"))\n",
        "    break\n",
        "  except ValueError as err:\n",
        "    print(err)\n",
        "\n",
        "org = num\n",
        "fact = 1\n",
        "\n",
        "while num:\n",
        "  fact = num * fact \n",
        "  num = num - 1\n",
        "print(f'The factorial of {org} is {fact}')"
      ],
      "execution_count": null,
      "outputs": [
        {
          "output_type": "stream",
          "text": [
            "Enter a number: 8\n",
            "The factorial of 8 is 40320\n"
          ],
          "name": "stdout"
        }
      ]
    },
    {
      "cell_type": "code",
      "metadata": {
        "colab": {
          "base_uri": "https://localhost:8080/"
        },
        "id": "xaDY4wKeD1p3",
        "outputId": "6eb0ccb9-ab12-4417-b05f-0443f146eab0"
      },
      "source": [
        "'''Soltuion by: KruthikaSR\n",
        "'''\n",
        "from functools import reduce\n",
        "\n",
        "def fun(acc, item):\n",
        "  return acc * item\n",
        "\n",
        "num = int(input())\n",
        "\n",
        "print(reduce(fun, range(1, num + 1), 1))"
      ],
      "execution_count": null,
      "outputs": [
        {
          "output_type": "stream",
          "text": [
            "8\n",
            "40320\n"
          ],
          "name": "stdout"
        }
      ]
    },
    {
      "cell_type": "markdown",
      "metadata": {
        "id": "4UVRbeWwTutO"
      },
      "source": [
        "##  **Question 3**\n",
        "\n",
        "Question:\n",
        "With a given integral number n, write a program to generate a dictionary that contains (i, i x i)\n",
        "such that is an integral number between 1 and n (both included).\n",
        "and then the program should print the dictionary.\n",
        "\n",
        "Suppose the following input is supplied to the program: 8\n",
        "\n",
        "Then, the output should be:\n",
        "\n",
        "{1: 1, 2: 4, 3: 9, 4: 16, 5: 25, 6: 36, 7: 49, 8: 64}\n",
        "\n",
        "### **Hints:**\n",
        "\n",
        "In case of input data being supplied to the question, it should be assumed to be a console input.\n",
        "Consider use dict()\n"
      ]
    },
    {
      "cell_type": "code",
      "metadata": {
        "colab": {
          "base_uri": "https://localhost:8080/"
        },
        "id": "_-zAnebYUHH5",
        "outputId": "17cbaf86-a6f0-4fdc-894b-47c09c5cb21f"
      },
      "source": [
        "# Using for loops\n",
        "\n",
        "n = int(input())\n",
        "\n",
        "ans = {}\n",
        "\n",
        "for i in range(1, n + 1):\n",
        "  ans[i] = i * i\n",
        "\n",
        "print(ans)"
      ],
      "execution_count": 1,
      "outputs": [
        {
          "output_type": "stream",
          "text": [
            "8\n",
            "{1: 1, 2: 4, 3: 9, 4: 16, 5: 25, 6: 36, 7: 49, 8: 64}\n"
          ],
          "name": "stdout"
        }
      ]
    },
    {
      "cell_type": "code",
      "metadata": {
        "colab": {
          "base_uri": "https://localhost:8080/"
        },
        "id": "Jlk1BUdyU07Y",
        "outputId": "ba641553-54c5-46e0-c3bc-5a73aad39625"
      },
      "source": [
        "# Using dictionary comprehension\n",
        "\n",
        "n = int(input())\n",
        "\n",
        "ans = {i: i * i for i in range(1, n + 1)}\n",
        "\n",
        "print(ans)"
      ],
      "execution_count": 3,
      "outputs": [
        {
          "output_type": "stream",
          "text": [
            "8\n",
            "{1: 1, 2: 4, 3: 9, 4: 16, 5: 25, 6: 36, 7: 49, 8: 64}\n"
          ],
          "name": "stdout"
        }
      ]
    },
    {
      "cell_type": "code",
      "metadata": {
        "colab": {
          "base_uri": "https://localhost:8080/"
        },
        "id": "G2bxHcd1Vk8M",
        "outputId": "7999d347-1267-407e-88ec-a88afa1ef9b8"
      },
      "source": [
        "'''Solution by: minnielahoti\n",
        "   Corrected by: TheNobleKnight \n",
        "'''\n",
        "\n",
        "try:\n",
        "  num = int(input(\"Enter a number: \"))\n",
        "except ValueError as err:\n",
        "  print(err)\n",
        "\n",
        "dictio = dict()\n",
        "\n",
        "for item in range(num + 1):\n",
        "  if item == 0:\n",
        "    continue\n",
        "  else:\n",
        "    dictio[item] = item * item\n",
        "print(dictio)\n"
      ],
      "execution_count": 4,
      "outputs": [
        {
          "output_type": "stream",
          "text": [
            "Enter a number: 8\n",
            "{1: 1, 2: 4, 3: 9, 4: 16, 5: 25, 6: 36, 7: 49, 8: 64}\n"
          ],
          "name": "stdout"
        }
      ]
    },
    {
      "cell_type": "code",
      "metadata": {
        "colab": {
          "base_uri": "https://localhost:8080/"
        },
        "id": "7mABGq1eWjOw",
        "outputId": "55d654bb-3f38-4180-cddd-bfd503bfe2c2"
      },
      "source": [
        "'''Solution by: yurbika\n",
        "   Corrected by: developer-47\n",
        "'''\n",
        "\n",
        "num = int(input(\"Number: \"))\n",
        "\n",
        "print(dict(enumerate([i * i for i in range(1, n + 1)], 1)))"
      ],
      "execution_count": 5,
      "outputs": [
        {
          "output_type": "stream",
          "text": [
            "Number: 8\n",
            "{1: 1, 2: 4, 3: 9, 4: 16, 5: 25, 6: 36, 7: 49, 8: 64}\n"
          ],
          "name": "stdout"
        }
      ]
    }
  ]
}