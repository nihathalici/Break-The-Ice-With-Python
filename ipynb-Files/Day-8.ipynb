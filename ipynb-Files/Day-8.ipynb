{
  "nbformat": 4,
  "nbformat_minor": 0,
  "metadata": {
    "colab": {
      "name": "Untitled1.ipynb",
      "provenance": [],
      "collapsed_sections": [],
      "toc_visible": true
    },
    "kernelspec": {
      "name": "python3",
      "display_name": "Python 3"
    }
  },
  "cells": [
    {
      "cell_type": "markdown",
      "metadata": {
        "id": "h6mgspFSAJxv"
      },
      "source": [
        "# **Day-8**"
      ]
    },
    {
      "cell_type": "markdown",
      "metadata": {
        "id": "-DAKVpKQ6R57"
      },
      "source": [
        "## **Question 22**\n",
        "Question:\n",
        "Write a program to compute the frequency of the words from the input.\n",
        "The output should output after sorting the key alphanumerically.\n",
        "\n",
        "Suppose the following input is supplied to the program:\n",
        "\n",
        "\n",
        "**New to Python or choosing between Python 2 and Python 3? Read Python 2 or Python 3.**\n",
        "\n",
        "\n",
        "Then, the output should be:\n",
        "\n",
        "\n",
        "2:2\n",
        "\n",
        "3.:1\n",
        "\n",
        "3?:1\n",
        "\n",
        "New:1\n",
        "\n",
        "Python:5\n",
        "\n",
        "Read:1\n",
        "\n",
        "and:1\n",
        "\n",
        "between:1\n",
        "\n",
        "choosing:1\n",
        "\n",
        "or:2\n",
        "\n",
        "to:1\n",
        "\n",
        "\n",
        "### **Hints**\n",
        "In case of input data being supplied to the question, it should be assumed to be a console input."
      ]
    },
    {
      "cell_type": "code",
      "metadata": {
        "colab": {
          "base_uri": "https://localhost:8080/"
        },
        "id": "X-vkUWhN65eE",
        "outputId": "1a0f275b-b1f0-4b82-dc71-3216acb9d8d4"
      },
      "source": [
        "ss = input().split()\n",
        "\n",
        "# split words are stored and sorted as a set\n",
        "word = sorted(set(ss))\n",
        "\n",
        "for i in word:\n",
        "  print(\"{0}:{1}\".format(i, ss.count(i)))"
      ],
      "execution_count": null,
      "outputs": [
        {
          "output_type": "stream",
          "text": [
            "New to Python or choosing between Python 2 and Python 3? Read Python 2 or Python 3.\n",
            "2:2\n",
            "3.:1\n",
            "3?:1\n",
            "New:1\n",
            "Python:5\n",
            "Read:1\n",
            "and:1\n",
            "between:1\n",
            "choosing:1\n",
            "or:2\n",
            "to:1\n"
          ],
          "name": "stdout"
        }
      ]
    },
    {
      "cell_type": "code",
      "metadata": {
        "colab": {
          "base_uri": "https://localhost:8080/"
        },
        "id": "nbuEdORV-dLR",
        "outputId": "92d8f3cd-fb38-49d6-ef82-8182e8fcfe49"
      },
      "source": [
        "ss = input().split()\n",
        "\n",
        "dict = {}\n",
        "\n",
        "# setdefault() function takes key & value to set it as dictionary.\n",
        "for i in ss:\n",
        "  i = dict.setdefault(i, ss.count(i))\n",
        "\n",
        "# items() function returns both key & value of dictionary as a list\n",
        "# and then sorted. The sort by default occurs in order of 1st -> 2nd key\n",
        "dict = sorted(dict.items())\n",
        "\n",
        "for i in dict:\n",
        "  print(\"%s:%d\" % (i[0], i[1]))"
      ],
      "execution_count": null,
      "outputs": [
        {
          "output_type": "stream",
          "text": [
            "New to Python or choosing between Python 2 and Python 3? Read Python 2 or Python 3.\n",
            "2:2\n",
            "3.:1\n",
            "3?:1\n",
            "New:1\n",
            "Python:5\n",
            "Read:1\n",
            "and:1\n",
            "between:1\n",
            "choosing:1\n",
            "or:2\n",
            "to:1\n"
          ],
          "name": "stdout"
        }
      ]
    },
    {
      "cell_type": "code",
      "metadata": {
        "colab": {
          "base_uri": "https://localhost:8080/"
        },
        "id": "EIH2QfrKI-u7",
        "outputId": "54d4a3b6-f17d-4ae2-fd79-0bc1d013451f"
      },
      "source": [
        "ss = input().split()\n",
        "\n",
        "# sets dictionary as i-> split word & ss.count(i) -> total occurrence of i in ss\n",
        "dict = {i:ss.count(i) for i in ss}\n",
        "\n",
        "# items() function returns both key & value of dictionary as a list\n",
        "# and then sorted. The sort by default occurs in order of 1st -> 2nd key\n",
        "dict = sorted(dict.items())\n",
        "\n",
        "for i in dict:\n",
        "  print(\"%s:%d\" % (i[0], i[1]))"
      ],
      "execution_count": null,
      "outputs": [
        {
          "output_type": "stream",
          "text": [
            "New to Python or choosing between Python 2 and Python 3? Read Python 2 or Python 3.\n",
            "2:2\n",
            "3.:1\n",
            "3?:1\n",
            "New:1\n",
            "Python:5\n",
            "Read:1\n",
            "and:1\n",
            "between:1\n",
            "choosing:1\n",
            "or:2\n",
            "to:1\n"
          ],
          "name": "stdout"
        }
      ]
    },
    {
      "cell_type": "code",
      "metadata": {
        "colab": {
          "base_uri": "https://localhost:8080/"
        },
        "id": "u3hDkQnQKClw",
        "outputId": "41b294cb-97ae-4547-a6e7-da9e147bd82e"
      },
      "source": [
        "from collections import Counter\n",
        "\n",
        "ss = input().split()\n",
        "\n",
        "# returns key & frequency as a dictionary\n",
        "ss = Counter(ss)\n",
        "\n",
        "# returns as a tuple list\n",
        "ss = sorted(ss.items())\n",
        "\n",
        "for i in ss:\n",
        "  print(\"%s:%d\" % (i[0], i[1]))"
      ],
      "execution_count": null,
      "outputs": [
        {
          "output_type": "stream",
          "text": [
            "New to Python or choosing between Python 2 and Python 3? Read Python 2 or Python 3.\n",
            "2:2\n",
            "3.:1\n",
            "3?:1\n",
            "New:1\n",
            "Python:5\n",
            "Read:1\n",
            "and:1\n",
            "between:1\n",
            "choosing:1\n",
            "or:2\n",
            "to:1\n"
          ],
          "name": "stdout"
        }
      ]
    },
    {
      "cell_type": "code",
      "metadata": {
        "colab": {
          "base_uri": "https://localhost:8080/"
        },
        "id": "qQheWJMgNlnx",
        "outputId": "c719c707-cddc-40f4-dbce-6a4a6edfaf25"
      },
      "source": [
        "from pprint import pprint\n",
        "\n",
        "p = input().split()\n",
        "\n",
        "pprint({i:p.count(i) for i in p})"
      ],
      "execution_count": null,
      "outputs": [
        {
          "output_type": "stream",
          "text": [
            "New to Python or choosing between Python 2 and Python 3? Read Python 2 or Python 3.\n",
            "{'2': 2,\n",
            " '3.': 1,\n",
            " '3?': 1,\n",
            " 'New': 1,\n",
            " 'Python': 5,\n",
            " 'Read': 1,\n",
            " 'and': 1,\n",
            " 'between': 1,\n",
            " 'choosing': 1,\n",
            " 'or': 2,\n",
            " 'to': 1}\n"
          ],
          "name": "stdout"
        }
      ]
    },
    {
      "cell_type": "markdown",
      "metadata": {
        "id": "RTKBKc2aRZic"
      },
      "source": [
        "## **Question** 23\n",
        "Question:\n",
        "Write a method which can calculate square value of number\n",
        "\n",
        "### **Hints:**\n",
        "Using the ** operator which can be written as n**p where means n^p"
      ]
    },
    {
      "cell_type": "code",
      "metadata": {
        "colab": {
          "base_uri": "https://localhost:8080/"
        },
        "id": "UpHsp5NzSgZZ",
        "outputId": "38e32eed-417c-464a-866a-d8ae068a88a5"
      },
      "source": [
        "n = int(input())\n",
        "\n",
        "print(n ** 2)"
      ],
      "execution_count": null,
      "outputs": [
        {
          "output_type": "stream",
          "text": [
            "2\n",
            "4\n"
          ],
          "name": "stdout"
        }
      ]
    },
    {
      "cell_type": "markdown",
      "metadata": {
        "id": "XD5kElgVS0kF"
      },
      "source": [
        "## **Question 24**\n",
        "Question:\n",
        "Python has many built-in functions, and if you do not know how to use it,\n",
        "you can read document online or find some books.\n",
        "But Python has a built-in document function for every built-in functions.\n",
        "\n",
        "Please write a program to print some Python built-in functions documents,\n",
        "such as **abs(), int(), raw_input()**\n",
        "\n",
        "And add document for your own function.\n",
        "\n",
        "### **Hints:**\n",
        "The built-in document method is __doc__"
      ]
    },
    {
      "cell_type": "code",
      "metadata": {
        "colab": {
          "base_uri": "https://localhost:8080/"
        },
        "id": "uE1iwUqaTDfR",
        "outputId": "ff16607b-581e-43eb-84c6-b9210c5b5b3a"
      },
      "source": [
        "def pow(n, p):\n",
        "  '''\n",
        "  param n: This is any integer number\n",
        "  param p: This is power over n\n",
        "  return: n to the power p = n ^ p\n",
        "  '''\n",
        "\n",
        "  return n ** p\n",
        "\n",
        "print(pow(3, 4))\n",
        "print(pow.__doc__)\n",
        "\n",
        "print(str.__doc__)\n",
        "print(sorted.__doc__)"
      ],
      "execution_count": null,
      "outputs": [
        {
          "output_type": "stream",
          "text": [
            "81\n",
            "\n",
            "  param n: This is any integer number\n",
            "  param p: This is power over n\n",
            "  return: n to the power p = n ^ p\n",
            "  \n",
            "str(object='') -> str\n",
            "str(bytes_or_buffer[, encoding[, errors]]) -> str\n",
            "\n",
            "Create a new string object from the given object. If encoding or\n",
            "errors is specified, then the object must expose a data buffer\n",
            "that will be decoded using the given encoding and error handler.\n",
            "Otherwise, returns the result of object.__str__() (if defined)\n",
            "or repr(object).\n",
            "encoding defaults to sys.getdefaultencoding().\n",
            "errors defaults to 'strict'.\n",
            "Return a new list containing all items from the iterable in ascending order.\n",
            "\n",
            "A custom key function can be supplied to customize the sort order, and the\n",
            "reverse flag can be set to request the result in descending order.\n"
          ],
          "name": "stdout"
        }
      ]
    },
    {
      "cell_type": "markdown",
      "metadata": {
        "id": "M3OWYdKKUOnJ"
      },
      "source": [
        "## **Question 25**\n",
        "Question:\n",
        "Define a class, which have a class parameter and have a same instance parameter.\n",
        "\n",
        "### **Hints:**\n",
        "Define an instance parameter, need add it in __init__ method.\n",
        "You can init an object with construct parameter or set the value later"
      ]
    },
    {
      "cell_type": "code",
      "metadata": {
        "colab": {
          "base_uri": "https://localhost:8080/"
        },
        "id": "Nd3VHMUmUZoo",
        "outputId": "2ecde1e6-4255-44f5-9add-45dfa5c5fede"
      },
      "source": [
        "class Car:\n",
        "  name = \"Car\"\n",
        "\n",
        "  def __init__(self, name = \"None\"):\n",
        "    self.name = name\n",
        "\n",
        "honda = Car(\"Honda\")\n",
        "\n",
        "print(\"%s name is %s\" % (Car.name, honda.name))\n",
        "\n",
        "toyota = Car()\n",
        "\n",
        "toyota.name = \"Toyota\"\n",
        "\n",
        "print(\"%s name is %s\" % (Car.name, toyota.name))"
      ],
      "execution_count": null,
      "outputs": [
        {
          "output_type": "stream",
          "text": [
            "Car name is Honda\n",
            "Car name is Toyota\n"
          ],
          "name": "stdout"
        }
      ]
    }
  ]
}