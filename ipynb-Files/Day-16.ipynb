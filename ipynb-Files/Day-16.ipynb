{
  "nbformat": 4,
  "nbformat_minor": 0,
  "metadata": {
    "colab": {
      "name": "Untitled1.ipynb",
      "provenance": [],
      "collapsed_sections": [],
      "toc_visible": true
    },
    "kernelspec": {
      "name": "python3",
      "display_name": "Python 3"
    }
  },
  "cells": [
    {
      "cell_type": "markdown",
      "metadata": {
        "id": "h6mgspFSAJxv"
      },
      "source": [
        "# **Day-16**"
      ]
    },
    {
      "cell_type": "markdown",
      "metadata": {
        "id": "4hkfGIyy6x_D"
      },
      "source": [
        "## **Question 60**\n",
        "Question\n",
        "Write a program to compute:\n",
        "\n",
        "f(n)=f(n-1)+100 when n>0\n",
        "and f(0)=0\n",
        "\n",
        "with a given n input by console (n>0).\n",
        "\n",
        "Example: If the following n is given as input to the program:\n",
        "\n",
        "**5**\n",
        "\n",
        "Then, the output of the program should be:\n",
        "\n",
        "**500**\n",
        "\n",
        "In case of input data being supplied to the question, it should be assumed to be a console input.\n",
        "\n",
        "### **Hints**\n",
        "We can define recursive function in Python.\n"
      ]
    },
    {
      "cell_type": "code",
      "metadata": {
        "colab": {
          "base_uri": "https://localhost:8080/"
        },
        "id": "lRN6mKPp7FVZ",
        "outputId": "4a6edeb9-7bf5-4ad9-8fbe-c94259a89de3"
      },
      "source": [
        "def f(n):\n",
        "    if n == 0:\n",
        "        return 0\n",
        "    return f(n - 1) + 100\n",
        "\n",
        "n = int(input())\n",
        "\n",
        "print(f(n))\n"
      ],
      "execution_count": null,
      "outputs": [
        {
          "output_type": "stream",
          "text": [
            "5\n",
            "500\n"
          ],
          "name": "stdout"
        }
      ]
    },
    {
      "cell_type": "code",
      "metadata": {
        "colab": {
          "base_uri": "https://localhost:8080/"
        },
        "id": "UzM-s3mqNx1h",
        "outputId": "24e81a0a-b401-440c-d2ee-4819cfe1e71e"
      },
      "source": [
        "'''Solution by: NikolayEm\n",
        "'''\n",
        "\n",
        "n = int(input())\n",
        "\n",
        "f = lambda x: f(x - 1) + 100 if x > 0 else 0\n",
        "\n",
        "print(f(n))"
      ],
      "execution_count": 1,
      "outputs": [
        {
          "output_type": "stream",
          "text": [
            "5\n",
            "500\n"
          ],
          "name": "stdout"
        }
      ]
    },
    {
      "cell_type": "markdown",
      "metadata": {
        "id": "3-ZPltaMOTDY"
      },
      "source": [
        "## **Question 61**\n",
        "Question\n",
        "The Fibonacci Sequence is computed based on the following formula:\n",
        "\n",
        "f(n)=0 if n=0\n",
        "f(n)=1 if n=1\n",
        "f(n)=f(n-1)+f(n-2) if n>1\n",
        "\n",
        "Please write a program to compute the value of f(n) with a given n input by console.\n",
        "\n",
        "Example: If the following n is given as input to the program:\n",
        "\n",
        "**7**\n",
        "\n",
        "Then, the output of the program should be:\n",
        "\n",
        "**13**\n",
        "\n",
        "In case of input data being supplied to the question, it should be assumed to be a console input.\n",
        "\n",
        "### **Hints**\n",
        "We can define recursive function in Python."
      ]
    },
    {
      "cell_type": "code",
      "metadata": {
        "colab": {
          "base_uri": "https://localhost:8080/"
        },
        "id": "uCkFanB8Ov5f",
        "outputId": "0cb5337c-14c7-4248-821a-c2c17ac03057"
      },
      "source": [
        "def f(n):\n",
        "  if n < 2:\n",
        "    return n\n",
        "  return f(n - 1) + f(n - 2)\n",
        "\n",
        "n = int(input())\n",
        "\n",
        "print(f(n))"
      ],
      "execution_count": 2,
      "outputs": [
        {
          "output_type": "stream",
          "text": [
            "7\n",
            "13\n"
          ],
          "name": "stdout"
        }
      ]
    },
    {
      "cell_type": "code",
      "metadata": {
        "colab": {
          "base_uri": "https://localhost:8080/"
        },
        "id": "3qLZU7-FPL4_",
        "outputId": "e20ae4b3-1e61-458b-8a70-801303f35615"
      },
      "source": [
        "'''Solution by: NikolayEm\n",
        "'''\n",
        "\n",
        "n = int(input())\n",
        "\n",
        "f = lambda x: 0 if x == 0 else 1 if x == 1 else f(x - 1) + f(x - 2)\n",
        "\n",
        "print(','.join([str(x) for x in range(0, n + 1)]))"
      ],
      "execution_count": 3,
      "outputs": [
        {
          "output_type": "stream",
          "text": [
            "7\n",
            "0,1,2,3,4,5,6,7\n"
          ],
          "name": "stdout"
        }
      ]
    },
    {
      "cell_type": "markdown",
      "metadata": {
        "id": "XT_1yJ8fQHse"
      },
      "source": [
        "## **Question 62**\n",
        "Question\n",
        "The Fibonacci Sequence is computed based on the following formula:\n",
        "\n",
        "f(n)=0 if n=0\n",
        "f(n)=1 if n=1\n",
        "f(n)=f(n-1)+f(n-2) if n>1\n",
        "Please write a program to compute the value of f(n) with a given n input by console.\n",
        "\n",
        "Example: If the following n is given as input to the program:\n",
        "\n",
        "**7**\n",
        "\n",
        "Then, the output of the program should be:\n",
        "\n",
        "**0,1,1,2,3,5,8,13**\n",
        "\n",
        "In case of input data being supplied to the question, it should be assumed to be a console input.\n",
        "\n",
        "### **Hints**\n",
        "We can define recursive function in Python.\n",
        "Use list comprehension to generate a list from an existing list.\n",
        "Use string.join() to join a list of strings.\n"
      ]
    },
    {
      "cell_type": "code",
      "metadata": {
        "colab": {
          "base_uri": "https://localhost:8080/"
        },
        "id": "5pLsRn0ZQVx1",
        "outputId": "815c204e-436e-4ef0-ce42-efe8b7cc173c"
      },
      "source": [
        "def f(n):\n",
        "  if n < 2:\n",
        "    fibo[n] = n\n",
        "    return fibo[n]\n",
        "  fibo[n] = f(n - 1) + f(n - 2)\n",
        "  return fibo[n]\n",
        "\n",
        "n = int(input())\n",
        "\n",
        "# initialize a list of size (n+1)\n",
        "fibo = [0] * (n + 1)\n",
        "\n",
        "# call once and it will set value to fibo[0-n]\n",
        "f(n)\n",
        "\n",
        "# converting integer data to string type\n",
        "fibo = [str(i) for i in fibo]\n",
        "\n",
        "# joining all string element of fibo with ',' character\n",
        "ans = \",\".join(fibo)\n",
        "\n",
        "print(ans)"
      ],
      "execution_count": 4,
      "outputs": [
        {
          "output_type": "stream",
          "text": [
            "7\n",
            "0,1,1,2,3,5,8,13\n"
          ],
          "name": "stdout"
        }
      ]
    },
    {
      "cell_type": "code",
      "metadata": {
        "colab": {
          "base_uri": "https://localhost:8080/"
        },
        "id": "N14AdOTKRrgI",
        "outputId": "8fb8a9a4-6f85-4acd-e3cf-57b452262510"
      },
      "source": [
        "'''Solution by: lcastrooliveira\n",
        "'''\n",
        "\n",
        "def question_62(n):\n",
        "  if n == 0:\n",
        "    return [0]\n",
        "  if n == 1:\n",
        "    return [0, 1]\n",
        "  sequence = [0, 1]\n",
        "  a, b = 0, 1\n",
        "  for x in range(2, n + 1):\n",
        "    c = a + b\n",
        "    sequence.append(c)\n",
        "    a = b\n",
        "    b = c\n",
        "  return sequence\n",
        "\n",
        "print(question_62(7))"
      ],
      "execution_count": 5,
      "outputs": [
        {
          "output_type": "stream",
          "text": [
            "[0, 1, 1, 2, 3, 5, 8, 13]\n"
          ],
          "name": "stdout"
        }
      ]
    },
    {
      "cell_type": "markdown",
      "metadata": {
        "id": "RV1xkX99S5V4"
      },
      "source": [
        "## **Question 63**\n",
        "Question\n",
        "Please write a program using generator to print the even numbers\n",
        "between 0 and n in comma separated form while n is input by console.\n",
        "\n",
        "Example: If the following n is given as input to the program:\n",
        "\n",
        "10\n",
        "\n",
        "Then, the output of the program should be:\n",
        "\n",
        "0,2,4,6,8,10\n",
        "\n",
        "In case of input data being supplied to the question, it should be assumed to be a console input.\n",
        "\n",
        "### **Hints**\n",
        "Use yield to produce the next value in generator."
      ]
    },
    {
      "cell_type": "code",
      "metadata": {
        "colab": {
          "base_uri": "https://localhost:8080/"
        },
        "id": "dzsqE_wwTHLx",
        "outputId": "b773187c-8027-4df6-bb94-a05665b34296"
      },
      "source": [
        "def EvenGenerator(n):\n",
        "  i = 0\n",
        "  while i <= n:\n",
        "    if i % 2 == 0:\n",
        "      yield i\n",
        "    i += 1\n",
        "n = int(input())\n",
        "\n",
        "values = []\n",
        "\n",
        "for i in EvenGenerator(n):\n",
        "  values.append(str(i))\n",
        "\n",
        "print(\",\".join(values))"
      ],
      "execution_count": 6,
      "outputs": [
        {
          "output_type": "stream",
          "text": [
            "10\n",
            "0,2,4,6,8,10\n"
          ],
          "name": "stdout"
        }
      ]
    },
    {
      "cell_type": "code",
      "metadata": {
        "colab": {
          "base_uri": "https://localhost:8080/"
        },
        "id": "Ib1FZni3UCGd",
        "outputId": "3a624a0b-46de-4b0a-d096-8631b0ba0bfc"
      },
      "source": [
        "# Solution by: StartZer0\n",
        "\n",
        "n = int(input())\n",
        "\n",
        "for i in range(0, n + 1, 2):\n",
        "  if i < n - 1:\n",
        "    print(i, end = ',')\n",
        "  else:\n",
        "    print(i)"
      ],
      "execution_count": 7,
      "outputs": [
        {
          "output_type": "stream",
          "text": [
            "10\n",
            "0,2,4,6,8,10\n"
          ],
          "name": "stdout"
        }
      ]
    },
    {
      "cell_type": "markdown",
      "metadata": {
        "id": "eOjD2y3FUne7"
      },
      "source": [
        "## **Question 64**\n",
        "Question\n",
        "Please write a program using generator to print the numbers\n",
        "which can be divisible by 5 and 7 between 0 and n\n",
        "in comma separated form while n is input by console.\n",
        "\n",
        "Example: If the following n is given as input to the program:\n",
        "\n",
        "**100**\n",
        "\n",
        "Then, the output of the program should be:\n",
        "\n",
        "**0,35,70**\n",
        "\n",
        "In case of input data being supplied to the question, it should be assumed to be a console input.\n",
        "\n",
        "### **Hints**\n",
        "Use yield to produce the next value in generator."
      ]
    },
    {
      "cell_type": "code",
      "metadata": {
        "colab": {
          "base_uri": "https://localhost:8080/"
        },
        "id": "_XUj4pYTU2VT",
        "outputId": "b2ec6283-e48e-4def-f947-5a57042cb41a"
      },
      "source": [
        "def NumGenerator(n):\n",
        "  for i in range(n + 1):\n",
        "    if i % 5 == 0 and i % 7 == 0:\n",
        "      yield i\n",
        "\n",
        "n = int(input())\n",
        "\n",
        "values = []\n",
        "\n",
        "for i in NumGenerator(n):\n",
        "  values.append(str(i))\n",
        "\n",
        "print(','.join(values))"
      ],
      "execution_count": 8,
      "outputs": [
        {
          "output_type": "stream",
          "text": [
            "100\n",
            "0,35,70\n"
          ],
          "name": "stdout"
        }
      ]
    },
    {
      "cell_type": "code",
      "metadata": {
        "colab": {
          "base_uri": "https://localhost:8080/"
        },
        "id": "G2rgoRS8VhvM",
        "outputId": "a211dbbd-5308-4590-cad0-e16d7a4a293e"
      },
      "source": [
        "def generate(n):\n",
        "  for i in range(n + 1):\n",
        "    # 5*7 = 35, if a number is divisible by a & b then it is also divisible by a*b\n",
        "    if i % 35 == 0:\n",
        "      yield i\n",
        "\n",
        "n = int(input())\n",
        "\n",
        "resp = [str(i) for i in generate(n)]\n",
        "\n",
        "print(\",\".join(resp))"
      ],
      "execution_count": 9,
      "outputs": [
        {
          "output_type": "stream",
          "text": [
            "100\n",
            "0,35,70\n"
          ],
          "name": "stdout"
        }
      ]
    }
  ]
}