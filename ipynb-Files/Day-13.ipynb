{
  "nbformat": 4,
  "nbformat_minor": 0,
  "metadata": {
    "colab": {
      "name": "Untitled1.ipynb",
      "provenance": [],
      "collapsed_sections": [],
      "toc_visible": true
    },
    "kernelspec": {
      "name": "python3",
      "display_name": "Python 3"
    }
  },
  "cells": [
    {
      "cell_type": "markdown",
      "metadata": {
        "id": "h6mgspFSAJxv"
      },
      "source": [
        "# **Day-13**"
      ]
    },
    {
      "cell_type": "markdown",
      "metadata": {
        "id": "DnKu8XWxqn2G"
      },
      "source": [
        "## **Question 47**\n",
        "Question\n",
        "Define a class named Circle which can be constructed by a radius.\n",
        "The Circle class has a method which can compute the area.\n",
        "\n",
        "### **Hints**\n",
        "Use def methodName(self) to define a method."
      ]
    },
    {
      "cell_type": "code",
      "metadata": {
        "colab": {
          "base_uri": "https://localhost:8080/"
        },
        "id": "xN8PK5Biq3Ge",
        "outputId": "a487a9ef-0de8-4242-8a58-b286a67482fc"
      },
      "source": [
        "class Circle():\n",
        "  def __init__(self, init_r):\n",
        "    self.radius = init_r\n",
        "  \n",
        "  def area(self):\n",
        "    return 3.1416 * (self.radius ** 2)\n",
        "\n",
        "circle = Circle(5)\n",
        "print(circle.area())"
      ],
      "execution_count": 7,
      "outputs": [
        {
          "output_type": "stream",
          "text": [
            "78.53999999999999\n"
          ],
          "name": "stdout"
        }
      ]
    },
    {
      "cell_type": "markdown",
      "metadata": {
        "id": "mKl6YRoMxc_h"
      },
      "source": [
        "## **Question 48**\n",
        "Question\n",
        "Define a class named Rectangle which can be constructed by a length and width.\n",
        "The Rectangle class has a method which can compute the area.\n",
        "\n",
        "### **Hints**\n",
        "Use def methodName(self) to define a method."
      ]
    },
    {
      "cell_type": "code",
      "metadata": {
        "colab": {
          "base_uri": "https://localhost:8080/"
        },
        "id": "dYS8baFVxmJH",
        "outputId": "23eec8f6-0d4c-465f-86b2-b0399305d5ef"
      },
      "source": [
        "class Rectangle():\n",
        "\n",
        "  def __init__(self, init_l, init_w):\n",
        "    self.length = init_l\n",
        "    self.width = init_w\n",
        "  \n",
        "  def area(self):\n",
        "    return self.length * self.width\n",
        "\n",
        "rect = Rectangle(2, 4)\n",
        "print(rect.area())"
      ],
      "execution_count": 8,
      "outputs": [
        {
          "output_type": "stream",
          "text": [
            "8\n"
          ],
          "name": "stdout"
        }
      ]
    },
    {
      "cell_type": "markdown",
      "metadata": {
        "id": "uinlVtzrzUG9"
      },
      "source": [
        "## **Question 49**\n",
        "Question\n",
        "Define a class named Shape and its subclass Square. The Square class has an init function\n",
        "which takes a length as argument. Both classes have a area function which can print the area\n",
        "of the shape where Shape's area is 0 by default.\n",
        "\n",
        "### **Hints**\n",
        "To override a method in super class, we can define a method with the same name in the super class."
      ]
    },
    {
      "cell_type": "code",
      "metadata": {
        "colab": {
          "base_uri": "https://localhost:8080/"
        },
        "id": "PrQUWNpmzk3b",
        "outputId": "f147a1ea-2c51-4bc9-a11b-1fcb4043289d"
      },
      "source": [
        "class Shape():\n",
        "  def __init__(self):\n",
        "    pass\n",
        "  \n",
        "  def area(self):\n",
        "    pass\n",
        "\n",
        "class Square(Shape):\n",
        "  def __init__(self, init_length = 0):\n",
        "    Shape.__init__(self)\n",
        "    self.length = init_length\n",
        "  \n",
        "  def area(self):\n",
        "    return self.length * self.length\n",
        "\n",
        "Mysqr = Square(5)\n",
        "\n",
        "# prints 25 as given argument\n",
        "print(Mysqr.area())\n",
        "\n",
        "# prints zero as default area\n",
        "print(Square().area())"
      ],
      "execution_count": 9,
      "outputs": [
        {
          "output_type": "stream",
          "text": [
            "25\n",
            "0\n"
          ],
          "name": "stdout"
        }
      ]
    },
    {
      "cell_type": "markdown",
      "metadata": {
        "id": "TohkNOGu2j02"
      },
      "source": [
        "## **Question 50**\n",
        "Question\n",
        "Please raise a RuntimeError exception.\n",
        "\n",
        "### **Hints**\n",
        "Use raise() to raise an exception."
      ]
    },
    {
      "cell_type": "code",
      "metadata": {
        "colab": {
          "base_uri": "https://localhost:8080/",
          "height": 169
        },
        "id": "40pUiGUY2sV5",
        "outputId": "2ebcf10a-8277-4cae-a101-3cb75d7a0307"
      },
      "source": [
        "raise RuntimeError('something went wrong')"
      ],
      "execution_count": 10,
      "outputs": [
        {
          "output_type": "error",
          "ename": "RuntimeError",
          "evalue": "ignored",
          "traceback": [
            "\u001b[0;31m---------------------------------------------------------------------------\u001b[0m",
            "\u001b[0;31mRuntimeError\u001b[0m                              Traceback (most recent call last)",
            "\u001b[0;32m<ipython-input-10-1da0726e43f4>\u001b[0m in \u001b[0;36m<module>\u001b[0;34m()\u001b[0m\n\u001b[0;32m----> 1\u001b[0;31m \u001b[0;32mraise\u001b[0m \u001b[0mRuntimeError\u001b[0m\u001b[0;34m(\u001b[0m\u001b[0;34m'something went wrong'\u001b[0m\u001b[0;34m)\u001b[0m\u001b[0;34m\u001b[0m\u001b[0;34m\u001b[0m\u001b[0m\n\u001b[0m",
            "\u001b[0;31mRuntimeError\u001b[0m: something went wrong"
          ]
        }
      ]
    }
  ]
}