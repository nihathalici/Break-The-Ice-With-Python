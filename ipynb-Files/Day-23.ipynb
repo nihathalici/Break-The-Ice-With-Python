{
  "nbformat": 4,
  "nbformat_minor": 0,
  "metadata": {
    "colab": {
      "name": "Untitled1.ipynb",
      "provenance": [],
      "collapsed_sections": [],
      "toc_visible": true
    },
    "kernelspec": {
      "name": "python3",
      "display_name": "Python 3"
    }
  },
  "cells": [
    {
      "cell_type": "markdown",
      "metadata": {
        "id": "h6mgspFSAJxv"
      },
      "source": [
        "# **Day-23**"
      ]
    },
    {
      "cell_type": "markdown",
      "metadata": {
        "id": "W_XIJHXaoyH7"
      },
      "source": [
        "## **Question 95**\n",
        "Question\n",
        "Given the participants' score sheet for your University Sports Day,\n",
        "you are required to find the runner-up score. You are given scores.\n",
        "Store them in a list and find the score of the runner-up.\n",
        "\n",
        "If the following string is given as input to the program:\n",
        "\n",
        "5\n",
        "2 3 6 6 5\n",
        "\n",
        "Then, the output of the program should be:\n",
        "\n",
        "5\n",
        "\n",
        "### **Hints**\n",
        "Make the scores unique and then find 2nd best number\n"
      ]
    },
    {
      "cell_type": "code",
      "metadata": {
        "colab": {
          "base_uri": "https://localhost:8080/"
        },
        "id": "pSqZujRMpJ8A",
        "outputId": "a8fe4627-e74d-4a27-9cb6-f037c241883a"
      },
      "source": [
        "'''\n",
        "Solution by: mishrasunny-coder\n",
        "'''\n",
        "\n",
        "num = int(input(\"Enter num: \"))\n",
        "\n",
        "L = []\n",
        "\n",
        "while True:\n",
        "  L.append(num)\n",
        "  num = int(input(\"Enter another: \"))\n",
        "  if num == 0:\n",
        "    break\n",
        "\n",
        "L1 = list(set(L[:]))\n",
        "\n",
        "L2 = sorted(L1)\n",
        "\n",
        "print(f'The runner up is {L2[-2]}')"
      ],
      "execution_count": null,
      "outputs": [
        {
          "output_type": "stream",
          "text": [
            "Enter num: 5\n",
            "Enter another: 2\n",
            "Enter another: 3\n",
            "Enter another: 6\n",
            "Enter another: 6\n",
            "Enter another: 5\n",
            "Enter another: 0\n",
            "The runner up is 5\n"
          ],
          "name": "stdout"
        }
      ]
    },
    {
      "cell_type": "markdown",
      "metadata": {
        "id": "V_BlN9u_Jgr4"
      },
      "source": [
        "## **Question 96**\n",
        "Question\n",
        "You are given a string S and width W.\n",
        "Your task is to wrap the string into a paragraph of width.\n",
        "\n",
        "If the following string is given as input to the program:\n",
        "```\n",
        "ABCDEFGHIJKLIMNOQRSTUVWXYZ\n",
        "4\n",
        "```\n",
        "Then, the output of the program should be:\n",
        "```\n",
        "ABCD\n",
        "EFGH\n",
        "IJKL\n",
        "IMNO\n",
        "QRST\n",
        "UVWX\n",
        "YZ\n",
        "```\n",
        "### **Hints**\n",
        "Use wrap function of textwrap module\n"
      ]
    },
    {
      "cell_type": "code",
      "metadata": {
        "colab": {
          "base_uri": "https://localhost:8080/"
        },
        "id": "6E78kmqJJ94S",
        "outputId": "4cb287fd-b17d-4f18-9ba9-101104dbfba2"
      },
      "source": [
        "import textwrap\n",
        "\n",
        "def wrap(string, max_width):\n",
        "  string = textwrap.wrap(string, max_width)\n",
        "  string = \"\\n\".join(string)\n",
        "  return string\n",
        "\n",
        "if __name__ == '__main__':\n",
        "  string, max_width = input(), int(input())\n",
        "  result = wrap(string, max_width)\n",
        "  print(result)"
      ],
      "execution_count": 1,
      "outputs": [
        {
          "output_type": "stream",
          "text": [
            "ABCDEFGHIJKLIMNOQRSTUVWXYZ\n",
            "4\n",
            "ABCD\n",
            "EFGH\n",
            "IJKL\n",
            "IMNO\n",
            "QRST\n",
            "UVWX\n",
            "YZ\n"
          ],
          "name": "stdout"
        }
      ]
    },
    {
      "cell_type": "code",
      "metadata": {
        "colab": {
          "base_uri": "https://localhost:8080/"
        },
        "id": "kml-2jjMLIdm",
        "outputId": "5b366682-c48a-4acd-b13c-cd4ee9c523ce"
      },
      "source": [
        "\"\"\"Solution by: mishrasunny-coder\n",
        "\"\"\"\n",
        "\n",
        "import textwrap\n",
        "\n",
        "string = input()\n",
        "\n",
        "width = int(input())\n",
        "\n",
        "print(textwrap.fill(string, width))"
      ],
      "execution_count": 2,
      "outputs": [
        {
          "output_type": "stream",
          "text": [
            "ABCDEFGHIJKLIMNOQRSTUVWXYZ\n",
            "4\n",
            "ABCD\n",
            "EFGH\n",
            "IJKL\n",
            "IMNO\n",
            "QRST\n",
            "UVWX\n",
            "YZ\n"
          ],
          "name": "stdout"
        }
      ]
    },
    {
      "cell_type": "code",
      "metadata": {
        "colab": {
          "base_uri": "https://localhost:8080/"
        },
        "id": "rHLqhQ52L8-P",
        "outputId": "b217a8fe-4c16-4e17-fd8c-db4906468cc0"
      },
      "source": [
        "\"\"\"solution by  : Prashanth\n",
        "\"\"\"\n",
        "\n",
        "from textwrap import wrap\n",
        "\n",
        "x = str(input(\": \"))\n",
        "w = int(input())\n",
        "z = list(wrap(x, w))\n",
        "\n",
        "for i in z:\n",
        "  print(i)"
      ],
      "execution_count": 4,
      "outputs": [
        {
          "output_type": "stream",
          "text": [
            ": ABCDEFGHIJKLIMNOQRSTUVWXYZ\n",
            "4\n",
            "ABCD\n",
            "EFGH\n",
            "IJKL\n",
            "IMNO\n",
            "QRST\n",
            "UVWX\n",
            "YZ\n"
          ],
          "name": "stdout"
        }
      ]
    },
    {
      "cell_type": "code",
      "metadata": {
        "colab": {
          "base_uri": "https://localhost:8080/"
        },
        "id": "jR40zIQBN3pC",
        "outputId": "275852f9-703b-480e-f3c0-137f379d0948"
      },
      "source": [
        "\"\"\"solution by  : saxenaharsh24\n",
        "\"\"\"\n",
        "\n",
        "import textwrap\n",
        "\n",
        "string = input('')\n",
        "\n",
        "print('\\n'.join(textwrap.wrap(string, width = int(input('')))))"
      ],
      "execution_count": 7,
      "outputs": [
        {
          "output_type": "stream",
          "text": [
            "ABCDEFGHIJKLIMNOQRSTUVWXYZ\n",
            "4\n",
            "ABCD\n",
            "EFGH\n",
            "IJKL\n",
            "IMNO\n",
            "QRST\n",
            "UVWX\n",
            "YZ\n"
          ],
          "name": "stdout"
        }
      ]
    },
    {
      "cell_type": "code",
      "metadata": {
        "colab": {
          "base_uri": "https://localhost:8080/"
        },
        "id": "00o9NSfoOxsk",
        "outputId": "32b99df9-c9b4-4413-e840-efc2d00aea60"
      },
      "source": [
        "\"\"\"solution by  : popomaticbubble\n",
        "\"\"\"\n",
        "\n",
        "import itertools\n",
        "\n",
        "string = input(\"> \")\n",
        "\n",
        "width_length = int(input(\"What is the width of the groupings? \"))\n",
        "\n",
        "def grouper(string, width):\n",
        "  iters = [iter(string)] * width\n",
        "  return itertools.zip_longest(*iters, fillvalue = '')\n",
        "\n",
        "def displayer(groups):\n",
        "  for x in groups:\n",
        "    if x == '':\n",
        "      continue\n",
        "    else:\n",
        "      print(''.join(x))\n",
        "\n",
        "displayer(grouper(string, width_length))"
      ],
      "execution_count": 8,
      "outputs": [
        {
          "output_type": "stream",
          "text": [
            "> ABCDEFGHIJKLIMNOQRSTUVWXYZ\n",
            "What is the width of the groupings? 4\n",
            "ABCD\n",
            "EFGH\n",
            "IJKL\n",
            "IMNO\n",
            "QRST\n",
            "UVWX\n",
            "YZ\n"
          ],
          "name": "stdout"
        }
      ]
    },
    {
      "cell_type": "markdown",
      "metadata": {
        "id": "X0y7FiSeqRAe"
      },
      "source": [
        "## **Question 97**\n",
        "Question\n",
        "You are given an integer, N. Your task is to print an alphabet rangoli of size N.\n",
        "(Rangoli is a form of Indian folk art based on creation of patterns.)\n",
        "\n",
        "Different sizes of alphabet rangoli are shown below:\n",
        "```\n",
        "#size 3\n",
        "\n",
        "----c----\n",
        "--c-b-c--\n",
        "c-b-a-b-c\n",
        "--c-b-c--\n",
        "----c----\n",
        "\n",
        "#size 5\n",
        "\n",
        "--------e--------\n",
        "------e-d-e------\n",
        "----e-d-c-d-e----\n",
        "--e-d-c-b-c-d-e--\n",
        "e-d-c-b-a-b-c-d-e\n",
        "--e-d-c-b-c-d-e--\n",
        "----e-d-c-d-e----\n",
        "------e-d-e------\n",
        "--------e--------\n",
        "```\n",
        "### **Hints**\n",
        "First print the half of the Rangoli in the given way and save each line in a list.\n",
        "Then print the list in reverse order to get the rest.\n"
      ]
    },
    {
      "cell_type": "code",
      "metadata": {
        "colab": {
          "base_uri": "https://localhost:8080/"
        },
        "id": "3HalouDuqoyz",
        "outputId": "a212bffa-05a8-4f56-a861-40619a9aef5d"
      },
      "source": [
        "import string\n",
        "\n",
        "def print_rangoli(size):\n",
        "  n = size\n",
        "  alph = string.ascii_lowercase\n",
        "  width = 4 * n - 3\n",
        "\n",
        "  ans = []\n",
        "  for i in range(n):\n",
        "    left = '-'.join(alph[n - i - 1:n])\n",
        "    mid = left[-1:0:-1] + left\n",
        "    final = mid.center(width, '-')\n",
        "    ans.append(final)\n",
        "  \n",
        "  if len(ans) > 1:\n",
        "    for i in ans[n - 2::-1]:\n",
        "      ans.append(i)\n",
        "  ans = '\\n'.join(ans)\n",
        "  print(ans)\n",
        "\n",
        "if __name__ == '__main__':\n",
        "  n = int(input())\n",
        "  print_rangoli(n)"
      ],
      "execution_count": 4,
      "outputs": [
        {
          "output_type": "stream",
          "text": [
            "3\n",
            "----c----\n",
            "--c-b-c--\n",
            "c-b-a-b-c\n",
            "--c-b-c--\n",
            "----c----\n"
          ],
          "name": "stdout"
        }
      ]
    },
    {
      "cell_type": "code",
      "metadata": {
        "colab": {
          "base_uri": "https://localhost:8080/"
        },
        "id": "0U5ph0R2tc9m",
        "outputId": "c0af904d-d51d-4384-9ae2-bad09f1d5927"
      },
      "source": [
        "\n",
        "'''Solution by: suggula jaswanth\n",
        "'''\n",
        "\n",
        "def rangoli(n):\n",
        "  l1 = list(map(chr, range(97, 123)))\n",
        "  x = l1[n - 1::-1] + l1[1 : n]\n",
        "  mid = len('-'.join(x))\n",
        "  for i in range(1, n):\n",
        "    print('-'.join(l1[n - 1 : n - i : -1] + l1[n - i : n]).center(mid, '-'))\n",
        "  for i in range(n, 0, -1):\n",
        "    print('-'.join(l1[n - 1 : n - i : -1] + l1[n - i : n]).center(mid, '-'))\n",
        "\n",
        "rangoli(5)"
      ],
      "execution_count": 3,
      "outputs": [
        {
          "output_type": "stream",
          "text": [
            "--------e--------\n",
            "------e-d-e------\n",
            "----e-d-c-d-e----\n",
            "--e-d-c-b-c-d-e--\n",
            "e-d-c-b-a-b-c-d-e\n",
            "--e-d-c-b-c-d-e--\n",
            "----e-d-c-d-e----\n",
            "------e-d-e------\n",
            "--------e--------\n"
          ],
          "name": "stdout"
        }
      ]
    },
    {
      "cell_type": "markdown",
      "metadata": {
        "id": "GOPnXR2MyB4M"
      },
      "source": [
        "## **Question 98**\n",
        "Question\n",
        "You are given a date. Your task is to find what the day is on that date.\n",
        "\n",
        "Input\n",
        "\n",
        "A single line of input containing the space separated month, day and year,\n",
        "respectively, in MM DD YYYY format.\n",
        "\n",
        "08 05 2015\n",
        "\n",
        "Output\n",
        "\n",
        "Output the correct day in capital letters.\n",
        "\n",
        "WEDNESDAY\n",
        "\n",
        "### **Hints**\n",
        "Use weekday function of calendar module\n"
      ]
    },
    {
      "cell_type": "code",
      "metadata": {
        "colab": {
          "base_uri": "https://localhost:8080/"
        },
        "id": "l6sTm4s_x_2C",
        "outputId": "e309da28-eaa7-4838-f1de-622019f2984e"
      },
      "source": [
        "import calendar\n",
        "\n",
        "month, day, year = map(int, input().split())\n",
        "\n",
        "dayId = calendar.weekday(year, month, day)\n",
        "\n",
        "print(calendar.day_name[dayId].upper())"
      ],
      "execution_count": 5,
      "outputs": [
        {
          "output_type": "stream",
          "text": [
            "08 05 2015\n",
            "WEDNESDAY\n"
          ],
          "name": "stdout"
        }
      ]
    },
    {
      "cell_type": "markdown",
      "metadata": {
        "id": "VtpKrcLA0UIW"
      },
      "source": [
        "## **Question 99**\n",
        "Question\n",
        "Given 2 sets of integers, M and N, print their\n",
        "symmetric difference in ascending order.\n",
        "The term symmetric difference indicates those values\n",
        "that exist in either M or N but do not exist in both.\n",
        "\n",
        "Input\n",
        "\n",
        "The first line of input contains an integer, M.\n",
        "The second line contains M space-separated integers.\n",
        "The third line contains an integer, N.\n",
        "The fourth line contains N space-separated integers.\n",
        "```\n",
        "4\n",
        "2 4 5 9\n",
        "4\n",
        "2 4 11 12\n",
        "```\n",
        "Output\n",
        "\n",
        "Output the symmetric difference integers in ascending order, one per line.\n",
        "```\n",
        "5\n",
        "9\n",
        "11\n",
        "12\n",
        "```\n",
        "### **Hints**\n",
        "Use '^' to make symmetric difference operation.\n"
      ]
    },
    {
      "cell_type": "code",
      "metadata": {
        "colab": {
          "base_uri": "https://localhost:8080/"
        },
        "id": "PnPrHOEB0ehp",
        "outputId": "1ef39313-1a57-4929-fc60-6930b655c275"
      },
      "source": [
        "if __name__ == '__main__':\n",
        "  n = int(input())\n",
        "  set1 = set(map(int, input().split()))\n",
        "\n",
        "  m = int(input())\n",
        "  set2 = set(map(int, input().split()))\n",
        "\n",
        "  ans = list(set1 ^ set2)\n",
        "\n",
        "  ans.sort()\n",
        "\n",
        "  for i in ans:\n",
        "    print(i)"
      ],
      "execution_count": 6,
      "outputs": [
        {
          "output_type": "stream",
          "text": [
            "4\n",
            "2 4 5 9\n",
            "4\n",
            "2 4 11 12\n",
            "5\n",
            "9\n",
            "11\n",
            "12\n"
          ],
          "name": "stdout"
        }
      ]
    }
  ]
}