{
  "nbformat": 4,
  "nbformat_minor": 0,
  "metadata": {
    "colab": {
      "name": "Untitled1.ipynb",
      "provenance": [],
      "collapsed_sections": [],
      "toc_visible": true
    },
    "kernelspec": {
      "name": "python3",
      "display_name": "Python 3"
    }
  },
  "cells": [
    {
      "cell_type": "markdown",
      "metadata": {
        "id": "h6mgspFSAJxv"
      },
      "source": [
        "# **Day-23**"
      ]
    },
    {
      "cell_type": "markdown",
      "metadata": {
        "id": "W_XIJHXaoyH7"
      },
      "source": [
        "## **Question 95**\n",
        "Question\n",
        "Given the participants' score sheet for your University Sports Day,\n",
        "you are required to find the runner-up score. You are given scores.\n",
        "Store them in a list and find the score of the runner-up.\n",
        "\n",
        "If the following string is given as input to the program:\n",
        "\n",
        "5\n",
        "2 3 6 6 5\n",
        "\n",
        "Then, the output of the program should be:\n",
        "\n",
        "5\n",
        "\n",
        "### **Hints**\n",
        "Make the scores unique and then find 2nd best number\n"
      ]
    },
    {
      "cell_type": "code",
      "metadata": {
        "colab": {
          "base_uri": "https://localhost:8080/"
        },
        "id": "pSqZujRMpJ8A",
        "outputId": "a8fe4627-e74d-4a27-9cb6-f037c241883a"
      },
      "source": [
        "'''\n",
        "Solution by: mishrasunny-coder\n",
        "'''\n",
        "\n",
        "num = int(input(\"Enter num: \"))\n",
        "\n",
        "L = []\n",
        "\n",
        "while True:\n",
        "  L.append(num)\n",
        "  num = int(input(\"Enter another: \"))\n",
        "  if num == 0:\n",
        "    break\n",
        "\n",
        "L1 = list(set(L[:]))\n",
        "\n",
        "L2 = sorted(L1)\n",
        "\n",
        "print(f'The runner up is {L2[-2]}')"
      ],
      "execution_count": null,
      "outputs": [
        {
          "output_type": "stream",
          "text": [
            "Enter num: 5\n",
            "Enter another: 2\n",
            "Enter another: 3\n",
            "Enter another: 6\n",
            "Enter another: 6\n",
            "Enter another: 5\n",
            "Enter another: 0\n",
            "The runner up is 5\n"
          ],
          "name": "stdout"
        }
      ]
    },
    {
      "cell_type": "markdown",
      "metadata": {
        "id": "V_BlN9u_Jgr4"
      },
      "source": [
        "## **Question 96**\n",
        "Question\n",
        "You are given a string S and width W.\n",
        "Your task is to wrap the string into a paragraph of width.\n",
        "\n",
        "If the following string is given as input to the program:\n",
        "```\n",
        "ABCDEFGHIJKLIMNOQRSTUVWXYZ\n",
        "4\n",
        "```\n",
        "Then, the output of the program should be:\n",
        "```\n",
        "ABCD\n",
        "EFGH\n",
        "IJKL\n",
        "IMNO\n",
        "QRST\n",
        "UVWX\n",
        "YZ\n",
        "```\n",
        "### **Hints**\n",
        "Use wrap function of textwrap module\n"
      ]
    },
    {
      "cell_type": "code",
      "metadata": {
        "colab": {
          "base_uri": "https://localhost:8080/"
        },
        "id": "6E78kmqJJ94S",
        "outputId": "4cb287fd-b17d-4f18-9ba9-101104dbfba2"
      },
      "source": [
        "import textwrap\n",
        "\n",
        "def wrap(string, max_width):\n",
        "  string = textwrap.wrap(string, max_width)\n",
        "  string = \"\\n\".join(string)\n",
        "  return string\n",
        "\n",
        "if __name__ == '__main__':\n",
        "  string, max_width = input(), int(input())\n",
        "  result = wrap(string, max_width)\n",
        "  print(result)"
      ],
      "execution_count": 1,
      "outputs": [
        {
          "output_type": "stream",
          "text": [
            "ABCDEFGHIJKLIMNOQRSTUVWXYZ\n",
            "4\n",
            "ABCD\n",
            "EFGH\n",
            "IJKL\n",
            "IMNO\n",
            "QRST\n",
            "UVWX\n",
            "YZ\n"
          ],
          "name": "stdout"
        }
      ]
    },
    {
      "cell_type": "code",
      "metadata": {
        "colab": {
          "base_uri": "https://localhost:8080/"
        },
        "id": "kml-2jjMLIdm",
        "outputId": "5b366682-c48a-4acd-b13c-cd4ee9c523ce"
      },
      "source": [
        "\"\"\"Solution by: mishrasunny-coder\n",
        "\"\"\"\n",
        "\n",
        "import textwrap\n",
        "\n",
        "string = input()\n",
        "\n",
        "width = int(input())\n",
        "\n",
        "print(textwrap.fill(string, width))"
      ],
      "execution_count": 2,
      "outputs": [
        {
          "output_type": "stream",
          "text": [
            "ABCDEFGHIJKLIMNOQRSTUVWXYZ\n",
            "4\n",
            "ABCD\n",
            "EFGH\n",
            "IJKL\n",
            "IMNO\n",
            "QRST\n",
            "UVWX\n",
            "YZ\n"
          ],
          "name": "stdout"
        }
      ]
    },
    {
      "cell_type": "code",
      "metadata": {
        "colab": {
          "base_uri": "https://localhost:8080/"
        },
        "id": "rHLqhQ52L8-P",
        "outputId": "b217a8fe-4c16-4e17-fd8c-db4906468cc0"
      },
      "source": [
        "\"\"\"solution by  : Prashanth\n",
        "\"\"\"\n",
        "\n",
        "from textwrap import wrap\n",
        "\n",
        "x = str(input(\": \"))\n",
        "w = int(input())\n",
        "z = list(wrap(x, w))\n",
        "\n",
        "for i in z:\n",
        "  print(i)"
      ],
      "execution_count": 4,
      "outputs": [
        {
          "output_type": "stream",
          "text": [
            ": ABCDEFGHIJKLIMNOQRSTUVWXYZ\n",
            "4\n",
            "ABCD\n",
            "EFGH\n",
            "IJKL\n",
            "IMNO\n",
            "QRST\n",
            "UVWX\n",
            "YZ\n"
          ],
          "name": "stdout"
        }
      ]
    },
    {
      "cell_type": "code",
      "metadata": {
        "colab": {
          "base_uri": "https://localhost:8080/"
        },
        "id": "jR40zIQBN3pC",
        "outputId": "275852f9-703b-480e-f3c0-137f379d0948"
      },
      "source": [
        "\"\"\"solution by  : saxenaharsh24\n",
        "\"\"\"\n",
        "\n",
        "import textwrap\n",
        "\n",
        "string = input('')\n",
        "\n",
        "print('\\n'.join(textwrap.wrap(string, width = int(input('')))))"
      ],
      "execution_count": 7,
      "outputs": [
        {
          "output_type": "stream",
          "text": [
            "ABCDEFGHIJKLIMNOQRSTUVWXYZ\n",
            "4\n",
            "ABCD\n",
            "EFGH\n",
            "IJKL\n",
            "IMNO\n",
            "QRST\n",
            "UVWX\n",
            "YZ\n"
          ],
          "name": "stdout"
        }
      ]
    },
    {
      "cell_type": "code",
      "metadata": {
        "colab": {
          "base_uri": "https://localhost:8080/"
        },
        "id": "00o9NSfoOxsk",
        "outputId": "32b99df9-c9b4-4413-e840-efc2d00aea60"
      },
      "source": [
        "\"\"\"solution by  : popomaticbubble\n",
        "\"\"\"\n",
        "\n",
        "import itertools\n",
        "\n",
        "string = input(\"> \")\n",
        "\n",
        "width_length = int(input(\"What is the width of the groupings? \"))\n",
        "\n",
        "def grouper(string, width):\n",
        "  iters = [iter(string)] * width\n",
        "  return itertools.zip_longest(*iters, fillvalue = '')\n",
        "\n",
        "def displayer(groups):\n",
        "  for x in groups:\n",
        "    if x == '':\n",
        "      continue\n",
        "    else:\n",
        "      print(''.join(x))\n",
        "\n",
        "displayer(grouper(string, width_length))"
      ],
      "execution_count": 8,
      "outputs": [
        {
          "output_type": "stream",
          "text": [
            "> ABCDEFGHIJKLIMNOQRSTUVWXYZ\n",
            "What is the width of the groupings? 4\n",
            "ABCD\n",
            "EFGH\n",
            "IJKL\n",
            "IMNO\n",
            "QRST\n",
            "UVWX\n",
            "YZ\n"
          ],
          "name": "stdout"
        }
      ]
    }
  ]
}