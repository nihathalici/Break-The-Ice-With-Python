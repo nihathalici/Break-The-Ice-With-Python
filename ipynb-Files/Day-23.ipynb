{
  "nbformat": 4,
  "nbformat_minor": 0,
  "metadata": {
    "colab": {
      "name": "Untitled1.ipynb",
      "provenance": [],
      "collapsed_sections": [],
      "toc_visible": true
    },
    "kernelspec": {
      "name": "python3",
      "display_name": "Python 3"
    }
  },
  "cells": [
    {
      "cell_type": "markdown",
      "metadata": {
        "id": "h6mgspFSAJxv"
      },
      "source": [
        "# **Day-23**"
      ]
    },
    {
      "cell_type": "markdown",
      "metadata": {
        "id": "W_XIJHXaoyH7"
      },
      "source": [
        "## **Question 95**\n",
        "Question\n",
        "Given the participants' score sheet for your University Sports Day,\n",
        "you are required to find the runner-up score. You are given scores.\n",
        "Store them in a list and find the score of the runner-up.\n",
        "\n",
        "If the following string is given as input to the program:\n",
        "\n",
        "5\n",
        "2 3 6 6 5\n",
        "\n",
        "Then, the output of the program should be:\n",
        "\n",
        "5\n",
        "\n",
        "### **Hints**\n",
        "Make the scores unique and then find 2nd best number\n"
      ]
    },
    {
      "cell_type": "code",
      "metadata": {
        "colab": {
          "base_uri": "https://localhost:8080/"
        },
        "id": "pSqZujRMpJ8A",
        "outputId": "a8fe4627-e74d-4a27-9cb6-f037c241883a"
      },
      "source": [
        "'''\n",
        "Solution by: mishrasunny-coder\n",
        "'''\n",
        "\n",
        "num = int(input(\"Enter num: \"))\n",
        "\n",
        "L = []\n",
        "\n",
        "while True:\n",
        "  L.append(num)\n",
        "  num = int(input(\"Enter another: \"))\n",
        "  if num == 0:\n",
        "    break\n",
        "\n",
        "L1 = list(set(L[:]))\n",
        "\n",
        "L2 = sorted(L1)\n",
        "\n",
        "print(f'The runner up is {L2[-2]}')"
      ],
      "execution_count": 3,
      "outputs": [
        {
          "output_type": "stream",
          "text": [
            "Enter num: 5\n",
            "Enter another: 2\n",
            "Enter another: 3\n",
            "Enter another: 6\n",
            "Enter another: 6\n",
            "Enter another: 5\n",
            "Enter another: 0\n",
            "The runner up is 5\n"
          ],
          "name": "stdout"
        }
      ]
    }
  ]
}