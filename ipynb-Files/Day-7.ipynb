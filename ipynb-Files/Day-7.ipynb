{
  "nbformat": 4,
  "nbformat_minor": 0,
  "metadata": {
    "colab": {
      "name": "Untitled1.ipynb",
      "provenance": [],
      "collapsed_sections": [],
      "toc_visible": true
    },
    "kernelspec": {
      "name": "python3",
      "display_name": "Python 3"
    }
  },
  "cells": [
    {
      "cell_type": "markdown",
      "metadata": {
        "id": "h6mgspFSAJxv"
      },
      "source": [
        "# **Day-7**"
      ]
    },
    {
      "cell_type": "markdown",
      "metadata": {
        "id": "IffeXYvjs29z"
      },
      "source": [
        "## **Question 20**\n",
        "Question:\n",
        "Define a class with a generator which can iterate the numbers,\n",
        "which are divisible by 7, between a given range 0 and n.\n",
        "\n",
        "Suppose the following input is supplied to the program:\n",
        "\n",
        "**7**\n",
        "\n",
        "Then, the output should be:\n",
        "\n",
        "**0**\n",
        "\n",
        "**7**\n",
        "\n",
        "### **Hints:**\n",
        "Consider use class, function and comprehension."
      ]
    },
    {
      "cell_type": "code",
      "metadata": {
        "colab": {
          "base_uri": "https://localhost:8080/"
        },
        "id": "U1NqOp9GtN6d",
        "outputId": "bbd13b81-5309-4180-c60b-282d4bd12dc0"
      },
      "source": [
        "'''Solution by: ShalomPrinz\n",
        "'''\n",
        "\n",
        "class MyGen():\n",
        "  def by_seven(self, n):\n",
        "    for i in range(0, int(n/7) + 1):\n",
        "      yield i * 7\n",
        "\n",
        "for i in MyGen().by_seven(int(input('Please enter a number... '))):\n",
        "  print(i)"
      ],
      "execution_count": null,
      "outputs": [
        {
          "output_type": "stream",
          "text": [
            "Please enter a number... 7\n",
            "0\n",
            "7\n"
          ],
          "name": "stdout"
        }
      ]
    },
    {
      "cell_type": "code",
      "metadata": {
        "colab": {
          "base_uri": "https://localhost:8080/"
        },
        "id": "AuZaTNFtuYfk",
        "outputId": "d2b3ad87-4acd-4b51-c633-da135e272412"
      },
      "source": [
        "'''Solution by: Seawolf159\n",
        "'''\n",
        "\n",
        "class Divisible():\n",
        "  def by_seven(self, n):\n",
        "    for number in range(1, n + 1):\n",
        "      if number % 7 == 0:\n",
        "        yield number\n",
        "\n",
        "divisible = Divisible()\n",
        "\n",
        "generator = divisible.by_seven(int(input(\"Please insert a number. --> \")))\n",
        "\n",
        "for number in generator:\n",
        "  print(number)"
      ],
      "execution_count": null,
      "outputs": [
        {
          "output_type": "stream",
          "text": [
            "Please insert a number. --> 7\n",
            "7\n"
          ],
          "name": "stdout"
        }
      ]
    },
    {
      "cell_type": "markdown",
      "metadata": {
        "id": "84G6IjbMvgMZ"
      },
      "source": [
        "## **Question 21**\n",
        "Question:\n",
        "A robot moves in a plane starting from the original point (0,0).\n",
        "The robot can move toward UP, DOWN, LEFT and RIGHT with a given steps.\n",
        "The trace of robot movement is shown as the following:\n",
        "\n",
        "UP 5\n",
        "\n",
        "DOWN 3\n",
        "\n",
        "LEFT 3\n",
        "\n",
        "RIGHT 2\n",
        "\n",
        "The numbers after the direction are steps. Please write a program to compute\n",
        "the distance from current position after a sequence of movement and original point.\n",
        "If the distance is a float, then just print the nearest integer.\n",
        "Example: If the following tuples are given as input to the program:\n",
        "\n",
        "**UP 5**\n",
        "\n",
        "**DOWN 3**\n",
        "\n",
        "**LEFT 3**\n",
        "\n",
        "**RIGHT 2**\n",
        "\n",
        "Then, the output of the program should be:\n",
        "\n",
        "**2**\n",
        "\n",
        "### **Hints:**\n",
        "In case of input data being supplied to the question, it should be assumed to be a console input.\n",
        "Here distance indicates to euclidean distance.Import math module to use sqrt function.\n"
      ]
    },
    {
      "cell_type": "code",
      "metadata": {
        "colab": {
          "base_uri": "https://localhost:8080/"
        },
        "id": "jfyyJkiL78mi",
        "outputId": "7df08d3b-1508-4236-8bda-e24ab782b092"
      },
      "source": [
        "import math\n",
        "\n",
        "x, y = 0, 0\n",
        "\n",
        "while True:\n",
        "  s = input().split()\n",
        "  if not s:\n",
        "    break\n",
        "  # s[0] indicates command\n",
        "  if s[0] == 'UP':\n",
        "    # s[1] indicates command\n",
        "    x -= int(s[1])\n",
        "  if s[0] == 'DOWN':\n",
        "    x += int(s[1])\n",
        "  if s[0] == 'LEFT':\n",
        "    y -= int(s[1])\n",
        "  if s[0] == 'RIGHT':\n",
        "    y += int(s[1])\n",
        "\n",
        "# N**P means N^P\n",
        "# euclidean distance = square root of (x^2+y^2)\n",
        "# and rounding it to nearest integer\n",
        "\n",
        "dist = round(math.sqrt(x ** 2 + y ** 2))\n",
        "\n",
        "print(dist)"
      ],
      "execution_count": null,
      "outputs": [
        {
          "output_type": "stream",
          "text": [
            "UP 5\n",
            "DOWN 3\n",
            "LEFT 3\n",
            "RIGHT 2\n",
            "\n",
            "2\n"
          ],
          "name": "stdout"
        }
      ]
    },
    {
      "cell_type": "code",
      "metadata": {
        "colab": {
          "base_uri": "https://localhost:8080/"
        },
        "id": "gnU4B9Uf-K1_",
        "outputId": "cd713735-6842-4ced-e743-883b2b854462"
      },
      "source": [
        "'''Solution by: pratikb0501\n",
        "'''\n",
        "\n",
        "from math import sqrt\n",
        "\n",
        "lst = []\n",
        "position = [0, 0]\n",
        "\n",
        "while True:\n",
        "  a = input()\n",
        "  if not a:\n",
        "    break\n",
        "  lst.append(a)\n",
        "\n",
        "for i in lst:\n",
        "  if 'UP' in i:\n",
        "    position[0] -= int(i.strip('UP '))\n",
        "  if 'DOWN' in i:\n",
        "    position[0] += int(i.strip('DOWN '))\n",
        "  if 'LEFT' in i:\n",
        "    position[1] -= int(i.strip('LEFT '))\n",
        "  if 'RIGHT' in i:\n",
        "    position[1] += int(i.strip('RIGHT '))\n",
        "\n",
        "print(round(sqrt(position[1] ** 2 + position[0] ** 2)))"
      ],
      "execution_count": null,
      "outputs": [
        {
          "output_type": "stream",
          "text": [
            "UP 5\n",
            "DOWN 3\n",
            "LEFT 3\n",
            "RIGHT 2\n",
            "\n",
            "['UP 5', 'DOWN 3', 'LEFT 3', 'RIGHT 2']\n",
            "2\n"
          ],
          "name": "stdout"
        }
      ]
    }
  ]
}