{
  "nbformat": 4,
  "nbformat_minor": 0,
  "metadata": {
    "colab": {
      "name": "Untitled1.ipynb",
      "provenance": [],
      "collapsed_sections": [],
      "toc_visible": true
    },
    "kernelspec": {
      "name": "python3",
      "display_name": "Python 3"
    }
  },
  "cells": [
    {
      "cell_type": "markdown",
      "metadata": {
        "id": "h6mgspFSAJxv"
      },
      "source": [
        "# **Day-14**"
      ]
    },
    {
      "cell_type": "markdown",
      "metadata": {
        "id": "duYkZ1qSW5i_"
      },
      "source": [
        "## **Question 51**\n",
        "Question\n",
        "Write a function to compute 5/0 and use try/except to catch the exceptions.\n",
        "\n",
        "### **Hints**\n",
        "Use try/except to catch exceptions."
      ]
    },
    {
      "cell_type": "code",
      "metadata": {
        "colab": {
          "base_uri": "https://localhost:8080/"
        },
        "id": "ZH8r3mnVXEtx",
        "outputId": "98174830-89ba-40ee-9297-b0ac81b64172"
      },
      "source": [
        "def divide():\n",
        "  return 5 / 0\n",
        "\n",
        "try:\n",
        "  divide()\n",
        "except ZeroDivisionError as ze:\n",
        "  print(\"Why on earth you are dividing a number by ZERO!!\")\n",
        "except:\n",
        "  print(\"Any other exception\")"
      ],
      "execution_count": 1,
      "outputs": [
        {
          "output_type": "stream",
          "text": [
            "Why on earth you are dividing a number by ZERO!!\n"
          ],
          "name": "stdout"
        }
      ]
    },
    {
      "cell_type": "markdown",
      "metadata": {
        "id": "x1ccO-aGXmsc"
      },
      "source": [
        "## **Question 52**\n",
        "Question\n",
        "Define a custom exception class which takes a string message as attribute.\n",
        "\n",
        "### **Hints**\n",
        "To define a custom exception, we need to define a class inherited from Exception."
      ]
    },
    {
      "cell_type": "code",
      "metadata": {
        "colab": {
          "base_uri": "https://localhost:8080/"
        },
        "id": "RF3dQp9sX0wn",
        "outputId": "d19e3f6a-65c4-4af9-c55f-0406a3aa0fd3"
      },
      "source": [
        "class CustomException(Exception):\n",
        "  \"\"\"Exception raised for custom purpose\n",
        "\n",
        "  Attributes:\n",
        "      message --explanation of the error\n",
        "  \"\"\"\n",
        "\n",
        "  def __init__(self, init_message):\n",
        "    self.message = init_message\n",
        "\n",
        "num = int(input())\n",
        "\n",
        "try:\n",
        "  if num < 10:\n",
        "    raise CustomException(\"Input is less than 10\")\n",
        "  elif num > 10:\n",
        "    raise CustomException(\"Input is greater than 10\")\n",
        "except CustomException as ce:\n",
        "  print(\"The error raised: \" + ce.message)"
      ],
      "execution_count": 2,
      "outputs": [
        {
          "output_type": "stream",
          "text": [
            "7\n",
            "The error raised: Input is less than 10\n"
          ],
          "name": "stdout"
        }
      ]
    },
    {
      "cell_type": "markdown",
      "metadata": {
        "id": "QqeARHwuZOvw"
      },
      "source": [
        "## **Question 53**\n",
        "Question\n",
        "Assuming that we have some email addresses in the \"username@companyname.com\" format, please write program to print the user name of a given email address.\n",
        "Both user names and company names are composed of letters only.\n",
        "\n",
        "\n",
        "Example: If the following email address is given as input to the program:\n",
        "\n",
        "\n",
        "**john@google.com**\n",
        "\n",
        "\n",
        "Then, the output of the program should be:\n",
        "\n",
        "\n",
        "**john**\n",
        "\n",
        "\n",
        "In case of input data being supplied to the question, it should be assumed to be a console input.\n",
        "\n",
        "### **Hints**\n",
        "Use \\w to match letters.\n"
      ]
    },
    {
      "cell_type": "code",
      "metadata": {
        "colab": {
          "base_uri": "https://localhost:8080/"
        },
        "id": "aKswn1K_Zpjv",
        "outputId": "1c27c9a1-be96-474e-faff-ab4f571f2c6b"
      },
      "source": [
        "import re\n",
        "\n",
        "emailAddress = input()\n",
        "\n",
        "pat2 = \"(\\w+)@((\\w+\\.)+(com))\"\n",
        "\n",
        "r2 = re.match(pat2, emailAddress)\n",
        "\n",
        "print(r2.group(1))"
      ],
      "execution_count": 4,
      "outputs": [
        {
          "output_type": "stream",
          "text": [
            "john@google.com\n",
            "john\n"
          ],
          "name": "stdout"
        }
      ]
    },
    {
      "cell_type": "code",
      "metadata": {
        "colab": {
          "base_uri": "https://localhost:8080/"
        },
        "id": "xwu22ZDDbBiZ",
        "outputId": "1180c611-324a-4377-b15b-09fc75175fec"
      },
      "source": [
        "email = \"john@google.com\"\n",
        "\n",
        "email = email.split('@')\n",
        "\n",
        "print(email[0])"
      ],
      "execution_count": 6,
      "outputs": [
        {
          "output_type": "stream",
          "text": [
            "john\n"
          ],
          "name": "stdout"
        }
      ]
    },
    {
      "cell_type": "code",
      "metadata": {
        "colab": {
          "base_uri": "https://localhost:8080/"
        },
        "id": "paKrCMnJbZG2",
        "outputId": "7950b3fb-83a1-4ce2-f9a6-6fc4a65c618b"
      },
      "source": [
        "import re\n",
        "\n",
        "email = \"john@google.com elise@python.com\"\n",
        "\n",
        "pattern = \"(\\w+)@\\w+.com\"\n",
        "\n",
        "ans = re.findall(pattern, email)\n",
        "\n",
        "print(\", \".join(ans))"
      ],
      "execution_count": 7,
      "outputs": [
        {
          "output_type": "stream",
          "text": [
            "john, elise\n"
          ],
          "name": "stdout"
        }
      ]
    }
  ]
}