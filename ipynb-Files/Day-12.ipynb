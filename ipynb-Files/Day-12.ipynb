{
  "nbformat": 4,
  "nbformat_minor": 0,
  "metadata": {
    "colab": {
      "name": "Untitled1.ipynb",
      "provenance": [],
      "collapsed_sections": [],
      "toc_visible": true
    },
    "kernelspec": {
      "name": "python3",
      "display_name": "Python 3"
    }
  },
  "cells": [
    {
      "cell_type": "markdown",
      "metadata": {
        "id": "h6mgspFSAJxv"
      },
      "source": [
        "# **Day-12**"
      ]
    },
    {
      "cell_type": "markdown",
      "metadata": {
        "id": "4in3LhP3IjL9"
      },
      "source": [
        "## **Question 44**\n",
        "Question:\n",
        "Write a program which can map() to make a list whose elements\n",
        "are square of numbers between 1 and 20 (both included).\n",
        "\n",
        "### **Hints:**\n",
        "Use map() to generate a list.\n",
        "Use lambda to define anonymous functions."
      ]
    },
    {
      "cell_type": "code",
      "metadata": {
        "colab": {
          "base_uri": "https://localhost:8080/"
        },
        "id": "PXOVWKDTIxxN",
        "outputId": "f581b605-776b-4847-f2b2-38cfc655abd5"
      },
      "source": [
        "squaredNumbers = map(lambda x: x ** 2, range(1, 21))\n",
        "\n",
        "print(*squaredNumbers)"
      ],
      "execution_count": 1,
      "outputs": [
        {
          "output_type": "stream",
          "text": [
            "1 4 9 16 25 36 49 64 81 100 121 144 169 196 225 256 289 324 361 400\n"
          ],
          "name": "stdout"
        }
      ]
    },
    {
      "cell_type": "code",
      "metadata": {
        "colab": {
          "base_uri": "https://localhost:8080/"
        },
        "id": "4yeOvbs4JJum",
        "outputId": "6b5b1030-b275-4c1d-c23f-50df958cc9e7"
      },
      "source": [
        "def sqr(x):\n",
        "  return x * x\n",
        "\n",
        "squaredNumbers = list(map(sqr, range(1, 21)))\n",
        "\n",
        "print(squaredNumbers)"
      ],
      "execution_count": 2,
      "outputs": [
        {
          "output_type": "stream",
          "text": [
            "[1, 4, 9, 16, 25, 36, 49, 64, 81, 100, 121, 144, 169, 196, 225, 256, 289, 324, 361, 400]\n"
          ],
          "name": "stdout"
        }
      ]
    },
    {
      "cell_type": "markdown",
      "metadata": {
        "id": "sbEowRzmKYuN"
      },
      "source": [
        "## **Question 45**\n",
        "Question:\n",
        "Define a class named American which has a static method called printNationality.\n",
        "\n",
        "### **Hints:**\n",
        "Use @staticmethod decorator to define class static method.\n",
        "There are also two more methods.To know more, go to:\n",
        "https://realpython.com/instance-class-and-static-methods-demystified/."
      ]
    },
    {
      "cell_type": "code",
      "metadata": {
        "colab": {
          "base_uri": "https://localhost:8080/"
        },
        "id": "o6XPkPOkKmOp",
        "outputId": "4809f62b-cb41-414e-81e1-1c61825733a8"
      },
      "source": [
        "class American():\n",
        "  @staticmethod\n",
        "  def printNationality():\n",
        "    print(\"I am American\")\n",
        "\n",
        "american = American()\n",
        "\n",
        "# this will not run if @staticmethod does not decorates the function.\n",
        "# Because the class has no instance.\n",
        "american.printNationality()\n",
        "\n",
        "# this will run even though the @staticmethod\n",
        "# does not decorate printNationality()\n",
        "American.printNationality()"
      ],
      "execution_count": 9,
      "outputs": [
        {
          "output_type": "stream",
          "text": [
            "I am American\n",
            "I am American\n"
          ],
          "name": "stdout"
        }
      ]
    },
    {
      "cell_type": "markdown",
      "metadata": {
        "id": "tr35W4fYMvpR"
      },
      "source": [
        "## **Question 46**\n",
        "Question:\n",
        "Define a class named American and its subclass NewYorker.\n",
        "\n",
        "### **Hints:**\n",
        "Use class Subclass(ParentClass) to define a subclass.*"
      ]
    },
    {
      "cell_type": "code",
      "metadata": {
        "colab": {
          "base_uri": "https://localhost:8080/"
        },
        "id": "s4w2K_OxM6yX",
        "outputId": "4ee2922f-f068-4934-830f-73fb7a34b9f2"
      },
      "source": [
        "class American():\n",
        "  pass\n",
        "\n",
        "class NewYorker(American):\n",
        "  pass\n",
        "\n",
        "american = American()\n",
        "\n",
        "newyorker = NewYorker()\n",
        "\n",
        "print(american)\n",
        "print(newyorker)"
      ],
      "execution_count": 10,
      "outputs": [
        {
          "output_type": "stream",
          "text": [
            "<__main__.American object at 0x7f84e43d5fd0>\n",
            "<__main__.NewYorker object at 0x7f84e43d5710>\n"
          ],
          "name": "stdout"
        }
      ]
    }
  ]
}