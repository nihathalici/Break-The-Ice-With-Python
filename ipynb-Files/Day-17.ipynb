{
  "nbformat": 4,
  "nbformat_minor": 0,
  "metadata": {
    "colab": {
      "name": "Untitled1.ipynb",
      "provenance": [],
      "collapsed_sections": [],
      "toc_visible": true
    },
    "kernelspec": {
      "name": "python3",
      "display_name": "Python 3"
    }
  },
  "cells": [
    {
      "cell_type": "markdown",
      "metadata": {
        "id": "h6mgspFSAJxv"
      },
      "source": [
        "# **Day-17**"
      ]
    },
    {
      "cell_type": "markdown",
      "metadata": {
        "id": "qWAKrUQbuAxC"
      },
      "source": [
        "## **Question 65**\n",
        "Question\n",
        "Please write assert statements to verify that every number\n",
        "in the list [2,4,6,8] is even.\n",
        "\n",
        "### **Hints**\n",
        "Use \"assert expression\" to make assertion."
      ]
    },
    {
      "cell_type": "code",
      "metadata": {
        "id": "qg_z8hUWuSQ8"
      },
      "source": [
        "li = [2, 4, 6, 8]\n",
        "\n",
        "for i in li:\n",
        "  assert i % 2 == 0"
      ],
      "execution_count": 1,
      "outputs": []
    },
    {
      "cell_type": "code",
      "metadata": {
        "colab": {
          "base_uri": "https://localhost:8080/",
          "height": 205
        },
        "id": "Hvuc0uMTuhjt",
        "outputId": "847c878e-93f6-46b2-b783-83b0872bb90a"
      },
      "source": [
        "data = [2, 4, 5, 6]\n",
        "\n",
        "for i in data:\n",
        "  assert i % 2 == 0, \"{} is not a even number.\".format(i)"
      ],
      "execution_count": 2,
      "outputs": [
        {
          "output_type": "error",
          "ename": "AssertionError",
          "evalue": "ignored",
          "traceback": [
            "\u001b[0;31m---------------------------------------------------------------------------\u001b[0m",
            "\u001b[0;31mAssertionError\u001b[0m                            Traceback (most recent call last)",
            "\u001b[0;32m<ipython-input-2-83309828c6fb>\u001b[0m in \u001b[0;36m<module>\u001b[0;34m()\u001b[0m\n\u001b[1;32m      2\u001b[0m \u001b[0;34m\u001b[0m\u001b[0m\n\u001b[1;32m      3\u001b[0m \u001b[0;32mfor\u001b[0m \u001b[0mi\u001b[0m \u001b[0;32min\u001b[0m \u001b[0mdata\u001b[0m\u001b[0;34m:\u001b[0m\u001b[0;34m\u001b[0m\u001b[0;34m\u001b[0m\u001b[0m\n\u001b[0;32m----> 4\u001b[0;31m   \u001b[0;32massert\u001b[0m \u001b[0mi\u001b[0m \u001b[0;34m%\u001b[0m \u001b[0;36m2\u001b[0m \u001b[0;34m==\u001b[0m \u001b[0;36m0\u001b[0m\u001b[0;34m,\u001b[0m \u001b[0;34m\"{} is not a even number.\"\u001b[0m\u001b[0;34m.\u001b[0m\u001b[0mformat\u001b[0m\u001b[0;34m(\u001b[0m\u001b[0mi\u001b[0m\u001b[0;34m)\u001b[0m\u001b[0;34m\u001b[0m\u001b[0;34m\u001b[0m\u001b[0m\n\u001b[0m",
            "\u001b[0;31mAssertionError\u001b[0m: 5 is not a even number."
          ]
        }
      ]
    },
    {
      "cell_type": "markdown",
      "metadata": {
        "id": "tXcMQjxVvC3I"
      },
      "source": [
        "## **Question 66**\n",
        "Question\n",
        "Please write a program which accepts basic mathematic expression\n",
        "from console and print the evaluation result.\n",
        "\n",
        "Example: If the following n is given as input to the program:\n",
        "\n",
        "**35 + 3**\n",
        "\n",
        "Then, the output of the program should be:\n",
        "\n",
        "**38**\n",
        "\n",
        "### **Hints**\n",
        "Use eval() to evaluate an expression."
      ]
    },
    {
      "cell_type": "code",
      "metadata": {
        "colab": {
          "base_uri": "https://localhost:8080/"
        },
        "id": "We4DHZYcvOQp",
        "outputId": "38720509-d38c-4c83-d5cd-afe84934514f"
      },
      "source": [
        "expression = input()\n",
        "\n",
        "print(eval(expression))"
      ],
      "execution_count": 3,
      "outputs": [
        {
          "output_type": "stream",
          "text": [
            "35 + 3\n",
            "38\n"
          ],
          "name": "stdout"
        }
      ]
    },
    {
      "cell_type": "code",
      "metadata": {
        "colab": {
          "base_uri": "https://localhost:8080/"
        },
        "id": "tMda-9ulveQB",
        "outputId": "4296ad4d-1af4-4ece-f66e-16c4c1c7f01d"
      },
      "source": [
        "expression = input()\n",
        "\n",
        "ans = eval(expression)\n",
        "\n",
        "print(ans)"
      ],
      "execution_count": 4,
      "outputs": [
        {
          "output_type": "stream",
          "text": [
            "35 + 3\n",
            "38\n"
          ],
          "name": "stdout"
        }
      ]
    },
    {
      "cell_type": "markdown",
      "metadata": {
        "id": "eLDCzDORwKnk"
      },
      "source": [
        "## **Question 67**\n",
        "Question\n",
        "Please write a binary search function which searches an item in a sorted list.\n",
        "The function should return the index of element to be searched in the list.\n",
        "\n",
        "### **Hints**\n",
        "Use if/elif to deal with conditions."
      ]
    },
    {
      "cell_type": "code",
      "metadata": {
        "colab": {
          "base_uri": "https://localhost:8080/"
        },
        "id": "vNXwDqfUwQbg",
        "outputId": "524320a2-65da-4369-869e-f5d1d367826f"
      },
      "source": [
        "import math\n",
        "\n",
        "def bin_search(li, element):\n",
        "  bottom = 0\n",
        "  top = len(li) - 1\n",
        "  index = -1\n",
        "  while top >= bottom and index == -1:\n",
        "    mid = int(math.floor((top + bottom) / 2.0))\n",
        "    if li[mid] == element:\n",
        "      index = mid\n",
        "    elif li[mid] > element:\n",
        "      top = mid - 1\n",
        "    else:\n",
        "      bottom = mid + 1\n",
        "  \n",
        "  return index\n",
        "\n",
        "li = [2, 5, 7, 9, 11, 17, 222]\n",
        "\n",
        "print(bin_search(li, 11))\n",
        "\n",
        "print(bin_search(li, 12))"
      ],
      "execution_count": 5,
      "outputs": [
        {
          "output_type": "stream",
          "text": [
            "4\n",
            "-1\n",
            "4\n",
            "-1\n"
          ],
          "name": "stdout"
        }
      ]
    },
    {
      "cell_type": "code",
      "metadata": {
        "colab": {
          "base_uri": "https://localhost:8080/"
        },
        "id": "-EcYE4-eyESu",
        "outputId": "7391b02b-9db0-4f05-9497-cfd0faae3c3c"
      },
      "source": [
        "'''\n",
        "Solution by ulmasovjafarbek\n",
        "'''\n",
        "\n",
        "def binary_search(lst, item):\n",
        "  low = 0\n",
        "  high = len(lst) - 1\n",
        "\n",
        "  while low <= high:\n",
        "    mid = round((low + high) / 2)\n",
        "\n",
        "    if lst[mid] == item:\n",
        "      return mid\n",
        "    elif lst[mid] > item:\n",
        "      high = mid - 1\n",
        "    else:\n",
        "      low = mid + 1\n",
        "  return None\n",
        "\n",
        "lst = [1, 3, 5, 7,]\n",
        "\n",
        "print(binary_search(lst, 5))"
      ],
      "execution_count": 8,
      "outputs": [
        {
          "output_type": "stream",
          "text": [
            "2\n"
          ],
          "name": "stdout"
        }
      ]
    },
    {
      "cell_type": "code",
      "metadata": {
        "colab": {
          "base_uri": "https://localhost:8080/"
        },
        "id": "lbPBTb4qB-z8",
        "outputId": "7a444215-d5e9-4daa-f217-ff88de9f6cd0"
      },
      "source": [
        "'''\n",
        "Solution by AasaiAlangaram\n",
        "'''\n",
        "'''\n",
        "def binary_search_Ascending(array, target):\n",
        "    lower = 0\n",
        "    upper = len(array)\n",
        "    print('Array Length: ', upper)\n",
        "    while lower < upper:\n",
        "        x = (lower + upper) // 2\n",
        "        print('Middle Value: ', x)\n",
        "        value = array[x]\n",
        "        if target == value:\n",
        "            return x\n",
        "        elif target > value:\n",
        "            lower = x\n",
        "        elif target < value:\n",
        "            upper = x\n",
        "\n",
        "Array = [1,5,8,10,12,13,55,66,73,78,82,85,88,99]\n",
        "\n",
        "print('The Value Found at Index:', binary_search_Ascending(Array, 82))\n",
        "'''\n",
        "###\n",
        "\n",
        "def binary_search_Ascending(array, target):\n",
        "  lower = 0\n",
        "  upper = len(array)\n",
        "  print('Array Length: ', upper)\n",
        "  while lower < upper:\n",
        "    x = (lower + upper) // 2\n",
        "    print('Middle Value: ', x)\n",
        "    value = array[x]\n",
        "    if target == value:\n",
        "      return x\n",
        "    elif target > value:\n",
        "      lower = x\n",
        "    elif target < value:\n",
        "      upper = x\n",
        "\n",
        "Array = [1,5,8,10,12,13,55,66,73,78,82,85,88,99]   \n",
        "\n",
        "print('The Value Found at Index:', binary_search_Ascending(Array, 10))"
      ],
      "execution_count": 13,
      "outputs": [
        {
          "output_type": "stream",
          "text": [
            "Array Length:  14\n",
            "Middle Value:  7\n",
            "Middle Value:  3\n",
            "The Value Found at Index: 3\n"
          ],
          "name": "stdout"
        }
      ]
    },
    {
      "cell_type": "code",
      "metadata": {
        "colab": {
          "base_uri": "https://localhost:8080/"
        },
        "id": "7sY6DBMdDj_p",
        "outputId": "58e0a966-5099-48c9-8a84-3e26ab817607"
      },
      "source": [
        "'''\n",
        "Solution by yuan1z\n",
        "'''\n",
        "\n",
        "idx = 0\n",
        "\n",
        "def bs(num, num_list):\n",
        "  global idx\n",
        "  if (len(num_list) == 1):\n",
        "    if num_list[0] == num:\n",
        "      return idx\n",
        "    else:\n",
        "      return \"No exit in the list\"\n",
        "  elif num in num_list[:len(num_list) // 2]:\n",
        "    return bs(num, num_list[:len(num_list) // 2])\n",
        "  else:\n",
        "    idx += len(num_list) // 2\n",
        "  return bs(num, num_list[len(num_list) // 2:])\n",
        "\n",
        "print(bs(66, [1,5,8,10,12,13,55,66,73,78,82,85,88,99,100]))"
      ],
      "execution_count": 14,
      "outputs": [
        {
          "output_type": "stream",
          "text": [
            "7\n"
          ],
          "name": "stdout"
        }
      ]
    },
    {
      "cell_type": "markdown",
      "metadata": {
        "id": "WijH7qS5GDv5"
      },
      "source": [
        "## **Question 68**\n",
        "Question\n",
        "Please generate a random float where the value\n",
        "is between 10 and 100 using Python module.\n",
        "\n",
        "### **Hints**\n",
        "Use random.random() to generate a random float in [0,1]."
      ]
    },
    {
      "cell_type": "code",
      "metadata": {
        "colab": {
          "base_uri": "https://localhost:8080/"
        },
        "id": "onZ4fHLsGH-c",
        "outputId": "b19253ad-5e40-4a9d-9e75-7a9ab703615a"
      },
      "source": [
        "import random\n",
        "\n",
        "print(random.random() * 100)"
      ],
      "execution_count": 16,
      "outputs": [
        {
          "output_type": "stream",
          "text": [
            "31.096757620783578\n"
          ],
          "name": "stdout"
        }
      ]
    },
    {
      "cell_type": "code",
      "metadata": {
        "colab": {
          "base_uri": "https://localhost:8080/"
        },
        "id": "8GhKNHXpGbpw",
        "outputId": "c095a355-7102-4730-e677-4a0557bada31"
      },
      "source": [
        "import random\n",
        "\n",
        "rand_num = random.uniform(10, 100)\n",
        "\n",
        "print(rand_num)"
      ],
      "execution_count": 18,
      "outputs": [
        {
          "output_type": "stream",
          "text": [
            "66.7540894437608\n"
          ],
          "name": "stdout"
        }
      ]
    },
    {
      "cell_type": "markdown",
      "metadata": {
        "id": "Z93205pYGyKl"
      },
      "source": [
        "## **Question 69**\n",
        "Question\n",
        "Please generate a random float where the value is between 5 and 95 using Python module.\n",
        "\n",
        "### **Hints**\n",
        "Use random.random() to generate a random float in [0,1]."
      ]
    },
    {
      "cell_type": "code",
      "metadata": {
        "colab": {
          "base_uri": "https://localhost:8080/"
        },
        "id": "QumKuXqkG2Gt",
        "outputId": "1d2061c2-398d-4b7d-cfad-d5f3cf49d83e"
      },
      "source": [
        "import random\n",
        "\n",
        "print(random.random() * 100 - 5)"
      ],
      "execution_count": 19,
      "outputs": [
        {
          "output_type": "stream",
          "text": [
            "74.93530949622486\n"
          ],
          "name": "stdout"
        }
      ]
    },
    {
      "cell_type": "code",
      "metadata": {
        "colab": {
          "base_uri": "https://localhost:8080/"
        },
        "id": "fffYL0VPHWTT",
        "outputId": "0a13d948-ca5a-4031-fd98-7e08d1ae800f"
      },
      "source": [
        "import random\n",
        "\n",
        "rand_num = random.uniform(5, 95)\n",
        "\n",
        "print(rand_num)"
      ],
      "execution_count": 20,
      "outputs": [
        {
          "output_type": "stream",
          "text": [
            "37.74095420519165\n"
          ],
          "name": "stdout"
        }
      ]
    }
  ]
}