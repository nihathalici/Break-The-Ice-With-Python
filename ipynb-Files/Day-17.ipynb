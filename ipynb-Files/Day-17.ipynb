{
  "nbformat": 4,
  "nbformat_minor": 0,
  "metadata": {
    "colab": {
      "name": "Untitled1.ipynb",
      "provenance": [],
      "collapsed_sections": [],
      "toc_visible": true
    },
    "kernelspec": {
      "name": "python3",
      "display_name": "Python 3"
    }
  },
  "cells": [
    {
      "cell_type": "markdown",
      "metadata": {
        "id": "h6mgspFSAJxv"
      },
      "source": [
        "# **Day-17**"
      ]
    },
    {
      "cell_type": "markdown",
      "metadata": {
        "id": "qWAKrUQbuAxC"
      },
      "source": [
        "## **Question 65**\n",
        "Question\n",
        "Please write assert statements to verify that every number\n",
        "in the list [2,4,6,8] is even.\n",
        "\n",
        "### **Hints**\n",
        "Use \"assert expression\" to make assertion."
      ]
    },
    {
      "cell_type": "code",
      "metadata": {
        "id": "qg_z8hUWuSQ8"
      },
      "source": [
        "li = [2, 4, 6, 8]\n",
        "\n",
        "for i in li:\n",
        "  assert i % 2 == 0"
      ],
      "execution_count": 1,
      "outputs": []
    },
    {
      "cell_type": "code",
      "metadata": {
        "colab": {
          "base_uri": "https://localhost:8080/",
          "height": 205
        },
        "id": "Hvuc0uMTuhjt",
        "outputId": "847c878e-93f6-46b2-b783-83b0872bb90a"
      },
      "source": [
        "data = [2, 4, 5, 6]\n",
        "\n",
        "for i in data:\n",
        "  assert i % 2 == 0, \"{} is not a even number.\".format(i)"
      ],
      "execution_count": 2,
      "outputs": [
        {
          "output_type": "error",
          "ename": "AssertionError",
          "evalue": "ignored",
          "traceback": [
            "\u001b[0;31m---------------------------------------------------------------------------\u001b[0m",
            "\u001b[0;31mAssertionError\u001b[0m                            Traceback (most recent call last)",
            "\u001b[0;32m<ipython-input-2-83309828c6fb>\u001b[0m in \u001b[0;36m<module>\u001b[0;34m()\u001b[0m\n\u001b[1;32m      2\u001b[0m \u001b[0;34m\u001b[0m\u001b[0m\n\u001b[1;32m      3\u001b[0m \u001b[0;32mfor\u001b[0m \u001b[0mi\u001b[0m \u001b[0;32min\u001b[0m \u001b[0mdata\u001b[0m\u001b[0;34m:\u001b[0m\u001b[0;34m\u001b[0m\u001b[0;34m\u001b[0m\u001b[0m\n\u001b[0;32m----> 4\u001b[0;31m   \u001b[0;32massert\u001b[0m \u001b[0mi\u001b[0m \u001b[0;34m%\u001b[0m \u001b[0;36m2\u001b[0m \u001b[0;34m==\u001b[0m \u001b[0;36m0\u001b[0m\u001b[0;34m,\u001b[0m \u001b[0;34m\"{} is not a even number.\"\u001b[0m\u001b[0;34m.\u001b[0m\u001b[0mformat\u001b[0m\u001b[0;34m(\u001b[0m\u001b[0mi\u001b[0m\u001b[0;34m)\u001b[0m\u001b[0;34m\u001b[0m\u001b[0;34m\u001b[0m\u001b[0m\n\u001b[0m",
            "\u001b[0;31mAssertionError\u001b[0m: 5 is not a even number."
          ]
        }
      ]
    },
    {
      "cell_type": "markdown",
      "metadata": {
        "id": "tXcMQjxVvC3I"
      },
      "source": [
        "## **Question 66**\n",
        "Question\n",
        "Please write a program which accepts basic mathematic expression\n",
        "from console and print the evaluation result.\n",
        "\n",
        "Example: If the following n is given as input to the program:\n",
        "\n",
        "**35 + 3**\n",
        "\n",
        "Then, the output of the program should be:\n",
        "\n",
        "**38**\n",
        "\n",
        "### **Hints**\n",
        "Use eval() to evaluate an expression."
      ]
    },
    {
      "cell_type": "code",
      "metadata": {
        "colab": {
          "base_uri": "https://localhost:8080/"
        },
        "id": "We4DHZYcvOQp",
        "outputId": "38720509-d38c-4c83-d5cd-afe84934514f"
      },
      "source": [
        "expression = input()\n",
        "\n",
        "print(eval(expression))"
      ],
      "execution_count": 3,
      "outputs": [
        {
          "output_type": "stream",
          "text": [
            "35 + 3\n",
            "38\n"
          ],
          "name": "stdout"
        }
      ]
    },
    {
      "cell_type": "code",
      "metadata": {
        "colab": {
          "base_uri": "https://localhost:8080/"
        },
        "id": "tMda-9ulveQB",
        "outputId": "4296ad4d-1af4-4ece-f66e-16c4c1c7f01d"
      },
      "source": [
        "expression = input()\n",
        "\n",
        "ans = eval(expression)\n",
        "\n",
        "print(ans)"
      ],
      "execution_count": 4,
      "outputs": [
        {
          "output_type": "stream",
          "text": [
            "35 + 3\n",
            "38\n"
          ],
          "name": "stdout"
        }
      ]
    }
  ]
}