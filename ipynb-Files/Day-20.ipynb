{
  "nbformat": 4,
  "nbformat_minor": 0,
  "metadata": {
    "colab": {
      "name": "Untitled1.ipynb",
      "provenance": [],
      "collapsed_sections": [],
      "toc_visible": true
    },
    "kernelspec": {
      "name": "python3",
      "display_name": "Python 3"
    }
  },
  "cells": [
    {
      "cell_type": "markdown",
      "metadata": {
        "id": "h6mgspFSAJxv"
      },
      "source": [
        "# **Day-20**"
      ]
    },
    {
      "cell_type": "markdown",
      "metadata": {
        "id": "C6kYqCtsXVKZ"
      },
      "source": [
        "## **Question 80**\n",
        "Question\n",
        "Please write a program to print the list\n",
        "after removing even numbers in [5,6,77,45,22,12,24].\n",
        "\n",
        "### **Hints**\n",
        "Use list comprehension to delete a bunch of element from a list."
      ]
    },
    {
      "cell_type": "code",
      "metadata": {
        "colab": {
          "base_uri": "https://localhost:8080/"
        },
        "id": "WBaOkr-lXbWj",
        "outputId": "c889033c-f8ca-47ae-83dd-fdbc765c31ff"
      },
      "source": [
        "li = [5, 6, 77, 45, 22, 12, 24]\n",
        "\n",
        "li = [x for x in li if x % 2 != 0]\n",
        "\n",
        "print(li)"
      ],
      "execution_count": 3,
      "outputs": [
        {
          "output_type": "stream",
          "text": [
            "[5, 77, 45]\n"
          ],
          "name": "stdout"
        }
      ]
    },
    {
      "cell_type": "code",
      "metadata": {
        "colab": {
          "base_uri": "https://localhost:8080/"
        },
        "id": "r0zOCdxsYO1g",
        "outputId": "d1b25628-2594-49d9-f34e-ceb46a4bfc58"
      },
      "source": [
        "def isEven(n):\n",
        "  return n % 2 != 0\n",
        "\n",
        "li = [5, 6, 77, 45, 22, 12, 24]\n",
        "\n",
        "lst = list(filter(isEven, li))\n",
        "\n",
        "print(lst)"
      ],
      "execution_count": 5,
      "outputs": [
        {
          "output_type": "stream",
          "text": [
            "[5, 77, 45]\n"
          ],
          "name": "stdout"
        }
      ]
    },
    {
      "cell_type": "code",
      "metadata": {
        "colab": {
          "base_uri": "https://localhost:8080/"
        },
        "id": "WklD6bXbaJjq",
        "outputId": "b889fd9f-6b11-4e4d-9a25-c8880037d777"
      },
      "source": [
        "li = [5, 6, 77, 45, 22, 12, 24]\n",
        "\n",
        "lst = list(filter(lambda x: x % 2 != 0, li))\n",
        "\n",
        "print(lst)"
      ],
      "execution_count": 6,
      "outputs": [
        {
          "output_type": "stream",
          "text": [
            "[5, 77, 45]\n"
          ],
          "name": "stdout"
        }
      ]
    },
    {
      "cell_type": "markdown",
      "metadata": {
        "id": "T9b7PM4Ib_8T"
      },
      "source": [
        "## **Question 81**\n",
        "Question\n",
        "By using list comprehension, please write a program to print the list\n",
        "after removing numbers which are divisible by 5 and 7 in [12,24,35,70,88,120,155].\n",
        "\n",
        "### **Hints**\n",
        "Use list comprehension to delete a bunch of element from a list."
      ]
    },
    {
      "cell_type": "code",
      "metadata": {
        "colab": {
          "base_uri": "https://localhost:8080/"
        },
        "id": "92IYYVQ_cL2h",
        "outputId": "1e4532e9-d5d7-4230-82b8-6c54c05834f6"
      },
      "source": [
        "\n",
        "li = [12, 24, 35, 70, 88, 120, 155]\n",
        "\n",
        "li = [x for x in li if x % 5 != 0 and x % 7 != 0]\n",
        "\n",
        "print(li)"
      ],
      "execution_count": 8,
      "outputs": [
        {
          "output_type": "stream",
          "text": [
            "[12, 24, 88]\n"
          ],
          "name": "stdout"
        }
      ]
    },
    {
      "cell_type": "markdown",
      "metadata": {
        "id": "ZOlhq-Npc8lC"
      },
      "source": [
        "## **Question 82**\n",
        "Question\n",
        "By using list comprehension, please write a program to print the list\n",
        "after removing the 0th, 2nd, 4th, 6th numbers in [12,24,35,70,88,120,155].\n",
        "\n",
        "### **Hints**\n",
        "Use list comprehension to delete a bunch of element from a list.\n",
        "Use enumerate() to get (index, value) tuple."
      ]
    },
    {
      "cell_type": "code",
      "metadata": {
        "colab": {
          "base_uri": "https://localhost:8080/"
        },
        "id": "kJM8eWgXdKPT",
        "outputId": "c55c1dba-2a03-4e08-8e46-e47ce7024aed"
      },
      "source": [
        "li = [12, 24, 35, 70, 88, 120, 155]\n",
        "\n",
        "li = [x for (i, x) in enumerate(li) if i % 2 != 0 and i <= 6]\n",
        "\n",
        "print(li)"
      ],
      "execution_count": 10,
      "outputs": [
        {
          "output_type": "stream",
          "text": [
            "[24, 70, 120]\n"
          ],
          "name": "stdout"
        }
      ]
    },
    {
      "cell_type": "code",
      "metadata": {
        "colab": {
          "base_uri": "https://localhost:8080/"
        },
        "id": "ezS18E1XeRDP",
        "outputId": "491125a2-5922-46f9-cd3e-0f25eabb452a"
      },
      "source": [
        "li = [12, 24, 35, 70, 88, 120, 155]\n",
        "\n",
        "li = [li[i] for i in range(len(li)) if i % 2 != 0 and i <= 6]\n",
        "\n",
        "print(li)"
      ],
      "execution_count": 11,
      "outputs": [
        {
          "output_type": "stream",
          "text": [
            "[24, 70, 120]\n"
          ],
          "name": "stdout"
        }
      ]
    },
    {
      "cell_type": "code",
      "metadata": {
        "colab": {
          "base_uri": "https://localhost:8080/"
        },
        "id": "aJ1VRSrlfTra",
        "outputId": "9a45a208-303d-4a4f-ee10-789bfe87f39f"
      },
      "source": [
        "'''Solution by: popomaticbubble\n",
        "'''\n",
        "\n",
        "orig_lst = [12, 24, 35, 70, 88, 120, 155]\n",
        "\n",
        "indices = [0, 2, 4, 6]\n",
        "\n",
        "new_list = [i for (j, i) in enumerate(orig_lst) if j not in indices]\n",
        "\n",
        "print(new_list)"
      ],
      "execution_count": 12,
      "outputs": [
        {
          "output_type": "stream",
          "text": [
            "[24, 70, 120]\n"
          ],
          "name": "stdout"
        }
      ]
    },
    {
      "cell_type": "markdown",
      "metadata": {
        "id": "6c-AUViYhXju"
      },
      "source": [
        "## **Question 83**\n",
        "Question\n",
        "By using list comprehension, please write a program to print the list\n",
        "after removing the 2nd - 4th numbers in [12,24,35,70,88,120,155].\n",
        "\n",
        "### **Hints**\n",
        "Use list comprehension to delete a bunch of element from a list.\n",
        "Use enumerate() to get (index, value) tuple."
      ]
    },
    {
      "cell_type": "code",
      "metadata": {
        "colab": {
          "base_uri": "https://localhost:8080/"
        },
        "id": "Yz42F4NfhmoQ",
        "outputId": "188fc79d-243f-4c3c-dacc-68fca36cf35f"
      },
      "source": [
        "li = [12, 24, 35, 70, 88, 120, 155]\n",
        "\n",
        "li = [x for (i, x) in enumerate(li) if i < 3 or 4 < i]\n",
        "\n",
        "print(li)"
      ],
      "execution_count": 13,
      "outputs": [
        {
          "output_type": "stream",
          "text": [
            "[12, 24, 35, 120, 155]\n"
          ],
          "name": "stdout"
        }
      ]
    },
    {
      "cell_type": "code",
      "metadata": {
        "colab": {
          "base_uri": "https://localhost:8080/"
        },
        "id": "RJHRaBWfq3l5",
        "outputId": "79e979ac-a116-4ec1-da90-8b9289917bc7"
      },
      "source": [
        "li = [12, 24, 35, 70, 88, 120, 155]\n",
        "\n",
        "li = [li[i] for i in range(len(li)) if i < 3 or i > 4]\n",
        "\n",
        "print(li)"
      ],
      "execution_count": 14,
      "outputs": [
        {
          "output_type": "stream",
          "text": [
            "[12, 24, 35, 120, 155]\n"
          ],
          "name": "stdout"
        }
      ]
    },
    {
      "cell_type": "code",
      "metadata": {
        "colab": {
          "base_uri": "https://localhost:8080/"
        },
        "id": "j8CHcp3NrXLo",
        "outputId": "e544060c-2e21-4d9d-a404-9afda19c9fff"
      },
      "source": [
        "\"\"\"Solution by: popomaticbubble\n",
        "\"\"\"\n",
        "\n",
        "orig_list = [12, 24, 35, 70, 88, 120, 155]\n",
        "\n",
        "new_list = [i for (j, i) in enumerate(orig_lst) if j not in range(1, 4)]\n",
        "\n",
        "print(new_list)"
      ],
      "execution_count": 15,
      "outputs": [
        {
          "output_type": "stream",
          "text": [
            "[12, 88, 120, 155]\n"
          ],
          "name": "stdout"
        }
      ]
    },
    {
      "cell_type": "code",
      "metadata": {
        "colab": {
          "base_uri": "https://localhost:8080/"
        },
        "id": "0SkT1sDUsDok",
        "outputId": "b1fd5e4b-fb92-4476-9ba8-ff8af8fcd802"
      },
      "source": [
        "\"\"\"Solution by: saxenaharsh24\n",
        "\"\"\"\n",
        "\n",
        "lst = [12, 24, 35, 70, 88, 120, 155]\n",
        "\n",
        "print([i for i in lst if lst.index(i) not in range(2, 5)])"
      ],
      "execution_count": 16,
      "outputs": [
        {
          "output_type": "stream",
          "text": [
            "[12, 24, 120, 155]\n"
          ],
          "name": "stdout"
        }
      ]
    },
    {
      "cell_type": "markdown",
      "metadata": {
        "id": "DFAsHq92ssvb"
      },
      "source": [
        "## **Question 84**\n",
        "Question\n",
        "By using list comprehension, please write a program\n",
        "generate a 3*5*8 3D array whose each element is 0.\n",
        "\n",
        "### **Hints**\n",
        "Use list comprehension to make an array."
      ]
    },
    {
      "cell_type": "code",
      "metadata": {
        "colab": {
          "base_uri": "https://localhost:8080/"
        },
        "id": "5yr45sEpsySX",
        "outputId": "b73353c1-ea6e-43db-a85a-0261e518aa42"
      },
      "source": [
        "array = [[[0 for col in range(8)] for col in range(5)] for row in range(3) ]\n",
        "\n",
        "print(array)"
      ],
      "execution_count": 22,
      "outputs": [
        {
          "output_type": "stream",
          "text": [
            "[[[0, 0, 0, 0, 0, 0, 0, 0], [0, 0, 0, 0, 0, 0, 0, 0], [0, 0, 0, 0, 0, 0, 0, 0], [0, 0, 0, 0, 0, 0, 0, 0], [0, 0, 0, 0, 0, 0, 0, 0]], [[0, 0, 0, 0, 0, 0, 0, 0], [0, 0, 0, 0, 0, 0, 0, 0], [0, 0, 0, 0, 0, 0, 0, 0], [0, 0, 0, 0, 0, 0, 0, 0], [0, 0, 0, 0, 0, 0, 0, 0]], [[0, 0, 0, 0, 0, 0, 0, 0], [0, 0, 0, 0, 0, 0, 0, 0], [0, 0, 0, 0, 0, 0, 0, 0], [0, 0, 0, 0, 0, 0, 0, 0], [0, 0, 0, 0, 0, 0, 0, 0]]]\n"
          ],
          "name": "stdout"
        }
      ]
    }
  ]
}