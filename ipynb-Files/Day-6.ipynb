{
  "nbformat": 4,
  "nbformat_minor": 0,
  "metadata": {
    "colab": {
      "name": "Untitled1.ipynb",
      "provenance": [],
      "collapsed_sections": [],
      "toc_visible": true
    },
    "kernelspec": {
      "name": "python3",
      "display_name": "Python 3"
    }
  },
  "cells": [
    {
      "cell_type": "markdown",
      "metadata": {
        "id": "h6mgspFSAJxv"
      },
      "source": [
        "# **Day-6**"
      ]
    },
    {
      "cell_type": "markdown",
      "metadata": {
        "id": "xQ3ZqpGr6cSa"
      },
      "source": [
        "## **Question 18**\n",
        "Question:\n",
        "A website requires the users to input username and password to register.\n",
        "Write a program to check the validity of password input by users.\n",
        "\n",
        "Following are the criteria for checking the password:\n",
        "\n",
        "At least 1 letter between [a-z]\n",
        "At least 1 number between [0-9]\n",
        "At least 1 letter between [A-Z]\n",
        "At least 1 character from [$#@]\n",
        "Minimum length of transaction password: 6\n",
        "Maximum length of transaction password: 12\n",
        "\n",
        "Your program should accept a sequence of comma separated passwords\n",
        "and will check them according to the above criteria.\n",
        "Passwords that match the criteria are to be printed, each separated by a comma.\n",
        "\n",
        "Example\n",
        "\n",
        "If the following passwords are given as input to the program:\n",
        "\n",
        "\n",
        "**ABd1234@1,a F1#,2w3E*,2We3345**\n",
        "\n",
        "\n",
        "Then, the output of the program should be:\n",
        "\n",
        "\n",
        "**ABd1234@1**\n",
        "\n",
        "\n",
        "### **Hints:**\n",
        "\n",
        "In case of input data being supplied to the question, it should be assumed to be a console input.\n"
      ]
    },
    {
      "cell_type": "code",
      "metadata": {
        "colab": {
          "base_uri": "https://localhost:8080/"
        },
        "id": "bFF3Rupa7CEm",
        "outputId": "6aa6932a-a25f-4d14-addf-17a0d91d03a4"
      },
      "source": [
        "# Returns True if the string has a lowercase\n",
        "def is_low(x):\n",
        "    for i in x:\n",
        "        if 'a' <= i <= 'z':\n",
        "            return True\n",
        "    return False\n",
        "\n",
        "# Returns True if the string has a uppercase\n",
        "def is_up(x):\n",
        "    for i in x:\n",
        "        if 'A' <= i and i <= 'Z':\n",
        "            return True\n",
        "    return False\n",
        "\n",
        "# Returns True if the string has a numeric digit\n",
        "def is_num(x):\n",
        "    for i in x:\n",
        "        if '0' <= i and i <= '9':\n",
        "            return True\n",
        "    return False\n",
        "\n",
        "# Returns True if the string has any \"$#@\"\n",
        "def is_other(x):\n",
        "    for i in x:\n",
        "        if i == '$' or i == '#' or i == '@':\n",
        "            return True\n",
        "    return False\n",
        "\n",
        "s = input().split(',')\n",
        "\n",
        "lst = []\n",
        "\n",
        "for i in s:\n",
        "  length = len(i)\n",
        "  # Checks if all the requirements are fulfilled\n",
        "  if 6 <= length and length <= 12 and is_low(i) and is_up(i) and is_num(i) and is_other(i):\n",
        "    lst.append(i)\n",
        "\n",
        "print(\",\".join(lst))\n"
      ],
      "execution_count": null,
      "outputs": [
        {
          "output_type": "stream",
          "text": [
            "ABd1234@1,a F1#,2w3E*,2We3345\n",
            "ABd1234@1\n"
          ],
          "name": "stdout"
        }
      ]
    },
    {
      "cell_type": "code",
      "metadata": {
        "colab": {
          "base_uri": "https://localhost:8080/"
        },
        "id": "m3YXC0oQ-u67",
        "outputId": "00225b6a-5727-4370-dce6-7634057562d7"
      },
      "source": [
        "def check(x):\n",
        "    cnt = (6 <= len(x) and len(x) <= 12)\n",
        "    for i in x:\n",
        "        if i.isupper():\n",
        "            cnt += 1\n",
        "            break\n",
        "    for i in x:\n",
        "        if i.islower():\n",
        "            cnt += 1\n",
        "            break\n",
        "    for i in x:\n",
        "        if i.isnumeric():\n",
        "            cnt += 1\n",
        "            break\n",
        "    for i in x:\n",
        "        if i == '@' or i == '@' or i == '$':\n",
        "            cnt += 1\n",
        "            break\n",
        "            \n",
        "    # counting if total 5 all conditions are fulfilled then returns True\n",
        "    return cnt == 5\n",
        "\n",
        "s = input().split(',')\n",
        "\n",
        "# Filter function pick the words from s, those returns True by check() function\n",
        "lst = filter(check, s)\n",
        "\n",
        "print(\",\".join(lst))"
      ],
      "execution_count": null,
      "outputs": [
        {
          "output_type": "stream",
          "text": [
            "ABd1234@1,a F1#,2w3E*,2We3345\n",
            "ABd1234@1\n"
          ],
          "name": "stdout"
        }
      ]
    },
    {
      "cell_type": "code",
      "metadata": {
        "colab": {
          "base_uri": "https://localhost:8080/"
        },
        "id": "_aWwgbu-wiyt",
        "outputId": "774610f6-04a1-4174-c253-61fa1825fee4"
      },
      "source": [
        "import re\n",
        "\n",
        "s = input().split(',')\n",
        "lst = []\n",
        "\n",
        "for i in s:\n",
        "    cnt = 0\n",
        "    cnt = (6 <= len(i) and len(i) <= 12)\n",
        "\n",
        "    # here re module includes a function re.search() which returns the object information\n",
        "    cnt += bool(re.search(\"[a-z]\", i))\n",
        "\n",
        "    # of where the pattern string i is matched with any of the [a-z]/[A-z]/[0=9]/[@#$] characters\n",
        "    cnt += bool(re.search(\"[A-Z]\", i))\n",
        "\n",
        "    # if not a single match found then returns NONE which converts to False in boolean\n",
        "    cnt += bool(re.search(\"[0-9]\", i))\n",
        "\n",
        "    # expression otherwise True if found any.\n",
        "    cnt += bool(re.search(\"[@#$]\", i))\n",
        "\n",
        "    if cnt == 5:\n",
        "        lst.append(i)\n",
        "\n",
        "print(\",\".join(lst))"
      ],
      "execution_count": null,
      "outputs": [
        {
          "output_type": "stream",
          "text": [
            "ABd1234@1,a F1#,2w3E*,2We3345\n",
            "ABd1234@1\n"
          ],
          "name": "stdout"
        }
      ]
    },
    {
      "cell_type": "code",
      "metadata": {
        "colab": {
          "base_uri": "https://localhost:8080/"
        },
        "id": "kgWmILy3xt4i",
        "outputId": "8e5017ef-c24a-44bf-eaa1-726b133879bb"
      },
      "source": [
        "'''Solution by: pratikb0501\n",
        "'''\n",
        "\n",
        "import re\n",
        "\n",
        "a = input('Enter passwords: ').split(',')\n",
        "\n",
        "pass_pattern = re.compile(r\"^(?=.*[0-9])(?=.*[a-z])(?=.*[A-Z])(?=.*[$#@]).{6,12}$\")\n",
        "\n",
        "for i in a:\n",
        "  if pass_pattern.fullmatch(i):\n",
        "    print(i)"
      ],
      "execution_count": null,
      "outputs": [
        {
          "output_type": "stream",
          "text": [
            "Enter passwords: ABd1234@1,a F1#,2w3E*,2We3345\n",
            "ABd1234@1\n"
          ],
          "name": "stdout"
        }
      ]
    },
    {
      "cell_type": "markdown",
      "metadata": {
        "id": "HZFJrvff3r1G"
      },
      "source": [
        "## **Question 19**\n",
        "Question:\n",
        "You are required to write a program to sort the (name, age, score) tuples\n",
        "by ascending order where name is string, age and score are numbers.\n",
        "The tuples are input by console.\n",
        "\n",
        "The sort criteria is:\n",
        "\n",
        "1: Sort based on name\n",
        "2: Then sort based on age\n",
        "3: Then sort by score\n",
        "\n",
        "The priority is that name > age > score.\n",
        "\n",
        "If the following tuples are given as input to the program:\n",
        "\n",
        "\n",
        "**Tom,19,80**\n",
        "\n",
        "**John,20,90**\n",
        "\n",
        "**Jony,17,91**\n",
        "\n",
        "**Jony,17,93**\n",
        "\n",
        "**Json,21,85**\n",
        "\n",
        "\n",
        "Then, the output of the program should be:\n",
        "\n",
        "\n",
        "`[('John', '20', '90'), ('Jony', '17', '91'), ('Jony', '17', '93'), ('Json', '21', '85'), ('Tom', '19', '80')]`\n",
        "\n",
        "\n",
        "### **Hints:**\n",
        "In case of input data being supplied to the question, it should be assumed to be a console input.We use itemgetter to enable multiple sort keys."
      ]
    },
    {
      "cell_type": "code",
      "metadata": {
        "colab": {
          "base_uri": "https://localhost:8080/"
        },
        "id": "LkUcqtIC5MNy",
        "outputId": "e179ed3b-6969-410a-d4bd-c92c60711539"
      },
      "source": [
        "lst = []\n",
        "\n",
        "while True:\n",
        "  s = input().split(',')\n",
        "  # breaks for blank input\n",
        "  if not s[0]:\n",
        "    break\n",
        "  lst.append(tuple(s))\n",
        "\n",
        "# here key is defined by lambda and the data is sorted by element priority 0>1>2 in accending order\n",
        "lst.sort(key = lambda x: (x[0], int(x[1]), int(x[2])))\n",
        "\n",
        "print(lst)"
      ],
      "execution_count": null,
      "outputs": [
        {
          "output_type": "stream",
          "text": [
            "Tom,19,80\n",
            "John,20,90\n",
            "Jony,17,91\n",
            "Jony,17,93\n",
            "Json,21,85\n",
            "\n",
            "[('John', '20', '90'), ('Jony', '17', '91'), ('Jony', '17', '93'), ('Json', '21', '85'), ('Tom', '19', '80')]\n"
          ],
          "name": "stdout"
        }
      ]
    }
  ]
}