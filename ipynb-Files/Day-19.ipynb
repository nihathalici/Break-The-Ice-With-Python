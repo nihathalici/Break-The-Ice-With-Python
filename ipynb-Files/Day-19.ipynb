{
  "nbformat": 4,
  "nbformat_minor": 0,
  "metadata": {
    "colab": {
      "name": "Untitled1.ipynb",
      "provenance": [],
      "collapsed_sections": [],
      "toc_visible": true
    },
    "kernelspec": {
      "name": "python3",
      "display_name": "Python 3"
    }
  },
  "cells": [
    {
      "cell_type": "markdown",
      "metadata": {
        "id": "h6mgspFSAJxv"
      },
      "source": [
        "# **Day-19**"
      ]
    },
    {
      "cell_type": "markdown",
      "metadata": {
        "id": "lDAR-5yBcuuh"
      },
      "source": [
        "## **Question 75**\n",
        "Question\n",
        "Please write a program to randomly print a integer number\n",
        "between 7 and 15 inclusive.\n",
        "\n",
        "### **Hints**\n",
        "Use random.randrange() to a random integer in a given range."
      ]
    },
    {
      "cell_type": "code",
      "metadata": {
        "colab": {
          "base_uri": "https://localhost:8080/"
        },
        "id": "opXUiq7GdAgj",
        "outputId": "daa460f9-6997-4ebf-b1bd-6899370e89fe"
      },
      "source": [
        "import random\n",
        "\n",
        "print(random.randrange(7, 16))"
      ],
      "execution_count": null,
      "outputs": [
        {
          "output_type": "stream",
          "text": [
            "13\n"
          ],
          "name": "stdout"
        }
      ]
    },
    {
      "cell_type": "markdown",
      "metadata": {
        "id": "lEYlSYP4dZME"
      },
      "source": [
        "## **Question 76**\n",
        "Question\n",
        "Please write a program to compress and decompress\n",
        "the string \"hello world!hello world!hello world!hello world!\".\n",
        "\n",
        "### **Hints**\n",
        "Use zlib.compress() and zlib.decompress() to compress and decompress a string."
      ]
    },
    {
      "cell_type": "code",
      "metadata": {
        "colab": {
          "base_uri": "https://localhost:8080/"
        },
        "id": "BoFeyAhndi2n",
        "outputId": "3fbc410d-0508-447d-d328-fba5677aa47d"
      },
      "source": [
        "'''Solution by: anas1434 \n",
        "'''\n",
        "\n",
        "import zlib\n",
        "\n",
        "s = 'hello world!hello world!hello world!hello world!'\n",
        "\n",
        "# In Python 3 zlib.compress() accepts only DataType <bytes>\n",
        "y = bytes(s, 'utf-8')\n",
        "\n",
        "x = zlib.compress(y)\n",
        "\n",
        "print(x)\n",
        "\n",
        "print(zlib.decompress(x))"
      ],
      "execution_count": null,
      "outputs": [
        {
          "output_type": "stream",
          "text": [
            "b'x\\x9c\\xcbH\\xcd\\xc9\\xc9W(\\xcf/\\xcaIQ\\xcc \\x82\\r\\x00\\xbd[\\x11\\xf5'\n",
            "b'hello world!hello world!hello world!hello world!'\n"
          ],
          "name": "stdout"
        }
      ]
    },
    {
      "cell_type": "markdown",
      "metadata": {
        "id": "BZfqdNkjeOao"
      },
      "source": [
        "## **Question 77**\n",
        "Question\n",
        "Please write a program to print the running time of\n",
        "execution of \"1+1\" for 100 times.\n",
        "\n",
        "### **Hints**\n",
        "Use timeit() function to measure the running time.\n"
      ]
    },
    {
      "cell_type": "code",
      "metadata": {
        "colab": {
          "base_uri": "https://localhost:8080/"
        },
        "id": "2LpbBmlKeaNs",
        "outputId": "c50f87eb-8c98-439a-bf39-b8a09ba1cd88"
      },
      "source": [
        "from timeit import Timer\n",
        "\n",
        "t = Timer(\"for i in range(100): 1 + 1\")\n",
        "\n",
        "print(t.timeit())"
      ],
      "execution_count": null,
      "outputs": [
        {
          "output_type": "stream",
          "text": [
            "1.8960982759999752\n"
          ],
          "name": "stdout"
        }
      ]
    },
    {
      "cell_type": "code",
      "metadata": {
        "colab": {
          "base_uri": "https://localhost:8080/"
        },
        "id": "i_iLMXZOe0O_",
        "outputId": "dae8f992-495a-408e-e21d-cf1e8136e390"
      },
      "source": [
        "import datetime \n",
        "\n",
        "before = datetime.datetime.now()\n",
        "\n",
        "for i in range(100):\n",
        "  x = 1 + 1\n",
        "\n",
        "after = datetime.datetime.now()\n",
        "\n",
        "execution_time = after - before\n",
        "\n",
        "print(execution_time)"
      ],
      "execution_count": null,
      "outputs": [
        {
          "output_type": "stream",
          "text": [
            "0:00:00.000067\n"
          ],
          "name": "stdout"
        }
      ]
    },
    {
      "cell_type": "code",
      "metadata": {
        "colab": {
          "base_uri": "https://localhost:8080/"
        },
        "id": "r7VsJ7uZfhxX",
        "outputId": "74ca2df6-df17-47ff-a9a4-2fd753249a01"
      },
      "source": [
        "import time\n",
        "\n",
        "before = time.time()\n",
        "\n",
        "for i in range(100):\n",
        "  x = 1 + 1\n",
        "\n",
        "after = time.time()\n",
        "\n",
        "execution_time = after - before\n",
        "\n",
        "print(execution_time)"
      ],
      "execution_count": null,
      "outputs": [
        {
          "output_type": "stream",
          "text": [
            "0.00013327598571777344\n"
          ],
          "name": "stdout"
        }
      ]
    },
    {
      "cell_type": "markdown",
      "metadata": {
        "id": "YCXKbPSZaITB"
      },
      "source": [
        "## **Question 78**\n",
        "Question\n",
        "Please write a program to shuffle and print the list [3,6,7,8].\n",
        "\n",
        "### **Hints**\n",
        "Use shuffle() function to shuffle a list.\n"
      ]
    },
    {
      "cell_type": "code",
      "metadata": {
        "colab": {
          "base_uri": "https://localhost:8080/"
        },
        "id": "_klRnrmNaUml",
        "outputId": "3d11e2ea-1ec8-4edf-d6ad-ca37b7d6ea0c"
      },
      "source": [
        "from random import shuffle\n",
        "\n",
        "li = [3,6,7,8]\n",
        "\n",
        "shuffle(li)\n",
        "\n",
        "print(li)"
      ],
      "execution_count": 1,
      "outputs": [
        {
          "output_type": "stream",
          "text": [
            "[7, 6, 3, 8]\n"
          ],
          "name": "stdout"
        }
      ]
    },
    {
      "cell_type": "code",
      "metadata": {
        "colab": {
          "base_uri": "https://localhost:8080/"
        },
        "id": "osiHlGwHa1mF",
        "outputId": "3fe6f32d-06e8-4561-8f51-1fbe076cb8a1"
      },
      "source": [
        "import random\n",
        "\n",
        "lst = [3,6,7,8]\n",
        "\n",
        "random.shuffle(lst)\n",
        "\n",
        "print(lst)"
      ],
      "execution_count": 2,
      "outputs": [
        {
          "output_type": "stream",
          "text": [
            "[3, 7, 8, 6]\n"
          ],
          "name": "stdout"
        }
      ]
    },
    {
      "cell_type": "code",
      "metadata": {
        "colab": {
          "base_uri": "https://localhost:8080/"
        },
        "id": "z9AT4s0dbQlF",
        "outputId": "923ea55e-fc4b-41f3-cd0f-4dab523cb9d0"
      },
      "source": [
        "import random\n",
        "\n",
        "# shuffle with a chosen seed\n",
        "lst = [3,6,7,8]\n",
        "\n",
        "seed = 7\n",
        "\n",
        "random.Random(seed).shuffle(lst)\n",
        "\n",
        "print(lst)"
      ],
      "execution_count": 3,
      "outputs": [
        {
          "output_type": "stream",
          "text": [
            "[8, 6, 3, 7]\n"
          ],
          "name": "stdout"
        }
      ]
    },
    {
      "cell_type": "markdown",
      "metadata": {
        "id": "e_qO2ylXb9xx"
      },
      "source": [
        "## **Question 79**\n",
        "Question\n",
        "Please write a program to generate all sentences where subject is in\n",
        "\n",
        "```[\"I\", \"You\"]```\n",
        "\n",
        "and verb is in\n",
        "\n",
        "``` [\"Play\", \"Love\"]``` \n",
        "\n",
        "and the object is in\n",
        "\n",
        "``` [\"Hockey\",\"Football\"]``` .\n",
        "\n",
        "### **Hints**\n",
        "Use list[index] notation to get a element from a list."
      ]
    },
    {
      "cell_type": "code",
      "metadata": {
        "colab": {
          "base_uri": "https://localhost:8080/"
        },
        "id": "2hmooBT-c0LU",
        "outputId": "81b7e1b7-d6af-429a-d669-5253ba376bcd"
      },
      "source": [
        "subjects=[\"I\", \"You\"]\n",
        "\n",
        "verbs=[\"Play\", \"Love\"]\n",
        "\n",
        "objects=[\"Hockey\",\"Football\"]\n",
        "\n",
        "for i in range(len(subjects)):\n",
        "  for j in range(len(verbs)):\n",
        "    for k in range(len(objects)):\n",
        "      sentence = \"%s %s %s.\" % (subjects[i], verbs[j], objects[k])\n",
        "      print(sentence)"
      ],
      "execution_count": 4,
      "outputs": [
        {
          "output_type": "stream",
          "text": [
            "I Play Hockey.\n",
            "I Play Football.\n",
            "I Love Hockey.\n",
            "I Love Football.\n",
            "You Play Hockey.\n",
            "You Play Football.\n",
            "You Love Hockey.\n",
            "You Love Football.\n"
          ],
          "name": "stdout"
        }
      ]
    },
    {
      "cell_type": "code",
      "metadata": {
        "colab": {
          "base_uri": "https://localhost:8080/"
        },
        "id": "ZJHZ0Y9neOM9",
        "outputId": "30b14cac-73e8-4114-a181-7a182e2be8bd"
      },
      "source": [
        "subjects=[\"I\", \"You\"]\n",
        "verbs=[\"Play\", \"Love\"]\n",
        "objects=[\"Hockey\",\"Football\"]\n",
        "\n",
        "for sub in subjects:\n",
        "  for verb in verbs:\n",
        "    for obj in objects:\n",
        "      print(\"{} {} {}.\".format(sub, verb, obj))"
      ],
      "execution_count": 6,
      "outputs": [
        {
          "output_type": "stream",
          "text": [
            "I Play Hockey.\n",
            "I Play Football.\n",
            "I Love Hockey.\n",
            "I Love Football.\n",
            "You Play Hockey.\n",
            "You Play Football.\n",
            "You Love Hockey.\n",
            "You Love Football.\n"
          ],
          "name": "stdout"
        }
      ]
    },
    {
      "cell_type": "code",
      "metadata": {
        "colab": {
          "base_uri": "https://localhost:8080/"
        },
        "id": "UErmigbIe3ux",
        "outputId": "a095e022-2bfb-4ddd-e13c-730b72eb7c70"
      },
      "source": [
        "'''Solution by: popomaticbubble\n",
        "'''\n",
        "\n",
        "import itertools\n",
        "\n",
        "subject = [\"I\", \"You\"]\n",
        "verb = [\"Play\", \"Love\"]\n",
        "objects = [\"Hockey\",\"Football\"]\n",
        "\n",
        "sentence = [subject, verb, objects]\n",
        "\n",
        "n = list(itertools.product(*sentence))\n",
        "\n",
        "for i in n:\n",
        "  print(i)"
      ],
      "execution_count": 7,
      "outputs": [
        {
          "output_type": "stream",
          "text": [
            "('I', 'Play', 'Hockey')\n",
            "('I', 'Play', 'Football')\n",
            "('I', 'Love', 'Hockey')\n",
            "('I', 'Love', 'Football')\n",
            "('You', 'Play', 'Hockey')\n",
            "('You', 'Play', 'Football')\n",
            "('You', 'Love', 'Hockey')\n",
            "('You', 'Love', 'Football')\n"
          ],
          "name": "stdout"
        }
      ]
    },
    {
      "cell_type": "code",
      "metadata": {
        "colab": {
          "base_uri": "https://localhost:8080/"
        },
        "id": "ymjj2TOwfk6p",
        "outputId": "0e9a628a-f0a0-4b4c-b3c2-01b2234c7c68"
      },
      "source": [
        "'''Solution by: lcastrooliveira\n",
        "'''\n",
        "\n",
        "from itertools import product \n",
        "\n",
        "def question_79():\n",
        "    subj = [\"I\", \"You\"]\n",
        "    verb = [\"Play\", \"Love\"]\n",
        "    obj = [\"Hockey\", \"Football\"]\n",
        "    prod = [p for p in product(range(2), repeat = 3)]\n",
        "    \n",
        "    for combination in prod:\n",
        "      print(f'{subj[combination[0]]} {verb[combination[1]]} {obj[combination[2]]}.')\n",
        "\n",
        "question_79()"
      ],
      "execution_count": 11,
      "outputs": [
        {
          "output_type": "stream",
          "text": [
            "I Play Hockey.\n",
            "I Play Football.\n",
            "I Love Hockey.\n",
            "I Love Football.\n",
            "You Play Hockey.\n",
            "You Play Football.\n",
            "You Love Hockey.\n",
            "You Love Football.\n"
          ],
          "name": "stdout"
        }
      ]
    }
  ]
}