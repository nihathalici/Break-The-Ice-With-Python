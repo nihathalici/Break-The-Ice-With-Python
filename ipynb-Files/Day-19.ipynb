{
  "nbformat": 4,
  "nbformat_minor": 0,
  "metadata": {
    "colab": {
      "name": "Untitled1.ipynb",
      "provenance": [],
      "collapsed_sections": [],
      "toc_visible": true
    },
    "kernelspec": {
      "name": "python3",
      "display_name": "Python 3"
    }
  },
  "cells": [
    {
      "cell_type": "markdown",
      "metadata": {
        "id": "h6mgspFSAJxv"
      },
      "source": [
        "# **Day-19**"
      ]
    },
    {
      "cell_type": "markdown",
      "metadata": {
        "id": "lDAR-5yBcuuh"
      },
      "source": [
        "## **Question 75**\n",
        "Question\n",
        "Please write a program to randomly print a integer number\n",
        "between 7 and 15 inclusive.\n",
        "\n",
        "### **Hints**\n",
        "Use random.randrange() to a random integer in a given range."
      ]
    },
    {
      "cell_type": "code",
      "metadata": {
        "colab": {
          "base_uri": "https://localhost:8080/"
        },
        "id": "opXUiq7GdAgj",
        "outputId": "daa460f9-6997-4ebf-b1bd-6899370e89fe"
      },
      "source": [
        "import random\n",
        "\n",
        "print(random.randrange(7, 16))"
      ],
      "execution_count": 1,
      "outputs": [
        {
          "output_type": "stream",
          "text": [
            "13\n"
          ],
          "name": "stdout"
        }
      ]
    },
    {
      "cell_type": "markdown",
      "metadata": {
        "id": "lEYlSYP4dZME"
      },
      "source": [
        "## **Question 76**\n",
        "Question\n",
        "Please write a program to compress and decompress\n",
        "the string \"hello world!hello world!hello world!hello world!\".\n",
        "\n",
        "### **Hints**\n",
        "Use zlib.compress() and zlib.decompress() to compress and decompress a string."
      ]
    },
    {
      "cell_type": "code",
      "metadata": {
        "colab": {
          "base_uri": "https://localhost:8080/"
        },
        "id": "BoFeyAhndi2n",
        "outputId": "3fbc410d-0508-447d-d328-fba5677aa47d"
      },
      "source": [
        "'''Solution by: anas1434 \n",
        "'''\n",
        "\n",
        "import zlib\n",
        "\n",
        "s = 'hello world!hello world!hello world!hello world!'\n",
        "\n",
        "# In Python 3 zlib.compress() accepts only DataType <bytes>\n",
        "y = bytes(s, 'utf-8')\n",
        "\n",
        "x = zlib.compress(y)\n",
        "\n",
        "print(x)\n",
        "\n",
        "print(zlib.decompress(x))"
      ],
      "execution_count": 2,
      "outputs": [
        {
          "output_type": "stream",
          "text": [
            "b'x\\x9c\\xcbH\\xcd\\xc9\\xc9W(\\xcf/\\xcaIQ\\xcc \\x82\\r\\x00\\xbd[\\x11\\xf5'\n",
            "b'hello world!hello world!hello world!hello world!'\n"
          ],
          "name": "stdout"
        }
      ]
    },
    {
      "cell_type": "markdown",
      "metadata": {
        "id": "BZfqdNkjeOao"
      },
      "source": [
        "## **Question 77**\n",
        "Question\n",
        "Please write a program to print the running time of\n",
        "execution of \"1+1\" for 100 times.\n",
        "\n",
        "### **Hints**\n",
        "Use timeit() function to measure the running time.\n"
      ]
    },
    {
      "cell_type": "code",
      "metadata": {
        "colab": {
          "base_uri": "https://localhost:8080/"
        },
        "id": "2LpbBmlKeaNs",
        "outputId": "c50f87eb-8c98-439a-bf39-b8a09ba1cd88"
      },
      "source": [
        "from timeit import Timer\n",
        "\n",
        "t = Timer(\"for i in range(100): 1 + 1\")\n",
        "\n",
        "print(t.timeit())"
      ],
      "execution_count": 3,
      "outputs": [
        {
          "output_type": "stream",
          "text": [
            "1.8960982759999752\n"
          ],
          "name": "stdout"
        }
      ]
    },
    {
      "cell_type": "code",
      "metadata": {
        "colab": {
          "base_uri": "https://localhost:8080/"
        },
        "id": "i_iLMXZOe0O_",
        "outputId": "dae8f992-495a-408e-e21d-cf1e8136e390"
      },
      "source": [
        "import datetime \n",
        "\n",
        "before = datetime.datetime.now()\n",
        "\n",
        "for i in range(100):\n",
        "  x = 1 + 1\n",
        "\n",
        "after = datetime.datetime.now()\n",
        "\n",
        "execution_time = after - before\n",
        "\n",
        "print(execution_time)"
      ],
      "execution_count": 4,
      "outputs": [
        {
          "output_type": "stream",
          "text": [
            "0:00:00.000067\n"
          ],
          "name": "stdout"
        }
      ]
    },
    {
      "cell_type": "code",
      "metadata": {
        "colab": {
          "base_uri": "https://localhost:8080/"
        },
        "id": "r7VsJ7uZfhxX",
        "outputId": "74ca2df6-df17-47ff-a9a4-2fd753249a01"
      },
      "source": [
        "import time\n",
        "\n",
        "before = time.time()\n",
        "\n",
        "for i in range(100):\n",
        "  x = 1 + 1\n",
        "\n",
        "after = time.time()\n",
        "\n",
        "execution_time = after - before\n",
        "\n",
        "print(execution_time)"
      ],
      "execution_count": 5,
      "outputs": [
        {
          "output_type": "stream",
          "text": [
            "0.00013327598571777344\n"
          ],
          "name": "stdout"
        }
      ]
    }
  ]
}