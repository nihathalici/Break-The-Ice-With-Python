{
  "nbformat": 4,
  "nbformat_minor": 0,
  "metadata": {
    "colab": {
      "name": "Untitled1.ipynb",
      "provenance": [],
      "collapsed_sections": [],
      "toc_visible": true
    },
    "kernelspec": {
      "name": "python3",
      "display_name": "Python 3"
    }
  },
  "cells": [
    {
      "cell_type": "markdown",
      "metadata": {
        "id": "h6mgspFSAJxv"
      },
      "source": [
        "# **Day-2**"
      ]
    },
    {
      "cell_type": "markdown",
      "metadata": {
        "id": "yeUpr0XI4qC9"
      },
      "source": [
        "## **Question 4**\n",
        "Question:\n",
        "Write a program which accepts a sequence of comma-separated numbers from console\n",
        "and generate a list and a tuple which contains every number.\n",
        "\n",
        "Suppose the following input is supplied to the program:\n",
        "\n",
        "34,67,55,33,12,98\n",
        "\n",
        "Then, the output should be:\n",
        "\n",
        "['34', '67', '55', '33', '12', '98']\n",
        "('34', '67', '55', '33', '12', '98')\n",
        "\n",
        "### **Hints:**\n",
        "In case of input data being supplied to the question, it should be assumed to be\n",
        "a console input.tuple() method can convert list to tuple\n"
      ]
    },
    {
      "cell_type": "code",
      "metadata": {
        "colab": {
          "base_uri": "https://localhost:8080/"
        },
        "id": "xvhvf9to_F39",
        "outputId": "191eab5b-cfe1-44b2-8a71-5a44667e8a7d"
      },
      "source": [
        "# the input is being taken as string and as it is string it has a built in\n",
        "# method name split. ',' inside split function does split where it finds any ','\n",
        "# and save the input as list in lst variable\n",
        "\n",
        "lst = input().split(',')\n",
        "\n",
        "# tuple method converts list to tuple\n",
        "tpl = tuple(lst)\n",
        "\n",
        "print(lst)\n",
        "print(tpl)"
      ],
      "execution_count": null,
      "outputs": [
        {
          "output_type": "stream",
          "text": [
            "34,67,55,33,12,98\n",
            "['34', '67', '55', '33', '12', '98']\n",
            "('34', '67', '55', '33', '12', '98')\n"
          ],
          "name": "stdout"
        }
      ]
    },
    {
      "cell_type": "code",
      "metadata": {
        "colab": {
          "base_uri": "https://localhost:8080/"
        },
        "id": "hHZ7u1wDEtqf",
        "outputId": "d21bc163-0706-4914-baa7-3033bd0fb351"
      },
      "source": [
        "values = input()\n",
        "\n",
        "l = values.split(\",\")\n",
        "\n",
        "t = tuple(l)\n",
        "\n",
        "print(l)\n",
        "\n",
        "print(t)"
      ],
      "execution_count": null,
      "outputs": [
        {
          "output_type": "stream",
          "text": [
            "34,67,55,33,12,98\n",
            "['34', '67', '55', '33', '12', '98']\n",
            "('34', '67', '55', '33', '12', '98')\n"
          ],
          "name": "stdout"
        }
      ]
    },
    {
      "cell_type": "markdown",
      "metadata": {
        "id": "3eOo6yMCFWxr"
      },
      "source": [
        "## **Question 5**\n",
        "Question:\n",
        "Define a class which has at least two methods:\n",
        "\n",
        "**getString**: to get a string from console input\n",
        "\n",
        "**printString**: to print the string in upper case.\n",
        "\n",
        "Also please include simple test function to test the class methods.\n",
        "\n",
        "### **Hints:**\n",
        "Use init method to construct some parameters\n"
      ]
    },
    {
      "cell_type": "code",
      "metadata": {
        "colab": {
          "base_uri": "https://localhost:8080/"
        },
        "id": "fW5m23RxFsWI",
        "outputId": "0c1f33a6-f5b8-446b-ff7c-3543b2dca9d6"
      },
      "source": [
        "class InputOutString(object):\n",
        "  def __init__(self):\n",
        "    self.s = \"\"\n",
        "  \n",
        "  def get_string(self):\n",
        "    self.s = input()\n",
        "  \n",
        "  def print_string(self):\n",
        "    print(self.s.upper())\n",
        "\n",
        "str_obj = InputOutString()\n",
        "\n",
        "str_obj.get_string()\n",
        "\n",
        "str_obj.print_string()\n"
      ],
      "execution_count": null,
      "outputs": [
        {
          "output_type": "stream",
          "text": [
            "python\n",
            "PYTHON\n"
          ],
          "name": "stdout"
        }
      ]
    },
    {
      "cell_type": "code",
      "metadata": {
        "colab": {
          "base_uri": "https://localhost:8080/"
        },
        "id": "WtL2M92cHWZV",
        "outputId": "4813ff1b-3d6b-4487-e62e-3c66908d0bb8"
      },
      "source": [
        "class IOstring():\n",
        "  def get_string(self):\n",
        "    self.s = input()\n",
        "\n",
        "  def print_string(self):\n",
        "    print(self.s.upper())\n",
        "\n",
        "xx = IOstring()\n",
        "xx.get_string()\n",
        "xx.print_string()"
      ],
      "execution_count": null,
      "outputs": [
        {
          "output_type": "stream",
          "text": [
            "python\n",
            "PYTHON\n"
          ],
          "name": "stdout"
        }
      ]
    },
    {
      "cell_type": "markdown",
      "metadata": {
        "id": "3W-VR4-SLKu6"
      },
      "source": [
        "## **Question 6**\n",
        "Question:\n",
        "Write a program that calculates and prints the value according to the given formula:\n",
        "\n",
        "Q = Square root of [(2 _ C _ D)/H]\n",
        "\n",
        "Following are the fixed values of C and H:\n",
        "\n",
        "C is 50. H is 30.\n",
        "\n",
        "D is the variable whose values should be input to your program in a comma-separated sequence.\n",
        "For example Let us assume the following comma separated input sequence is given to the program:\n",
        "\n",
        "100,150,180\n",
        "The output of the program should be:\n",
        "\n",
        "18,22,24\n",
        "### **Hints:**\n",
        "If the output received is in decimal form, it should be rounded off to its nearest value\n",
        "(for example, if the output received is 26.0, it should be printed as 26).\n",
        "In case of input data being supplied to the question, it should be assumed to be a console input.\n"
      ]
    },
    {
      "cell_type": "code",
      "metadata": {
        "colab": {
          "base_uri": "https://localhost:8080/"
        },
        "id": "MJ_2e-mRLtqZ",
        "outputId": "14a9fe29-6612-44c5-b5d2-52164d1e2343"
      },
      "source": [
        "import math\n",
        "\n",
        "c = 50\n",
        "h = 30\n",
        "value = []\n",
        "\n",
        "items = [x for x in input().split(',')]\n",
        "\n",
        "for d in items:\n",
        "  value.append(str(int(round(math.sqrt(2 * c * float(d) / h)))))\n",
        "\n",
        "print(\",\".join(value))"
      ],
      "execution_count": null,
      "outputs": [
        {
          "output_type": "stream",
          "text": [
            "100,150,180 \n",
            "18,22,24\n"
          ],
          "name": "stdout"
        }
      ]
    },
    {
      "cell_type": "code",
      "metadata": {
        "colab": {
          "base_uri": "https://localhost:8080/"
        },
        "id": "ZBg6_FCGOdET",
        "outputId": "f5e22a25-087f-4601-c98b-93231a86f726"
      },
      "source": [
        "# import specific functions as importing all using * is bad practice\n",
        "from math import sqrt\n",
        "\n",
        "C, H = 50, 30\n",
        "\n",
        "def calc(D):\n",
        "  return sqrt((2 * C * D) / H)\n",
        "\n",
        "# splits in comma position and set up in list\n",
        "D = [int(i) for i in input().split(',')]\n",
        "\n",
        "# converts string to integer\n",
        "D = [int(i) for i in D]\n",
        "\n",
        "# returns floating value by calc method for every item in D\n",
        "D = [calc(i) for i in D]\n",
        "\n",
        "# All the floating values are rounded\n",
        "D = [round(i) for i in D]\n",
        "\n",
        "# All the integers are converted to string to be able to apply join operation\n",
        "D = [str(i) for i in D]\n",
        "\n",
        "print(\",\".join(D))\n"
      ],
      "execution_count": null,
      "outputs": [
        {
          "output_type": "stream",
          "text": [
            "100,150,180\n",
            "18,22,24\n"
          ],
          "name": "stdout"
        }
      ]
    },
    {
      "cell_type": "code",
      "metadata": {
        "colab": {
          "base_uri": "https://localhost:8080/"
        },
        "id": "d6OtOeLr-9oI",
        "outputId": "25a5f620-95ed-42ac-c7db-c355c4950b76"
      },
      "source": [
        "from math import sqrt\n",
        "\n",
        "C, H = 50, 30\n",
        "\n",
        "def calc(D):\n",
        "  return sqrt((2 * C * D) / H)\n",
        "\n",
        "D = input().split(',')\n",
        "\n",
        "D = [str(round(calc(int(i)))) for i in D]\n",
        "\n",
        "print(\",\".join(D))"
      ],
      "execution_count": 1,
      "outputs": [
        {
          "output_type": "stream",
          "text": [
            "100,150,180\n",
            "18,22,24\n"
          ],
          "name": "stdout"
        }
      ]
    },
    {
      "cell_type": "code",
      "metadata": {
        "colab": {
          "base_uri": "https://localhost:8080/"
        },
        "id": "aRZzxR_MAEdH",
        "outputId": "d367a2c0-46ab-4bbe-dbbd-03a783580f5d"
      },
      "source": [
        "from math import sqrt\n",
        "\n",
        "C, H = 50, 30\n",
        "\n",
        "def calc(D):\n",
        "  return sqrt((2 * C * D) / H)\n",
        "\n",
        "print(\",\".join([str(int(calc(int(i)))) for i in input().split(',')]))"
      ],
      "execution_count": 3,
      "outputs": [
        {
          "output_type": "stream",
          "text": [
            "100,150,180\n",
            "18,22,24\n"
          ],
          "name": "stdout"
        }
      ]
    },
    {
      "cell_type": "code",
      "metadata": {
        "colab": {
          "base_uri": "https://localhost:8080/"
        },
        "id": "QeFYprOcB3ly",
        "outputId": "7b804574-ae0b-4d17-8a95-a04ea5b11e10"
      },
      "source": [
        "from math import *\n",
        "\n",
        "C, H  = 50, 30\n",
        "\n",
        "def calc(D):\n",
        "  D = int(D)\n",
        "  return str(int(sqrt((2 * C * D) / H)))\n",
        "\n",
        "D = input().split(',')\n",
        "\n",
        "# applying calc function on D and storing as a list\n",
        "D = list(map(calc, D))\n",
        "\n",
        "print(\",\".join(D))"
      ],
      "execution_count": 4,
      "outputs": [
        {
          "output_type": "stream",
          "text": [
            "100,150,180\n",
            "18,22,24\n"
          ],
          "name": "stdout"
        }
      ]
    },
    {
      "cell_type": "code",
      "metadata": {
        "colab": {
          "base_uri": "https://localhost:8080/"
        },
        "id": "bYsGaxHfGC8u",
        "outputId": "ebd52361-1222-4a1d-bd34-e028f5e9cb0d"
      },
      "source": [
        "'''Solution by: parian5\n",
        "'''\n",
        "\n",
        "from math import sqrt\n",
        "\n",
        "C, H = 50, 30\n",
        "\n",
        "mylist = input().split(',')\n",
        "\n",
        "print(*(round(sqrt(2 * C * int(D) / H)) for D in mylist), sep = \",\")"
      ],
      "execution_count": 6,
      "outputs": [
        {
          "output_type": "stream",
          "text": [
            "100,150,180\n",
            "18,22,24\n"
          ],
          "name": "stdout"
        }
      ]
    },
    {
      "cell_type": "code",
      "metadata": {
        "colab": {
          "base_uri": "https://localhost:8080/"
        },
        "id": "qzxRCEgXH6Iy",
        "outputId": "9e714a09-0eb4-4017-fe15-7d7333391b4e"
      },
      "source": [
        "'''Solution by: saxenaharsh24\n",
        "'''\n",
        "\n",
        "my_list = [int(x) for x in input('').split(',')]\n",
        "\n",
        "C, H, x = 50, 30, []\n",
        "\n",
        "for D in my_list:\n",
        "  Q = ((2 * C * D) / H) ** (1 / 2)\n",
        "  x.append(round(Q))\n",
        "\n",
        "print(','.join(map(str, x)))"
      ],
      "execution_count": 7,
      "outputs": [
        {
          "output_type": "stream",
          "text": [
            "100,150,180\n",
            "18,22,24\n"
          ],
          "name": "stdout"
        }
      ]
    },
    {
      "cell_type": "markdown",
      "metadata": {
        "id": "vau0-hVVJ4bK"
      },
      "source": [
        "\"\"\"\n",
        "## **Question 7**\n",
        "Question:\n",
        "Write a program which takes 2 digits, X,Y as input and generates a 2-dimensional array.\n",
        "The element value in the i-th row and j-th column of the array should be i _ j.*\n",
        "\n",
        "Note: i=0,1.., X-1; j=0,1,¡­Y-1.\n",
        "\n",
        "Suppose the following inputs are given to the program:\n",
        "3,5\n",
        "\n",
        "Then, the output of the program should be:\n",
        "\n",
        "[[0, 0, 0, 0, 0], [0, 1, 2, 3, 4], [0, 2, 4, 6, 8]]\n",
        "\n",
        "### **Hints:**\n",
        "Note: In case of input data being supplied to the question, it should be assumed\n",
        "to be a console input in a comma-separated form.\n",
        "\"\"\""
      ]
    },
    {
      "cell_type": "code",
      "metadata": {
        "colab": {
          "base_uri": "https://localhost:8080/"
        },
        "id": "S1LCXxfXKN5K",
        "outputId": "5c7b9af9-5c4e-4eb9-f02f-c4ce1f5117bf"
      },
      "source": [
        "input_str = input()\n",
        "\n",
        "dimensions = [int(x) for x in input_str.split(',')]\n",
        "\n",
        "row_num = dimensions[0]\n",
        "\n",
        "col_num = dimensions[1]\n",
        "\n",
        "multilist = [[0 for col in range(col_num)] for row in range(row_num)]\n",
        "\n",
        "for row in range(row_num):\n",
        "  for col in range(col_num):\n",
        "    multilist[row][col] = row * col\n",
        "\n",
        "print(multilist)\n"
      ],
      "execution_count": 9,
      "outputs": [
        {
          "output_type": "stream",
          "text": [
            "3, 5\n",
            "[[0, 0, 0, 0, 0], [0, 1, 2, 3, 4], [0, 2, 4, 6, 8]]\n"
          ],
          "name": "stdout"
        }
      ]
    },
    {
      "cell_type": "code",
      "metadata": {
        "colab": {
          "base_uri": "https://localhost:8080/"
        },
        "id": "0wBxT7n6QuG1",
        "outputId": "9aa12f6d-b6ee-45c4-9326-fc8ba47568ea"
      },
      "source": [
        "x, y = map(int, input().split(','))\n",
        "\n",
        "lst = []\n",
        "\n",
        "for i in range(x):\n",
        "  tmp = []\n",
        "  for j in range(y):\n",
        "    tmp.append(i * j)\n",
        "  lst.append(tmp)\n",
        "\n",
        "print(lst)"
      ],
      "execution_count": 11,
      "outputs": [
        {
          "output_type": "stream",
          "text": [
            "3, 5\n",
            "[[0, 0, 0, 0, 0], [0, 1, 2, 3, 4], [0, 2, 4, 6, 8]]\n"
          ],
          "name": "stdout"
        }
      ]
    },
    {
      "cell_type": "code",
      "metadata": {
        "colab": {
          "base_uri": "https://localhost:8080/"
        },
        "id": "na-IjkJTRqxT",
        "outputId": "45992752-a721-44f1-e306-34b55a18a863"
      },
      "source": [
        "x, y = map(int, input().split(','))\n",
        "\n",
        "lst = [[i * j for j in range(y)] for i in range(x)]\n",
        "\n",
        "print(lst)"
      ],
      "execution_count": 12,
      "outputs": [
        {
          "output_type": "stream",
          "text": [
            "3, 5\n",
            "[[0, 0, 0, 0, 0], [0, 1, 2, 3, 4], [0, 2, 4, 6, 8]]\n"
          ],
          "name": "stdout"
        }
      ]
    },
    {
      "cell_type": "markdown",
      "metadata": {
        "id": "3YwQCwzDSUHU"
      },
      "source": [
        "## **Question 8**\n",
        "Question:\n",
        "Write a program that accepts a comma separated sequence of words as input\n",
        "and prints the words in a comma-separated sequence after sorting them alphabetically.\n",
        "\n",
        "Suppose the following input is supplied to the program:\n",
        "\n",
        "without,hello,bag,world\n",
        "\n",
        "Then, the output should be:\n",
        "\n",
        "bag,hello,without,world\n",
        "\n",
        "### **Hints:**\n",
        "In case of input data being supplied to the question, it should be assumed to be a console input."
      ]
    },
    {
      "cell_type": "code",
      "metadata": {
        "colab": {
          "base_uri": "https://localhost:8080/"
        },
        "id": "ct6uyJglSonS",
        "outputId": "bbaf7fef-716f-47d7-e3fa-ea313f09febe"
      },
      "source": [
        "lst = input().split(',')\n",
        "\n",
        "lst.sort()\n",
        "\n",
        "print(\",\".join(lst))"
      ],
      "execution_count": 13,
      "outputs": [
        {
          "output_type": "stream",
          "text": [
            "without,hello,bag,world\n",
            "bag,hello,without,world\n"
          ],
          "name": "stdout"
        }
      ]
    },
    {
      "cell_type": "code",
      "metadata": {
        "colab": {
          "base_uri": "https://localhost:8080/"
        },
        "id": "Q374MG_5Ujmx",
        "outputId": "d5b9a818-a5f6-452c-981c-c444fb78301c"
      },
      "source": [
        "'''Solution by Poonam-glitch\n",
        "'''\n",
        "\n",
        "def my_func(e):\n",
        "  return e[0]\n",
        "\n",
        "my_list = input(\"Enter a comma separated string: \").split(',')\n",
        "\n",
        "my_list.sort(key = my_func)\n",
        "\n",
        "print(\",\".join(my_list))"
      ],
      "execution_count": 14,
      "outputs": [
        {
          "output_type": "stream",
          "text": [
            "Enter a comma separated string: without,hello,bag,world\n",
            "bag,hello,without,world\n"
          ],
          "name": "stdout"
        }
      ]
    },
    {
      "cell_type": "markdown",
      "metadata": {
        "id": "nTPTc7ITVeVp"
      },
      "source": [
        "## **Question 9**\n",
        "Question:\n",
        "Write a program that accepts sequence of lines as input and prints the lines after making all characters\n",
        "in the sentence capitalized.\n",
        "\n",
        "Suppose the following input is supplied to the program:\n",
        "\n",
        "Hello world\n",
        "\n",
        "Practice makes perfect\n",
        "\n",
        "Then, the output should be:\n",
        "\n",
        "HELLO WORLD\n",
        "\n",
        "PRACTICE MAKES PERFECT\n",
        "\n",
        "### **Hints:**\n",
        "In case of input data being supplied to the question, it should be assumed to be a console input."
      ]
    },
    {
      "cell_type": "code",
      "metadata": {
        "colab": {
          "base_uri": "https://localhost:8080/"
        },
        "id": "qaBgZr2jV4Bj",
        "outputId": "68847ef2-3660-4001-e770-d63c01402f95"
      },
      "source": [
        "lst = []\n",
        "\n",
        "while True:\n",
        "  x = input()\n",
        "  if len(x) == 0:\n",
        "    break\n",
        "  lst.append(x.upper())\n",
        "\n",
        "for line in lst:\n",
        "  print(line)"
      ],
      "execution_count": 19,
      "outputs": [
        {
          "output_type": "stream",
          "text": [
            "Hello world\n",
            "Practice makes perfect\n",
            "\n",
            "HELLO WORLD\n",
            "PRACTICE MAKES PERFECT\n"
          ],
          "name": "stdout"
        }
      ]
    },
    {
      "cell_type": "code",
      "metadata": {
        "colab": {
          "base_uri": "https://localhost:8080/"
        },
        "id": "6na8rsc5bdJd",
        "outputId": "e4acf268-4862-4327-c034-f4babd406907"
      },
      "source": [
        "def user_input():\n",
        "  while True:\n",
        "    s = input()\n",
        "    if not s:\n",
        "      return\n",
        "    yield s\n",
        "\n",
        "for line in map(str.upper, user_input()):\n",
        "  print(line)"
      ],
      "execution_count": 23,
      "outputs": [
        {
          "output_type": "stream",
          "text": [
            "Hello world Practice makes perfect\n",
            "HELLO WORLD PRACTICE MAKES PERFECT\n",
            "\n"
          ],
          "name": "stdout"
        }
      ]
    },
    {
      "cell_type": "code",
      "metadata": {
        "colab": {
          "base_uri": "https://localhost:8080/"
        },
        "id": "bK8yFPh3g6EL",
        "outputId": "92cb4005-7881-44e9-bbcb-89ac5a8c7803"
      },
      "source": [
        "\n",
        "'''Soltuion by: hajimalung baba\n",
        "'''\n",
        "\n",
        "def inputs():\n",
        "  while True:\n",
        "    string = input()\n",
        "    if not string:\n",
        "      return\n",
        "    yield string\n",
        "\n",
        "print(*(line.upper() for line in inputs()), sep = \"\\n\")"
      ],
      "execution_count": 24,
      "outputs": [
        {
          "output_type": "stream",
          "text": [
            "Hello world\n",
            "Practice makes perfect\n",
            "\n",
            "HELLO WORLD\n",
            "PRACTICE MAKES PERFECT\n"
          ],
          "name": "stdout"
        }
      ]
    }
  ]
}