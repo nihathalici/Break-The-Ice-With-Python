{
  "nbformat": 4,
  "nbformat_minor": 0,
  "metadata": {
    "colab": {
      "name": "Untitled1.ipynb",
      "provenance": [],
      "collapsed_sections": []
    },
    "kernelspec": {
      "name": "python3",
      "display_name": "Python 3"
    }
  },
  "cells": [
    {
      "cell_type": "markdown",
      "metadata": {
        "id": "h6mgspFSAJxv"
      },
      "source": [
        "# **Day-3**"
      ]
    },
    {
      "cell_type": "markdown",
      "metadata": {
        "id": "ovgjgndTUpQq"
      },
      "source": [
        "##  **Question 10**\n",
        "Question\n",
        "Write a program that accepts a sequence of whitespace separated words as input and\n",
        "prints the words after removing all duplicate words and sorting them alphanumerically.\n",
        "\n",
        "Suppose the following input is supplied to the program:\n",
        "\n",
        "*hello world and practice makes perfect and hello world again*\n",
        "\n",
        "Then, the output should be:\n",
        "\n",
        "*again and hello makes perfect practice world*\n",
        "\n",
        "### **Hints:**\n",
        "In case of input data being supplied to the question, it should be assumed to be a console input.We use set container to remove duplicated data automatically and then use sorted() to sort the data."
      ]
    },
    {
      "cell_type": "code",
      "metadata": {
        "colab": {
          "base_uri": "https://localhost:8080/"
        },
        "id": "jEEStaxaU_dq",
        "outputId": "e0d8db9a-5f7c-41ae-892b-7ec3d98fc503"
      },
      "source": [
        "word = input().split()\n",
        "\n",
        "for i in word:\n",
        "  if word.count(i) > 1:\n",
        "    word.remove(i)\n",
        "\n",
        "word.sort()\n",
        "print(\" \".join(word))"
      ],
      "execution_count": null,
      "outputs": [
        {
          "output_type": "stream",
          "text": [
            "hello world and practice makes perfect and hello world again\n",
            "again and hello makes perfect practice world\n"
          ],
          "name": "stdout"
        }
      ]
    },
    {
      "cell_type": "code",
      "metadata": {
        "colab": {
          "base_uri": "https://localhost:8080/"
        },
        "id": "ZgrgAsklYqDF",
        "outputId": "08ee259c-1af4-445d-ef45-e4812aef428f"
      },
      "source": [
        "word = input().split()\n",
        "\n",
        "# removal operation with comprehension method\n",
        "[word.remove(i) for i in word if word.count(i) > 1]\n",
        "\n",
        "word.sort()\n",
        "\n",
        "print(\" \".join(word))"
      ],
      "execution_count": null,
      "outputs": [
        {
          "output_type": "stream",
          "text": [
            "hello world and practice makes perfect and hello world again\n",
            "again and hello makes perfect practice world\n"
          ],
          "name": "stdout"
        }
      ]
    },
    {
      "cell_type": "code",
      "metadata": {
        "colab": {
          "base_uri": "https://localhost:8080/"
        },
        "id": "2nJPISEkZhlw",
        "outputId": "b04b78b8-5503-4265-8599-07fa9b9051f1"
      },
      "source": [
        "#  input string splits -> converting into set() to store unique\n",
        "#  element -> converting into list to be able to apply sort\n",
        "\n",
        "word =  sorted(list(set(input().split())))\n",
        "\n",
        "print(\" \".join(word))"
      ],
      "execution_count": 1,
      "outputs": [
        {
          "output_type": "stream",
          "text": [
            "hello world and practice makes perfect and hello world again\n",
            "again and hello makes perfect practice world\n"
          ],
          "name": "stdout"
        }
      ]
    },
    {
      "cell_type": "code",
      "metadata": {
        "colab": {
          "base_uri": "https://localhost:8080/"
        },
        "id": "IEWiQVP54Kp0",
        "outputId": "c6efe3da-50ab-49f6-b4a5-7218236f9c73"
      },
      "source": [
        "'''Solution by: Sukanya-Mahapatra\n",
        "'''\n",
        "\n",
        "inp_string = input(\"Enter string: \").split()\n",
        "\n",
        "out_string = []\n",
        "\n",
        "for words in inp_string:\n",
        "  if words not in out_string:\n",
        "    out_string.append(words)\n",
        "\n",
        "print(\" \".join(sorted(out_string)))"
      ],
      "execution_count": 4,
      "outputs": [
        {
          "output_type": "stream",
          "text": [
            "Enter string: hello world and practice makes perfect and hello world again\n",
            "again and hello makes perfect practice world\n"
          ],
          "name": "stdout"
        }
      ]
    },
    {
      "cell_type": "markdown",
      "metadata": {
        "id": "whbDZW7g6RmH"
      },
      "source": [
        "## **Question 11**\n",
        "Question\n",
        "Write a program which accepts a sequence of comma separated 4 digit binary numbers\n",
        "as its input and then check whether they are divisible by 5 or not.\n",
        "The numbers that are divisible by 5 are to be printed in a comma separated sequence.\n",
        "\n",
        "Example:\n",
        "\n",
        "**0100,0011,1010,1001**\n",
        "\n",
        "Then the output should be:\n",
        "\n",
        "**1010**\n",
        "\n",
        "Notes: Assume the data is input by console.\n",
        "\n",
        "### **Hints:**\n",
        "In case of input data being supplied to the question, it should be assumed to be a console input."
      ]
    },
    {
      "cell_type": "code",
      "metadata": {
        "colab": {
          "base_uri": "https://localhost:8080/"
        },
        "id": "Di0JEWT1638x",
        "outputId": "0a667244-3cc4-4c20-b93e-3d69efe87911"
      },
      "source": [
        "# converts binary to integer & returns zero if divisible by 5\n",
        "def check(x):\n",
        "  total, pw = 0, 1\n",
        "  reversed(x)\n",
        "\n",
        "  # ord() function returns ASCII value\n",
        "  for i in x:\n",
        "    total += pw * (ord(i) - 48)\n",
        "    pw *= 2\n",
        "  return total % 5\n",
        "\n",
        "# inputs taken here and splitted in ',' position\n",
        "data = input().split(\",\")\n",
        "lst = []\n",
        "\n",
        "# if zero found it means divisible by zero and added to the list\n",
        "for i in data:\n",
        "  if check(i) == 0:\n",
        "    lst.append(i)\n",
        "\n",
        "print(\",\".join(lst))"
      ],
      "execution_count": 5,
      "outputs": [
        {
          "output_type": "stream",
          "text": [
            "0100,0011,1010,1001\n",
            "1010\n"
          ],
          "name": "stdout"
        }
      ]
    },
    {
      "cell_type": "code",
      "metadata": {
        "colab": {
          "base_uri": "https://localhost:8080/"
        },
        "id": "R50H0rgt9-Nz",
        "outputId": "d1cb6378-e1dc-41b1-cb92-1f63d786aec4"
      },
      "source": [
        "# check function returns true if divisible by 5\n",
        "def check(x):\n",
        "  # int(x,b) takes x as string and b as base from which\n",
        "  # it will be converted to decimal\n",
        "  return int(x, 2) % 5 == 0\n",
        "\n",
        "data = input().split(',')\n",
        "\n",
        "# in filter(func,object) function, elements are picked from 'data'\n",
        "# if found True by 'check' function\n",
        "data = filter(check, data)\n",
        "\n",
        "print(\",\".join(data))"
      ],
      "execution_count": 6,
      "outputs": [
        {
          "output_type": "stream",
          "text": [
            "0100,0011,1010,1001\n",
            "1010\n"
          ],
          "name": "stdout"
        }
      ]
    },
    {
      "cell_type": "code",
      "metadata": {
        "colab": {
          "base_uri": "https://localhost:8080/"
        },
        "id": "JNoW9Iq8AWT4",
        "outputId": "0174e4f7-45e1-4418-eac5-24bc104b329f"
      },
      "source": [
        "data = input().split(',')\n",
        "\n",
        "data = list(filter(lambda i: int(i, 2) % 5 == 0, data))\n",
        "\n",
        "print(\" \".join(data))"
      ],
      "execution_count": 7,
      "outputs": [
        {
          "output_type": "stream",
          "text": [
            "0100,0011,1010,1001\n",
            "1010\n"
          ],
          "name": "stdout"
        }
      ]
    },
    {
      "cell_type": "code",
      "metadata": {
        "colab": {
          "base_uri": "https://localhost:8080/"
        },
        "id": "rDaMWGl7B95T",
        "outputId": "fc652f56-15a8-47d5-def7-3abbdd17a926"
      },
      "source": [
        "'''Solution by: nikitaMogilev\n",
        "'''\n",
        "\n",
        "data = input().split(',')\n",
        "\n",
        "data = [num for num in data if int(num, 2) % 5 == 0]\n",
        "\n",
        "print(\",\".join(data))"
      ],
      "execution_count": 8,
      "outputs": [
        {
          "output_type": "stream",
          "text": [
            "0100,0011,1010,1001\n",
            "1010\n"
          ],
          "name": "stdout"
        }
      ]
    },
    {
      "cell_type": "code",
      "metadata": {
        "colab": {
          "base_uri": "https://localhost:8080/"
        },
        "id": "CUz8DRyrCmSB",
        "outputId": "06d395c9-e752-4421-afa7-06afb3bba4cd"
      },
      "source": [
        "'''Solution by: hajimalung baba\n",
        "'''\n",
        "print(*( binary for binary in input().split(',') if int(binary, base = 2) % 5 == 0))"
      ],
      "execution_count": 9,
      "outputs": [
        {
          "output_type": "stream",
          "text": [
            "0100,0011,1010,1001\n",
            "1010\n"
          ],
          "name": "stdout"
        }
      ]
    }
  ]
}