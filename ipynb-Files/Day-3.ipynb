{
  "nbformat": 4,
  "nbformat_minor": 0,
  "metadata": {
    "colab": {
      "name": "Untitled1.ipynb",
      "provenance": [],
      "collapsed_sections": [],
      "toc_visible": true
    },
    "kernelspec": {
      "name": "python3",
      "display_name": "Python 3"
    }
  },
  "cells": [
    {
      "cell_type": "markdown",
      "metadata": {
        "id": "h6mgspFSAJxv"
      },
      "source": [
        "# **Day-3**"
      ]
    },
    {
      "cell_type": "markdown",
      "metadata": {
        "id": "ovgjgndTUpQq"
      },
      "source": [
        "##  **Question 10**\n",
        "Question\n",
        "Write a program that accepts a sequence of whitespace separated words as input and\n",
        "prints the words after removing all duplicate words and sorting them alphanumerically.\n",
        "\n",
        "Suppose the following input is supplied to the program:\n",
        "\n",
        "*hello world and practice makes perfect and hello world again*\n",
        "\n",
        "Then, the output should be:\n",
        "\n",
        "*again and hello makes perfect practice world*\n",
        "\n",
        "### **Hints:**\n",
        "In case of input data being supplied to the question, it should be assumed to be a console input.We use set container to remove duplicated data automatically and then use sorted() to sort the data."
      ]
    },
    {
      "cell_type": "code",
      "metadata": {
        "colab": {
          "base_uri": "https://localhost:8080/"
        },
        "id": "jEEStaxaU_dq",
        "outputId": "e0d8db9a-5f7c-41ae-892b-7ec3d98fc503"
      },
      "source": [
        "word = input().split()\n",
        "\n",
        "for i in word:\n",
        "  if word.count(i) > 1:\n",
        "    word.remove(i)\n",
        "\n",
        "word.sort()\n",
        "print(\" \".join(word))"
      ],
      "execution_count": null,
      "outputs": [
        {
          "output_type": "stream",
          "text": [
            "hello world and practice makes perfect and hello world again\n",
            "again and hello makes perfect practice world\n"
          ],
          "name": "stdout"
        }
      ]
    },
    {
      "cell_type": "code",
      "metadata": {
        "colab": {
          "base_uri": "https://localhost:8080/"
        },
        "id": "ZgrgAsklYqDF",
        "outputId": "08ee259c-1af4-445d-ef45-e4812aef428f"
      },
      "source": [
        "word = input().split()\n",
        "\n",
        "# removal operation with comprehension method\n",
        "[word.remove(i) for i in word if word.count(i) > 1]\n",
        "\n",
        "word.sort()\n",
        "\n",
        "print(\" \".join(word))"
      ],
      "execution_count": null,
      "outputs": [
        {
          "output_type": "stream",
          "text": [
            "hello world and practice makes perfect and hello world again\n",
            "again and hello makes perfect practice world\n"
          ],
          "name": "stdout"
        }
      ]
    },
    {
      "cell_type": "code",
      "metadata": {
        "colab": {
          "base_uri": "https://localhost:8080/"
        },
        "id": "2nJPISEkZhlw",
        "outputId": "b04b78b8-5503-4265-8599-07fa9b9051f1"
      },
      "source": [
        "#  input string splits -> converting into set() to store unique\n",
        "#  element -> converting into list to be able to apply sort\n",
        "\n",
        "word =  sorted(list(set(input().split())))\n",
        "\n",
        "print(\" \".join(word))"
      ],
      "execution_count": null,
      "outputs": [
        {
          "output_type": "stream",
          "text": [
            "hello world and practice makes perfect and hello world again\n",
            "again and hello makes perfect practice world\n"
          ],
          "name": "stdout"
        }
      ]
    },
    {
      "cell_type": "code",
      "metadata": {
        "colab": {
          "base_uri": "https://localhost:8080/"
        },
        "id": "IEWiQVP54Kp0",
        "outputId": "c6efe3da-50ab-49f6-b4a5-7218236f9c73"
      },
      "source": [
        "'''Solution by: Sukanya-Mahapatra\n",
        "'''\n",
        "\n",
        "inp_string = input(\"Enter string: \").split()\n",
        "\n",
        "out_string = []\n",
        "\n",
        "for words in inp_string:\n",
        "  if words not in out_string:\n",
        "    out_string.append(words)\n",
        "\n",
        "print(\" \".join(sorted(out_string)))"
      ],
      "execution_count": null,
      "outputs": [
        {
          "output_type": "stream",
          "text": [
            "Enter string: hello world and practice makes perfect and hello world again\n",
            "again and hello makes perfect practice world\n"
          ],
          "name": "stdout"
        }
      ]
    },
    {
      "cell_type": "markdown",
      "metadata": {
        "id": "whbDZW7g6RmH"
      },
      "source": [
        "## **Question 11**\n",
        "Question\n",
        "Write a program which accepts a sequence of comma separated 4 digit binary numbers\n",
        "as its input and then check whether they are divisible by 5 or not.\n",
        "The numbers that are divisible by 5 are to be printed in a comma separated sequence.\n",
        "\n",
        "Example:\n",
        "\n",
        "**0100,0011,1010,1001**\n",
        "\n",
        "Then the output should be:\n",
        "\n",
        "**1010**\n",
        "\n",
        "Notes: Assume the data is input by console.\n",
        "\n",
        "### **Hints:**\n",
        "In case of input data being supplied to the question, it should be assumed to be a console input."
      ]
    },
    {
      "cell_type": "code",
      "metadata": {
        "colab": {
          "base_uri": "https://localhost:8080/"
        },
        "id": "Di0JEWT1638x",
        "outputId": "0a667244-3cc4-4c20-b93e-3d69efe87911"
      },
      "source": [
        "# converts binary to integer & returns zero if divisible by 5\n",
        "def check(x):\n",
        "  total, pw = 0, 1\n",
        "  reversed(x)\n",
        "\n",
        "  # ord() function returns ASCII value\n",
        "  for i in x:\n",
        "    total += pw * (ord(i) - 48)\n",
        "    pw *= 2\n",
        "  return total % 5\n",
        "\n",
        "# inputs taken here and splitted in ',' position\n",
        "data = input().split(\",\")\n",
        "lst = []\n",
        "\n",
        "# if zero found it means divisible by zero and added to the list\n",
        "for i in data:\n",
        "  if check(i) == 0:\n",
        "    lst.append(i)\n",
        "\n",
        "print(\",\".join(lst))"
      ],
      "execution_count": null,
      "outputs": [
        {
          "output_type": "stream",
          "text": [
            "0100,0011,1010,1001\n",
            "1010\n"
          ],
          "name": "stdout"
        }
      ]
    },
    {
      "cell_type": "code",
      "metadata": {
        "colab": {
          "base_uri": "https://localhost:8080/"
        },
        "id": "R50H0rgt9-Nz",
        "outputId": "d1cb6378-e1dc-41b1-cb92-1f63d786aec4"
      },
      "source": [
        "# check function returns true if divisible by 5\n",
        "def check(x):\n",
        "  # int(x,b) takes x as string and b as base from which\n",
        "  # it will be converted to decimal\n",
        "  return int(x, 2) % 5 == 0\n",
        "\n",
        "data = input().split(',')\n",
        "\n",
        "# in filter(func,object) function, elements are picked from 'data'\n",
        "# if found True by 'check' function\n",
        "data = filter(check, data)\n",
        "\n",
        "print(\",\".join(data))"
      ],
      "execution_count": null,
      "outputs": [
        {
          "output_type": "stream",
          "text": [
            "0100,0011,1010,1001\n",
            "1010\n"
          ],
          "name": "stdout"
        }
      ]
    },
    {
      "cell_type": "code",
      "metadata": {
        "colab": {
          "base_uri": "https://localhost:8080/"
        },
        "id": "JNoW9Iq8AWT4",
        "outputId": "0174e4f7-45e1-4418-eac5-24bc104b329f"
      },
      "source": [
        "data = input().split(',')\n",
        "\n",
        "data = list(filter(lambda i: int(i, 2) % 5 == 0, data))\n",
        "\n",
        "print(\" \".join(data))"
      ],
      "execution_count": null,
      "outputs": [
        {
          "output_type": "stream",
          "text": [
            "0100,0011,1010,1001\n",
            "1010\n"
          ],
          "name": "stdout"
        }
      ]
    },
    {
      "cell_type": "code",
      "metadata": {
        "colab": {
          "base_uri": "https://localhost:8080/"
        },
        "id": "rDaMWGl7B95T",
        "outputId": "fc652f56-15a8-47d5-def7-3abbdd17a926"
      },
      "source": [
        "'''Solution by: nikitaMogilev\n",
        "'''\n",
        "\n",
        "data = input().split(',')\n",
        "\n",
        "data = [num for num in data if int(num, 2) % 5 == 0]\n",
        "\n",
        "print(\",\".join(data))"
      ],
      "execution_count": null,
      "outputs": [
        {
          "output_type": "stream",
          "text": [
            "0100,0011,1010,1001\n",
            "1010\n"
          ],
          "name": "stdout"
        }
      ]
    },
    {
      "cell_type": "code",
      "metadata": {
        "colab": {
          "base_uri": "https://localhost:8080/"
        },
        "id": "CUz8DRyrCmSB",
        "outputId": "06d395c9-e752-4421-afa7-06afb3bba4cd"
      },
      "source": [
        "'''Solution by: hajimalung baba\n",
        "'''\n",
        "print(*( binary for binary in input().split(',') if int(binary, base = 2) % 5 == 0))"
      ],
      "execution_count": null,
      "outputs": [
        {
          "output_type": "stream",
          "text": [
            "0100,0011,1010,1001\n",
            "1010\n"
          ],
          "name": "stdout"
        }
      ]
    },
    {
      "cell_type": "markdown",
      "metadata": {
        "id": "9iZHWR4mGvoh"
      },
      "source": [
        "## **Question 12**\n",
        "Question:\n",
        "Write a program, which will find all such numbers between 1000 and 3000 (both included)\n",
        "such that each digit of the number is an even number.The numbers obtained should be printed\n",
        "in a comma-separated sequence on a single line.\n",
        "\n",
        "### **Hints:**\n",
        "In case of input data being supplied to the question, it should be assumed to be a console input."
      ]
    },
    {
      "cell_type": "code",
      "metadata": {
        "colab": {
          "base_uri": "https://localhost:8080/"
        },
        "id": "z9SJ-bksTuBG",
        "outputId": "9e0e65c9-5685-4e86-f9ea-125890609040"
      },
      "source": [
        "lst = []\n",
        "\n",
        "for i in range(1000, 3001):\n",
        "  flag = 1\n",
        "  # every integer number i is converted into string\n",
        "  for j in str(i):\n",
        "    # ord returns ASCII value and j is every digit of i\n",
        "    if ord(j) % 2 != 0:\n",
        "      # flag becomes zero if any odd digit found\n",
        "      flag = 0\n",
        "  if flag == 1:\n",
        "    # i is stored in list as string\n",
        "    lst.append(str(i))\n",
        "\n",
        "print(\",\".join(lst))\n"
      ],
      "execution_count": null,
      "outputs": [
        {
          "output_type": "stream",
          "text": [
            "2000,2002,2004,2006,2008,2020,2022,2024,2026,2028,2040,2042,2044,2046,2048,2060,2062,2064,2066,2068,2080,2082,2084,2086,2088,2200,2202,2204,2206,2208,2220,2222,2224,2226,2228,2240,2242,2244,2246,2248,2260,2262,2264,2266,2268,2280,2282,2284,2286,2288,2400,2402,2404,2406,2408,2420,2422,2424,2426,2428,2440,2442,2444,2446,2448,2460,2462,2464,2466,2468,2480,2482,2484,2486,2488,2600,2602,2604,2606,2608,2620,2622,2624,2626,2628,2640,2642,2644,2646,2648,2660,2662,2664,2666,2668,2680,2682,2684,2686,2688,2800,2802,2804,2806,2808,2820,2822,2824,2826,2828,2840,2842,2844,2846,2848,2860,2862,2864,2866,2868,2880,2882,2884,2886,2888\n"
          ],
          "name": "stdout"
        }
      ]
    },
    {
      "cell_type": "code",
      "metadata": {
        "colab": {
          "base_uri": "https://localhost:8080/"
        },
        "id": "iQvdE1_9HErZ",
        "outputId": "928d478c-0150-453d-fd51-7bb1ae8d9d64"
      },
      "source": [
        "def check(element):\n",
        "  # all returns True if all digits i is even in element\n",
        "  return all(ord(i) % 2 == 0 for i in element)\n",
        "\n",
        "# creates list of all given numbers with string data type\n",
        "lst = [str(i) for i in range(1000, 3001)]\n",
        "\n",
        "# filter removes element from list if check condition fails\n",
        "lst = list(filter(check, lst))\n",
        "\n",
        "print(\",\".join(lst))"
      ],
      "execution_count": null,
      "outputs": [
        {
          "output_type": "stream",
          "text": [
            "2000,2002,2004,2006,2008,2020,2022,2024,2026,2028,2040,2042,2044,2046,2048,2060,2062,2064,2066,2068,2080,2082,2084,2086,2088,2200,2202,2204,2206,2208,2220,2222,2224,2226,2228,2240,2242,2244,2246,2248,2260,2262,2264,2266,2268,2280,2282,2284,2286,2288,2400,2402,2404,2406,2408,2420,2422,2424,2426,2428,2440,2442,2444,2446,2448,2460,2462,2464,2466,2468,2480,2482,2484,2486,2488,2600,2602,2604,2606,2608,2620,2622,2624,2626,2628,2640,2642,2644,2646,2648,2660,2662,2664,2666,2668,2680,2682,2684,2686,2688,2800,2802,2804,2806,2808,2820,2822,2824,2826,2828,2840,2842,2844,2846,2848,2860,2862,2864,2866,2868,2880,2882,2884,2886,2888\n"
          ],
          "name": "stdout"
        }
      ]
    },
    {
      "cell_type": "code",
      "metadata": {
        "id": "AoOIzSSXU-rd",
        "colab": {
          "base_uri": "https://localhost:8080/"
        },
        "outputId": "d55a487c-2ee0-404c-845b-a6ff9ec44154"
      },
      "source": [
        "lst = [str(i) for i in range(1000, 3001)]\n",
        "\n",
        "# using lambda to define function inside filter function\n",
        "lst = list(filter(lambda i: all(ord(j) % 2 == 0 for j in i), lst))\n",
        "\n",
        "print(\",\".join(lst))"
      ],
      "execution_count": null,
      "outputs": [
        {
          "output_type": "stream",
          "text": [
            "2000,2002,2004,2006,2008,2020,2022,2024,2026,2028,2040,2042,2044,2046,2048,2060,2062,2064,2066,2068,2080,2082,2084,2086,2088,2200,2202,2204,2206,2208,2220,2222,2224,2226,2228,2240,2242,2244,2246,2248,2260,2262,2264,2266,2268,2280,2282,2284,2286,2288,2400,2402,2404,2406,2408,2420,2422,2424,2426,2428,2440,2442,2444,2446,2448,2460,2462,2464,2466,2468,2480,2482,2484,2486,2488,2600,2602,2604,2606,2608,2620,2622,2624,2626,2628,2640,2642,2644,2646,2648,2660,2662,2664,2666,2668,2680,2682,2684,2686,2688,2800,2802,2804,2806,2808,2820,2822,2824,2826,2828,2840,2842,2844,2846,2848,2860,2862,2864,2866,2868,2880,2882,2884,2886,2888\n"
          ],
          "name": "stdout"
        }
      ]
    },
    {
      "cell_type": "code",
      "metadata": {
        "colab": {
          "base_uri": "https://localhost:8080/"
        },
        "id": "kkAF73b5Vux3",
        "outputId": "f87d9ab1-a6e8-4232-bb93-8b6ae10f9571"
      },
      "source": [
        "'''Solution by: nikitaMogilev\n",
        "'''\n",
        "\n",
        "# map() digits of each number with lambda function and check if all() of them even\n",
        "# str(num) gives us opportunity to iterate through number by map() and join()\n",
        "\n",
        "print(','.join([str(num) for num in range(1000, 3001) if all(map(lambda num: int(num) % 2 == 0, str(num)))]))"
      ],
      "execution_count": null,
      "outputs": [
        {
          "output_type": "stream",
          "text": [
            "2000,2002,2004,2006,2008,2020,2022,2024,2026,2028,2040,2042,2044,2046,2048,2060,2062,2064,2066,2068,2080,2082,2084,2086,2088,2200,2202,2204,2206,2208,2220,2222,2224,2226,2228,2240,2242,2244,2246,2248,2260,2262,2264,2266,2268,2280,2282,2284,2286,2288,2400,2402,2404,2406,2408,2420,2422,2424,2426,2428,2440,2442,2444,2446,2448,2460,2462,2464,2466,2468,2480,2482,2484,2486,2488,2600,2602,2604,2606,2608,2620,2622,2624,2626,2628,2640,2642,2644,2646,2648,2660,2662,2664,2666,2668,2680,2682,2684,2686,2688,2800,2802,2804,2806,2808,2820,2822,2824,2826,2828,2840,2842,2844,2846,2848,2860,2862,2864,2866,2868,2880,2882,2884,2886,2888\n"
          ],
          "name": "stdout"
        }
      ]
    },
    {
      "cell_type": "code",
      "metadata": {
        "colab": {
          "base_uri": "https://localhost:8080/"
        },
        "id": "ZbJk-Ljhx8Ga",
        "outputId": "ba0afd2c-84c6-48e7-d510-4a7760c80e7d"
      },
      "source": [
        "\n",
        "'''Solution by: hajimalung\n",
        "'''\n",
        "from functools import reduce\n",
        "\n",
        "#using reduce to check if the number has only even digits or not\n",
        "def is_even_and(bool_to_compare, num_as_char):\n",
        "  return int(num_as_char) % 2 == 0 and bool_to_compare\n",
        "\n",
        "print(*(i for i in range(1000, 3001) if reduce(is_even_and, str(i), True)), sep = ',')"
      ],
      "execution_count": null,
      "outputs": [
        {
          "output_type": "stream",
          "text": [
            "2000,2002,2004,2006,2008,2020,2022,2024,2026,2028,2040,2042,2044,2046,2048,2060,2062,2064,2066,2068,2080,2082,2084,2086,2088,2200,2202,2204,2206,2208,2220,2222,2224,2226,2228,2240,2242,2244,2246,2248,2260,2262,2264,2266,2268,2280,2282,2284,2286,2288,2400,2402,2404,2406,2408,2420,2422,2424,2426,2428,2440,2442,2444,2446,2448,2460,2462,2464,2466,2468,2480,2482,2484,2486,2488,2600,2602,2604,2606,2608,2620,2622,2624,2626,2628,2640,2642,2644,2646,2648,2660,2662,2664,2666,2668,2680,2682,2684,2686,2688,2800,2802,2804,2806,2808,2820,2822,2824,2826,2828,2840,2842,2844,2846,2848,2860,2862,2864,2866,2868,2880,2882,2884,2886,2888\n"
          ],
          "name": "stdout"
        }
      ]
    },
    {
      "cell_type": "markdown",
      "metadata": {
        "id": "0sGd1AhczcHV"
      },
      "source": [
        "## **Question 13**\n",
        "Question:\n",
        "Write a program that accepts a sentence and calculate the number of letters and digits.\n",
        "\n",
        "Suppose the following input is supplied to the program:\n",
        "\n",
        "**hello world! 123**\n",
        "\n",
        "Then, the output should be:\n",
        "\n",
        "**LETTERS 10**\n",
        "\n",
        "**DIGITS 3** \n",
        "\n",
        "### **Hints:**\n",
        "In case of input data being supplied to the question, it should be assumed to be a console input."
      ]
    },
    {
      "cell_type": "code",
      "metadata": {
        "colab": {
          "base_uri": "https://localhost:8080/"
        },
        "id": "PjXiltGa0aGe",
        "outputId": "9cd65d62-404d-4c7e-ae6a-3f94ebe1d971"
      },
      "source": [
        "word = input()\n",
        "\n",
        "letter, digit = 0, 0\n",
        "\n",
        "for i in word:\n",
        "  if ('a' <= i and i <= 'z') or ('A' <= i and i <= 'Z'):\n",
        "    letter += 1\n",
        "  if '0' <= i and i <= '9':\n",
        "    digit += 1\n",
        "\n",
        "print(\"LETTERS: {0}\\nDIGITS: {1}\".format(letter, digit))"
      ],
      "execution_count": null,
      "outputs": [
        {
          "output_type": "stream",
          "text": [
            "hello world! 123\n",
            "LETTERS: 10\n",
            "DIGITS: 3\n"
          ],
          "name": "stdout"
        }
      ]
    },
    {
      "cell_type": "code",
      "metadata": {
        "colab": {
          "base_uri": "https://localhost:8080/"
        },
        "id": "WEDpgsXS2ivF",
        "outputId": "d3898f8a-f8d4-41c9-9083-0a92db32c514"
      },
      "source": [
        "''' Solution by: popomaticbubble\n",
        "'''\n",
        "\n",
        "import re\n",
        "\n",
        "input_string = input('> ')\n",
        "\n",
        "print()\n",
        "\n",
        "counter = {\"LETTERS\": len(re.findall(\"[a-zA-Z]\", input_string)), \"NUMBERS\":len(re.findall(\"[0-9]\", input_string))}\n",
        "\n",
        "print(counter)\n"
      ],
      "execution_count": null,
      "outputs": [
        {
          "output_type": "stream",
          "text": [
            "> hello world! 123\n",
            "\n",
            "{'LETTERS': 10, 'NUMBERS': 3}\n"
          ],
          "name": "stdout"
        }
      ]
    },
    {
      "cell_type": "code",
      "metadata": {
        "colab": {
          "base_uri": "https://localhost:8080/"
        },
        "id": "p8-KUsai382K",
        "outputId": "a6c10cb1-f04e-49ef-b648-9f1c26e7cf4c"
      },
      "source": [
        "'''Solution by: MarkisLandis\n",
        "'''\n",
        "\n",
        "sen = input(\"\").split(\" \")\n",
        "alp, digit = 0, 0\n",
        "\n",
        "for item in sen:\n",
        "  lst = [char for char in item]\n",
        "  for j in lst:\n",
        "    if 64 < ord(j) < 123:\n",
        "      alp += 1\n",
        "    if j.isdigit():\n",
        "      digit += 1\n",
        "print(f\"LETTERS : {alp} \\n DIGITS : {digit}\")\n"
      ],
      "execution_count": null,
      "outputs": [
        {
          "output_type": "stream",
          "text": [
            "hello world! 123\n",
            "LETTERS : 10 \n",
            " DIGITS : 3\n"
          ],
          "name": "stdout"
        }
      ]
    },
    {
      "cell_type": "code",
      "metadata": {
        "colab": {
          "base_uri": "https://localhost:8080/"
        },
        "id": "VAnluPKN6EFn",
        "outputId": "18eb7436-16ae-47b3-fdba-b6615ff91f1a"
      },
      "source": [
        "'''Solution by: hajimalung\n",
        "'''\n",
        "#using reduce for to count\n",
        "from functools import reduce\n",
        "\n",
        "def count_letters_digits(counters, char_to_check):\n",
        "  counters[0] += char_to_check.isalpha()\n",
        "  counters[1] += char_to_check.isnumeric()\n",
        "  return counters\n",
        "\n",
        "print('LETTERS {0}\\nDIGITS {1}'.format(*reduce(count_letters_digits, input(), [0, 0])))"
      ],
      "execution_count": null,
      "outputs": [
        {
          "output_type": "stream",
          "text": [
            "hello world! 123\n",
            "LETTERS 10\n",
            "DIGITS 3\n"
          ],
          "name": "stdout"
        }
      ]
    }
  ]
}