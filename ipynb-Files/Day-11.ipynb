{
  "nbformat": 4,
  "nbformat_minor": 0,
  "metadata": {
    "colab": {
      "name": "Untitled1.ipynb",
      "provenance": [],
      "collapsed_sections": [],
      "toc_visible": true
    },
    "kernelspec": {
      "name": "python3",
      "display_name": "Python 3"
    }
  },
  "cells": [
    {
      "cell_type": "markdown",
      "metadata": {
        "id": "h6mgspFSAJxv"
      },
      "source": [
        "# **Day-11**"
      ]
    },
    {
      "cell_type": "markdown",
      "metadata": {
        "id": "LxeDfChig7kZ"
      },
      "source": [
        "## **Question 38**\n",
        "Question:\n",
        "With a given tuple (1,2,3,4,5,6,7,8,9,10), write a program to print the\n",
        "first half values in one line and the last half values in one line.\n",
        "\n",
        "### **Hints:**\n",
        "Use [n1:n2] notation to get a slice from a tuple."
      ]
    },
    {
      "cell_type": "code",
      "metadata": {
        "colab": {
          "base_uri": "https://localhost:8080/"
        },
        "id": "NP3QMEokhFhD",
        "outputId": "774bdfc4-dbca-40ff-e553-6d8a31b62fe2"
      },
      "source": [
        "tp = (1,2,3,4,5,6,7,8,9,10)\n",
        "\n",
        "tp1 = tp[:5]\n",
        "tp2 = tp[5:]\n",
        "\n",
        "print(tp1)\n",
        "print(tp2)"
      ],
      "execution_count": null,
      "outputs": [
        {
          "output_type": "stream",
          "text": [
            "(1, 2, 3, 4, 5)\n",
            "(6, 7, 8, 9, 10)\n"
          ],
          "name": "stdout"
        }
      ]
    },
    {
      "cell_type": "code",
      "metadata": {
        "colab": {
          "base_uri": "https://localhost:8080/"
        },
        "id": "E30q-VkXi3St",
        "outputId": "63d76baa-dd00-4408-b055-62cb9b00fa86"
      },
      "source": [
        "tpl = (1,2,3,4,5,6,7,8,9,10)\n",
        "\n",
        "for i in range(0, 5):\n",
        "  print(tpl[i], end = ' ')\n",
        "\n",
        "print()\n",
        "\n",
        "for i in range(5, 10):\n",
        "  print(tpl[i], end = ' ')"
      ],
      "execution_count": null,
      "outputs": [
        {
          "output_type": "stream",
          "text": [
            "1 2 3 4 5 \n",
            "6 7 8 9 10 "
          ],
          "name": "stdout"
        }
      ]
    },
    {
      "cell_type": "code",
      "metadata": {
        "colab": {
          "base_uri": "https://localhost:8080/"
        },
        "id": "W4tTwYEfji6S",
        "outputId": "49c7fcb3-de70-49a7-a20d-6839edf777ac"
      },
      "source": [
        "tpl = (1,2,3,4,5,6,7,8,9,10)\n",
        "\n",
        "lst1, lst2 = [], []\n",
        "\n",
        "for i in range(0, 5):\n",
        "  lst1.append(tpl[i])\n",
        "\n",
        "for i in range(5, 10):\n",
        "  lst2.append(tpl[i])\n",
        "\n",
        "print(lst1)\n",
        "print(lst2)"
      ],
      "execution_count": null,
      "outputs": [
        {
          "output_type": "stream",
          "text": [
            "[1, 2, 3, 4, 5]\n",
            "[6, 7, 8, 9, 10]\n"
          ],
          "name": "stdout"
        }
      ]
    },
    {
      "cell_type": "code",
      "metadata": {
        "colab": {
          "base_uri": "https://localhost:8080/"
        },
        "id": "hPhAOTPX5tvn",
        "outputId": "ae09304e-f060-416c-9cf3-88b96dd93f61"
      },
      "source": [
        "'''\n",
        "Solution by: CoffeeBrakeInc\n",
        "'''\n",
        "\n",
        "tup = (1, 2, 3, 4, 5, 6, 7, 8, 9, 10)\n",
        "\n",
        "lt = int(len(tup) / 2)\n",
        "\n",
        "print(tup[:lt], tup[lt:])"
      ],
      "execution_count": null,
      "outputs": [
        {
          "output_type": "stream",
          "text": [
            "(1, 2, 3, 4, 5) (6, 7, 8, 9, 10)\n"
          ],
          "name": "stdout"
        }
      ]
    },
    {
      "cell_type": "code",
      "metadata": {
        "colab": {
          "base_uri": "https://localhost:8080/"
        },
        "id": "cRNWxqhJ6dkj",
        "outputId": "dd9ae3a5-7518-4274-951a-1fefa5549d80"
      },
      "source": [
        "'''\n",
        "Solution by: AasaiAlangaram\n",
        "'''\n",
        "\n",
        "tp = (1,2,3,4,5,6,7,8,9,10)\n",
        "\n",
        "print('The Original Tuple:',tp)\n",
        "\n",
        "[print('Splitted List: {List}'.format(List = tp[x:x + 5])) for x in range(0, len(tp), 5)]"
      ],
      "execution_count": null,
      "outputs": [
        {
          "output_type": "stream",
          "text": [
            "The Original Tuple: (1, 2, 3, 4, 5, 6, 7, 8, 9, 10)\n",
            "Splitted List: (1, 2, 3, 4, 5)\n",
            "Splitted List: (6, 7, 8, 9, 10)\n"
          ],
          "name": "stdout"
        },
        {
          "output_type": "execute_result",
          "data": {
            "text/plain": [
              "[None, None]"
            ]
          },
          "metadata": {
            "tags": []
          },
          "execution_count": 3
        }
      ]
    },
    {
      "cell_type": "code",
      "metadata": {
        "colab": {
          "base_uri": "https://localhost:8080/"
        },
        "id": "gr7jOde18SSS",
        "outputId": "7c3810a9-caf7-4207-d5ea-0374f7687970"
      },
      "source": [
        "'''\n",
        "Solution by: saxenaharsh24\n",
        "'''\n",
        "\n",
        "tup = [i for i in range(1, 11)]\n",
        "\n",
        "print(f'{tuple(tup[:5])} \\n{tuple(tup[5:])}')"
      ],
      "execution_count": null,
      "outputs": [
        {
          "output_type": "stream",
          "text": [
            "(1, 2, 3, 4, 5) \n",
            "(6, 7, 8, 9, 10)\n"
          ],
          "name": "stdout"
        }
      ]
    },
    {
      "cell_type": "markdown",
      "metadata": {
        "id": "P-0ktSEN3Qxs"
      },
      "source": [
        "## **Question 39**\n",
        "Question:\n",
        "Write a program to generate and print another tuple whose values are even numbers\n",
        "in the given tuple (1,2,3,4,5,6,7,8,9,10).\n",
        "\n",
        "### **Hints:**\n",
        "Use \"for\" to iterate the tuple. Use tuple() to generate a tuple from a list.\n"
      ]
    },
    {
      "cell_type": "code",
      "metadata": {
        "colab": {
          "base_uri": "https://localhost:8080/"
        },
        "id": "AEakbXvv3VzQ",
        "outputId": "f25d6f47-a52d-477c-c286-e148cc6692d7"
      },
      "source": [
        "tpl = (1,2,3,4,5,6,7,8,9,10)\n",
        "\n",
        "tpl1 = tuple(i for i in tpl if i % 2 == 0)\n",
        "\n",
        "print(tpl1)"
      ],
      "execution_count": 1,
      "outputs": [
        {
          "output_type": "stream",
          "text": [
            "(2, 4, 6, 8, 10)\n"
          ],
          "name": "stdout"
        }
      ]
    },
    {
      "cell_type": "code",
      "metadata": {
        "colab": {
          "base_uri": "https://localhost:8080/"
        },
        "id": "a-W_wrPz3t_o",
        "outputId": "bfa4eed7-b7b9-42e1-d176-ccbf6dd46b04"
      },
      "source": [
        "tpl = (1,2,3,4,5,6,7,8,9,10)\n",
        "\n",
        "# Lambda function returns True if found even element.\n",
        "# Filter removes data for which function returns False\n",
        "tpl1 = tuple(filter(lambda x: x % 2 == 0, tpl))\n",
        "\n",
        "print(tpl1)"
      ],
      "execution_count": 2,
      "outputs": [
        {
          "output_type": "stream",
          "text": [
            "(2, 4, 6, 8, 10)\n"
          ],
          "name": "stdout"
        }
      ]
    },
    {
      "cell_type": "markdown",
      "metadata": {
        "id": "kFN6S8ru4oX2"
      },
      "source": [
        "## **Question 40**\n",
        "Question:\n",
        "Write a program which accepts a string as input to print \"Yes\"\n",
        "if the string is \"yes\" or \"YES\" or \"Yes\", otherwise print \"No\".\n",
        "\n",
        "### **Hints:**\n",
        "Use if statement to judge condition."
      ]
    },
    {
      "cell_type": "code",
      "metadata": {
        "colab": {
          "base_uri": "https://localhost:8080/"
        },
        "id": "mycL5JaK4zIV",
        "outputId": "eb8b7385-18dd-46ae-d781-7ef099ca7b98"
      },
      "source": [
        "s = input()\n",
        "\n",
        "if s == \"yes\" or s == \"Yes\" or s == \"YES\":\n",
        "  print(\"Yes\")\n",
        "else:\n",
        "  print(\"No\")"
      ],
      "execution_count": 3,
      "outputs": [
        {
          "output_type": "stream",
          "text": [
            "yes\n",
            "Yes\n"
          ],
          "name": "stdout"
        }
      ]
    },
    {
      "cell_type": "code",
      "metadata": {
        "colab": {
          "base_uri": "https://localhost:8080/"
        },
        "id": "keXHQopl5J2B",
        "outputId": "f756b236-ee09-4556-99a1-d112611f8011"
      },
      "source": [
        "'''\n",
        "Solution by: Seawolf159\n",
        "'''\n",
        "\n",
        "text = input(\"Please type something. --> \")\n",
        "\n",
        "if text == \"yes\" or text == \"YES\" or text == \"Yes\":\n",
        "  print(\"Yes\")\n",
        "else:\n",
        "  print(\"No\")"
      ],
      "execution_count": 4,
      "outputs": [
        {
          "output_type": "stream",
          "text": [
            "Please type something. --> yes\n",
            "Yes\n"
          ],
          "name": "stdout"
        }
      ]
    },
    {
      "cell_type": "markdown",
      "metadata": {
        "id": "OvIoKaW59gJ_"
      },
      "source": [
        "## **Question 41**\n",
        "Question:\n",
        "Write a program which can map() to make a list whose elements\n",
        "are square of elements in [1,2,3,4,5,6,7,8,9,10].\n",
        "\n",
        "### **Hints:**\n",
        "Use map() to generate a list.\n",
        "Use lambda to define anonymous functions."
      ]
    },
    {
      "cell_type": "code",
      "metadata": {
        "colab": {
          "base_uri": "https://localhost:8080/"
        },
        "id": "Vpy4rP309rnU",
        "outputId": "bdd0a6ca-fdba-44cd-92a5-12599bab8096"
      },
      "source": [
        "li = [1,2,3,4,5,6,7,8,9,10]\n",
        "\n",
        "squaredNumbers = map(lambda x: x ** 2, li)\n",
        "\n",
        "print(*squaredNumbers)"
      ],
      "execution_count": 12,
      "outputs": [
        {
          "output_type": "stream",
          "text": [
            "1 4 9 16 25 36 49 64 81 100\n"
          ],
          "name": "stdout"
        }
      ]
    },
    {
      "cell_type": "code",
      "metadata": {
        "colab": {
          "base_uri": "https://localhost:8080/"
        },
        "id": "Zgr_JJJV-Ii2",
        "outputId": "2fcbcaf2-47d8-4765-af11-3bdf2a12da82"
      },
      "source": [
        "# No different way of code is written as the requirement\n",
        "# is specifically mentioned in problem description\n",
        "li = [1,2,3,4,5,6,7,8,9,10]\n",
        "\n",
        "# returns map type object data\n",
        "squaredNumbers = map(lambda x: x ** 2, li)\n",
        "\n",
        "# converting the object into list\n",
        "print(list(squaredNumbers))"
      ],
      "execution_count": 13,
      "outputs": [
        {
          "output_type": "stream",
          "text": [
            "[1, 4, 9, 16, 25, 36, 49, 64, 81, 100]\n"
          ],
          "name": "stdout"
        }
      ]
    },
    {
      "cell_type": "code",
      "metadata": {
        "colab": {
          "base_uri": "https://localhost:8080/"
        },
        "id": "T54iiV0--oSP",
        "outputId": "1b7f1bf6-e4c0-40e8-b52f-501c263e1461"
      },
      "source": [
        "'''\n",
        "Solution by: saxenaharsh24\n",
        "'''\n",
        "\n",
        "def sqrs(item):\n",
        "  return item ** 2\n",
        "\n",
        "lst = [i for i in range(1, 11)]\n",
        "\n",
        "print(list(map(sqrs, lst)))"
      ],
      "execution_count": 14,
      "outputs": [
        {
          "output_type": "stream",
          "text": [
            "[1, 4, 9, 16, 25, 36, 49, 64, 81, 100]\n"
          ],
          "name": "stdout"
        }
      ]
    },
    {
      "cell_type": "markdown",
      "metadata": {
        "id": "tpcNpdzd_L6z"
      },
      "source": [
        "## **Question 42**\n",
        "Question:\n",
        "Write a program which can map() and filter() to make a list\n",
        "whose elements are square of even number in [1,2,3,4,5,6,7,8,9,10].\n",
        "\n",
        "### **Hints:**\n",
        "Use map() to generate a list.\n",
        "Use filter() to filter elements of a list.\n",
        "Use lambda to define anonymous functions."
      ]
    },
    {
      "cell_type": "code",
      "metadata": {
        "colab": {
          "base_uri": "https://localhost:8080/"
        },
        "id": "kxtYJsV-_Skf",
        "outputId": "816f10be-33d9-42a8-c239-687baf409e1b"
      },
      "source": [
        "li = [1,2,3,4,5,6,7,8,9,10]\n",
        "\n",
        "evenNumbers = map(lambda x: x ** 2, filter(lambda x: x % 2 == 0, li))\n",
        "\n",
        "print(*evenNumbers)"
      ],
      "execution_count": 15,
      "outputs": [
        {
          "output_type": "stream",
          "text": [
            "4 16 36 64 100\n"
          ],
          "name": "stdout"
        }
      ]
    },
    {
      "cell_type": "code",
      "metadata": {
        "colab": {
          "base_uri": "https://localhost:8080/"
        },
        "id": "fLAZ4ORl_0Zz",
        "outputId": "27e8b02e-1b09-46a5-873a-368831408916"
      },
      "source": [
        "def even(x):\n",
        "  return x % 2 == 0\n",
        "\n",
        "def square(x):\n",
        "  return x * x\n",
        "\n",
        "li = [1,2,3,4,5,6,7,8,9,10]\n",
        "\n",
        "# first filters number by even number and then apply map() on the resultant elements\n",
        "\n",
        "li = map(square, filter(even, li))\n",
        "\n",
        "print(list(li))"
      ],
      "execution_count": 18,
      "outputs": [
        {
          "output_type": "stream",
          "text": [
            "[4, 16, 36, 64, 100]\n"
          ],
          "name": "stdout"
        }
      ]
    },
    {
      "cell_type": "code",
      "metadata": {
        "colab": {
          "base_uri": "https://localhost:8080/"
        },
        "id": "KjMzs2viApby",
        "outputId": "86b82e87-e596-4387-eea7-17a18e656835"
      },
      "source": [
        "\"\"\"\n",
        "Solution by: saxenaharsh24\n",
        "\"\"\"\n",
        "\n",
        "def even(item):\n",
        "  if item % 2 == 0:\n",
        "    return item ** 2\n",
        "\n",
        "lst = [i for i in range(1, 11)]\n",
        "\n",
        "print(list(filter(lambda j: j is not None, list(map(even, lst)))))"
      ],
      "execution_count": 19,
      "outputs": [
        {
          "output_type": "stream",
          "text": [
            "[4, 16, 36, 64, 100]\n"
          ],
          "name": "stdout"
        }
      ]
    },
    {
      "cell_type": "markdown",
      "metadata": {
        "id": "ymC2LO-bBSio"
      },
      "source": [
        "### **Question 43**\n",
        "Question:\n",
        "Write a program which can filter() to make a list whose elements are\n",
        "even number between 1 and 20 (both included).\n",
        "\n",
        "### **Hints:**\n",
        "Use filter() to filter elements of a list.\n",
        "Use lambda to define anonymous functions.\n"
      ]
    },
    {
      "cell_type": "code",
      "metadata": {
        "colab": {
          "base_uri": "https://localhost:8080/"
        },
        "id": "oAJR3W3DBesq",
        "outputId": "5147f50c-d0a4-4666-aa89-e918ec94df70"
      },
      "source": [
        "evenNumbers = filter(lambda x: x % 2 == 0, range(1, 21))\n",
        "\n",
        "print(*evenNumbers)"
      ],
      "execution_count": 20,
      "outputs": [
        {
          "output_type": "stream",
          "text": [
            "2 4 6 8 10 12 14 16 18 20\n"
          ],
          "name": "stdout"
        }
      ]
    },
    {
      "cell_type": "code",
      "metadata": {
        "colab": {
          "base_uri": "https://localhost:8080/"
        },
        "id": "sXGc6MBoByKh",
        "outputId": "a19643f2-2335-4a48-a959-a26bc73856d2"
      },
      "source": [
        "\n",
        "def even(x):\n",
        "  return x % 2 == 0\n",
        "\n",
        "evenNumbers = filter(even, range(1, 21))\n",
        "\n",
        "print(list(evenNumbers))"
      ],
      "execution_count": 21,
      "outputs": [
        {
          "output_type": "stream",
          "text": [
            "[2, 4, 6, 8, 10, 12, 14, 16, 18, 20]\n"
          ],
          "name": "stdout"
        }
      ]
    }
  ]
}