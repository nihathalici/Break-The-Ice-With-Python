{
  "nbformat": 4,
  "nbformat_minor": 0,
  "metadata": {
    "colab": {
      "name": "Untitled1.ipynb",
      "provenance": [],
      "collapsed_sections": [],
      "toc_visible": true
    },
    "kernelspec": {
      "name": "python3",
      "display_name": "Python 3"
    }
  },
  "cells": [
    {
      "cell_type": "markdown",
      "metadata": {
        "id": "h6mgspFSAJxv"
      },
      "source": [
        "# **Day-10**"
      ]
    },
    {
      "cell_type": "markdown",
      "metadata": {
        "id": "dZnoG5mNG8Jt"
      },
      "source": [
        "## **Question 31**\n",
        "Question:\n",
        "Define a function which can print a dictionary where the keys are numbers between\n",
        "1 and 20 (both included) and the values are square of keys.\n",
        "\n",
        "### **Hints:**\n",
        "Use dict[key]=value pattern to put entry into a dictionary.\n",
        "Use ** operator to get power of a number.\n",
        "Use range() for loops.\n"
      ]
    },
    {
      "cell_type": "code",
      "metadata": {
        "colab": {
          "base_uri": "https://localhost:8080/"
        },
        "id": "DpAUr-omHKMF",
        "outputId": "ada2f45b-2cf6-4b6c-e131-9c9900518cce"
      },
      "source": [
        "def printDict():\n",
        "  d = dict()\n",
        "  for i in range(1, 21):\n",
        "    d[i] = i ** 2\n",
        "    print(d)\n",
        "\n",
        "printDict()"
      ],
      "execution_count": null,
      "outputs": [
        {
          "output_type": "stream",
          "text": [
            "{1: 1}\n",
            "{1: 1, 2: 4}\n",
            "{1: 1, 2: 4, 3: 9}\n",
            "{1: 1, 2: 4, 3: 9, 4: 16}\n",
            "{1: 1, 2: 4, 3: 9, 4: 16, 5: 25}\n",
            "{1: 1, 2: 4, 3: 9, 4: 16, 5: 25, 6: 36}\n",
            "{1: 1, 2: 4, 3: 9, 4: 16, 5: 25, 6: 36, 7: 49}\n",
            "{1: 1, 2: 4, 3: 9, 4: 16, 5: 25, 6: 36, 7: 49, 8: 64}\n",
            "{1: 1, 2: 4, 3: 9, 4: 16, 5: 25, 6: 36, 7: 49, 8: 64, 9: 81}\n",
            "{1: 1, 2: 4, 3: 9, 4: 16, 5: 25, 6: 36, 7: 49, 8: 64, 9: 81, 10: 100}\n",
            "{1: 1, 2: 4, 3: 9, 4: 16, 5: 25, 6: 36, 7: 49, 8: 64, 9: 81, 10: 100, 11: 121}\n",
            "{1: 1, 2: 4, 3: 9, 4: 16, 5: 25, 6: 36, 7: 49, 8: 64, 9: 81, 10: 100, 11: 121, 12: 144}\n",
            "{1: 1, 2: 4, 3: 9, 4: 16, 5: 25, 6: 36, 7: 49, 8: 64, 9: 81, 10: 100, 11: 121, 12: 144, 13: 169}\n",
            "{1: 1, 2: 4, 3: 9, 4: 16, 5: 25, 6: 36, 7: 49, 8: 64, 9: 81, 10: 100, 11: 121, 12: 144, 13: 169, 14: 196}\n",
            "{1: 1, 2: 4, 3: 9, 4: 16, 5: 25, 6: 36, 7: 49, 8: 64, 9: 81, 10: 100, 11: 121, 12: 144, 13: 169, 14: 196, 15: 225}\n",
            "{1: 1, 2: 4, 3: 9, 4: 16, 5: 25, 6: 36, 7: 49, 8: 64, 9: 81, 10: 100, 11: 121, 12: 144, 13: 169, 14: 196, 15: 225, 16: 256}\n",
            "{1: 1, 2: 4, 3: 9, 4: 16, 5: 25, 6: 36, 7: 49, 8: 64, 9: 81, 10: 100, 11: 121, 12: 144, 13: 169, 14: 196, 15: 225, 16: 256, 17: 289}\n",
            "{1: 1, 2: 4, 3: 9, 4: 16, 5: 25, 6: 36, 7: 49, 8: 64, 9: 81, 10: 100, 11: 121, 12: 144, 13: 169, 14: 196, 15: 225, 16: 256, 17: 289, 18: 324}\n",
            "{1: 1, 2: 4, 3: 9, 4: 16, 5: 25, 6: 36, 7: 49, 8: 64, 9: 81, 10: 100, 11: 121, 12: 144, 13: 169, 14: 196, 15: 225, 16: 256, 17: 289, 18: 324, 19: 361}\n",
            "{1: 1, 2: 4, 3: 9, 4: 16, 5: 25, 6: 36, 7: 49, 8: 64, 9: 81, 10: 100, 11: 121, 12: 144, 13: 169, 14: 196, 15: 225, 16: 256, 17: 289, 18: 324, 19: 361, 20: 400}\n"
          ],
          "name": "stdout"
        }
      ]
    },
    {
      "cell_type": "code",
      "metadata": {
        "colab": {
          "base_uri": "https://localhost:8080/"
        },
        "id": "Pkw1osggHrM4",
        "outputId": "69616279-212f-42f3-f7f7-327d8a8573e2"
      },
      "source": [
        "def printDict():\n",
        "  dict = {i:i ** 2 for i in range(1, 21)}\n",
        "  print(dict)\n",
        "\n",
        "printDict()"
      ],
      "execution_count": null,
      "outputs": [
        {
          "output_type": "stream",
          "text": [
            "{1: 1, 2: 4, 3: 9, 4: 16, 5: 25, 6: 36, 7: 49, 8: 64, 9: 81, 10: 100, 11: 121, 12: 144, 13: 169, 14: 196, 15: 225, 16: 256, 17: 289, 18: 324, 19: 361, 20: 400}\n"
          ],
          "name": "stdout"
        }
      ]
    },
    {
      "cell_type": "markdown",
      "metadata": {
        "id": "HOaLCPZnld4T"
      },
      "source": [
        "## **Question 32**\n",
        "Question:\n",
        "Define a function which can generate a dictionary where the keys are numbers\n",
        "between 1 and 20 (both included) and the values are square of keys.\n",
        "The function should just print the keys only.\n",
        "\n",
        "### **Hints:**\n",
        "Use dict[key]=value pattern to put entry into a dictionary.\n",
        "Use ** operator to get power of a number. Use range() for loops.\n",
        "Use keys() to iterate keys in the dictionary.\n",
        "Also we can use item() to get key/value pairs.\n"
      ]
    },
    {
      "cell_type": "code",
      "metadata": {
        "colab": {
          "base_uri": "https://localhost:8080/"
        },
        "id": "hM1wSrS8lpoY",
        "outputId": "cc119a2d-48ad-441e-8c70-728270951a3e"
      },
      "source": [
        "def printDict():\n",
        "  d = dict()\n",
        "  for i in range(1, 21):\n",
        "    d[i] = i ** 2\n",
        "  for k in d.keys():\n",
        "    print(k)\n",
        "\n",
        "printDict()"
      ],
      "execution_count": 1,
      "outputs": [
        {
          "output_type": "stream",
          "text": [
            "1\n",
            "2\n",
            "3\n",
            "4\n",
            "5\n",
            "6\n",
            "7\n",
            "8\n",
            "9\n",
            "10\n",
            "11\n",
            "12\n",
            "13\n",
            "14\n",
            "15\n",
            "16\n",
            "17\n",
            "18\n",
            "19\n",
            "20\n"
          ],
          "name": "stdout"
        }
      ]
    },
    {
      "cell_type": "code",
      "metadata": {
        "colab": {
          "base_uri": "https://localhost:8080/"
        },
        "id": "Nhc7XOjxmQ5E",
        "outputId": "526dd9e7-0273-406f-a4de-fc78e35caeae"
      },
      "source": [
        "def printDict():\n",
        "  dict = {i:i ** 2 for i in range(1, 21)}\n",
        "  print(dict.keys())\n",
        "\n",
        "printDict()"
      ],
      "execution_count": 2,
      "outputs": [
        {
          "output_type": "stream",
          "text": [
            "dict_keys([1, 2, 3, 4, 5, 6, 7, 8, 9, 10, 11, 12, 13, 14, 15, 16, 17, 18, 19, 20])\n"
          ],
          "name": "stdout"
        }
      ]
    },
    {
      "cell_type": "markdown",
      "metadata": {
        "id": "t56qacjpn0-2"
      },
      "source": [
        "## **Question 33**\n",
        "Question:\n",
        "Define a function which can generate and print a list where the values\n",
        "are square of numbers between 1 and 20 (both included).\n",
        "\n",
        "### **Hints:**\n",
        "Use ** operator to get power of a number.\n",
        "Use range() for loops. Use list.append() to add values into a list."
      ]
    },
    {
      "cell_type": "code",
      "metadata": {
        "colab": {
          "base_uri": "https://localhost:8080/"
        },
        "id": "lqOikiNkn7jw",
        "outputId": "5500d90f-b998-4e50-c40a-5b85bf75570b"
      },
      "source": [
        "def printList():\n",
        "  li = list()\n",
        "  for i in range(1, 21):\n",
        "    li.append(i ** 2)\n",
        "  print(li)\n",
        "\n",
        "printList()"
      ],
      "execution_count": 3,
      "outputs": [
        {
          "output_type": "stream",
          "text": [
            "[1, 4, 9, 16, 25, 36, 49, 64, 81, 100, 121, 144, 169, 196, 225, 256, 289, 324, 361, 400]\n"
          ],
          "name": "stdout"
        }
      ]
    },
    {
      "cell_type": "code",
      "metadata": {
        "colab": {
          "base_uri": "https://localhost:8080/"
        },
        "id": "4u_wFu_hoqj3",
        "outputId": "55e766b2-aff9-4ed8-b9c8-a052e91e2888"
      },
      "source": [
        "def printList():\n",
        "  lst = [i ** 2 for i in range(1, 21)]\n",
        "  print(lst)\n",
        "\n",
        "printList()"
      ],
      "execution_count": 5,
      "outputs": [
        {
          "output_type": "stream",
          "text": [
            "[1, 4, 9, 16, 25, 36, 49, 64, 81, 100, 121, 144, 169, 196, 225, 256, 289, 324, 361, 400]\n"
          ],
          "name": "stdout"
        }
      ]
    },
    {
      "cell_type": "markdown",
      "metadata": {
        "id": "9Lytc3oA42Qk"
      },
      "source": [
        "## **Question 34**\n",
        "Question:\n",
        "Define a function which can generate a list where the values are square of\n",
        "numbers between 1 and 20 (both included).\n",
        "Then the function needs to print the first 5 elements in the list.\n",
        "\n",
        "## **Hints:**\n",
        "Use ** operator to get power of a number. Use range() for loops.\n",
        "Use list.append() to add values into a list. Use [n1:n2] to slice a list"
      ]
    },
    {
      "cell_type": "code",
      "metadata": {
        "colab": {
          "base_uri": "https://localhost:8080/"
        },
        "id": "cvYmepNX5AIt",
        "outputId": "4a34c0d6-5201-4e56-d89b-e3ae2042a904"
      },
      "source": [
        "def printList():\n",
        "  li = list()\n",
        "  for i in range(1, 21):\n",
        "    li.append(i ** 2)\n",
        "  print(li[:5])\n",
        "\n",
        "printList()"
      ],
      "execution_count": 6,
      "outputs": [
        {
          "output_type": "stream",
          "text": [
            "[1, 4, 9, 16, 25]\n"
          ],
          "name": "stdout"
        }
      ]
    },
    {
      "cell_type": "code",
      "metadata": {
        "colab": {
          "base_uri": "https://localhost:8080/"
        },
        "id": "-z0sXQ2r5fDU",
        "outputId": "d09f84db-7f86-4ec2-eaf3-9e7fa01653ef"
      },
      "source": [
        "def printList():\n",
        "  lst = [i ** 2 for i in range(1, 21)]\n",
        "\n",
        "  for i in range(5):\n",
        "    print(lst[i])\n",
        "\n",
        "printList()"
      ],
      "execution_count": 7,
      "outputs": [
        {
          "output_type": "stream",
          "text": [
            "1\n",
            "4\n",
            "9\n",
            "16\n",
            "25\n"
          ],
          "name": "stdout"
        }
      ]
    },
    {
      "cell_type": "code",
      "metadata": {
        "colab": {
          "base_uri": "https://localhost:8080/"
        },
        "id": "O5maqNMh55r3",
        "outputId": "0ff091c2-6109-4c6e-a866-54d75078126f"
      },
      "source": [
        "'''Solution by: popomaticbubble\n",
        "'''\n",
        "\n",
        "def squares(n):\n",
        "  squares_list = [i ** 2 for i in range(1, n + 1)]\n",
        "  print(squares_list[0:5])\n",
        "\n",
        "squares(20)"
      ],
      "execution_count": 9,
      "outputs": [
        {
          "output_type": "stream",
          "text": [
            "[1, 4, 9, 16, 25]\n"
          ],
          "name": "stdout"
        }
      ]
    },
    {
      "cell_type": "code",
      "metadata": {
        "colab": {
          "base_uri": "https://localhost:8080/"
        },
        "id": "xQPcemIq6cwf",
        "outputId": "c2f3da54-3645-4bcc-ec77-16c0af679a6d"
      },
      "source": [
        "'''Solution by: yuan1z'''\n",
        "\n",
        "func = lambda: print([i ** 2 for i in range(1, 21)[:5]])\n",
        "\n",
        "func()"
      ],
      "execution_count": 10,
      "outputs": [
        {
          "output_type": "stream",
          "text": [
            "[1, 4, 9, 16, 25]\n"
          ],
          "name": "stdout"
        }
      ]
    },
    {
      "cell_type": "markdown",
      "metadata": {
        "id": "n_uTtS0Q7XWh"
      },
      "source": [
        "## **Question 35**\n",
        "Question:\n",
        "Define a function which can generate a list where the values are square of numbers\n",
        "between 1 and 20 (both included).\n",
        "Then the function needs to print the last 5 elements in the list.\n",
        "\n",
        "### **Hints:**\n",
        "Use ** operator to get power of a number. Use range() for loops.\n",
        "Use list.append() to add values into a list. Use [n1:n2] to slice a list"
      ]
    },
    {
      "cell_type": "code",
      "metadata": {
        "colab": {
          "base_uri": "https://localhost:8080/"
        },
        "id": "4TZCYEMQ7nWk",
        "outputId": "da3b43b8-57cb-4b55-ed38-4b74ec3b4f9a"
      },
      "source": [
        "def printList():\n",
        "  li = list()\n",
        "  for i in range(1, 21):\n",
        "    li.append(i ** 2)\n",
        "  print(li[-5:])\n",
        "\n",
        "printList()"
      ],
      "execution_count": 11,
      "outputs": [
        {
          "output_type": "stream",
          "text": [
            "[256, 289, 324, 361, 400]\n"
          ],
          "name": "stdout"
        }
      ]
    },
    {
      "cell_type": "code",
      "metadata": {
        "colab": {
          "base_uri": "https://localhost:8080/"
        },
        "id": "TWz4l7vv8MQh",
        "outputId": "19b044b9-8aa2-405d-916f-fe3dbd170ecb"
      },
      "source": [
        "def printList():\n",
        "  lst = [i ** 2 for i in range(1, 21)]\n",
        "  for i in range(19, 14, -1):\n",
        "    print(lst[i])\n",
        "\n",
        "printList()"
      ],
      "execution_count": 12,
      "outputs": [
        {
          "output_type": "stream",
          "text": [
            "400\n",
            "361\n",
            "324\n",
            "289\n",
            "256\n"
          ],
          "name": "stdout"
        }
      ]
    },
    {
      "cell_type": "code",
      "metadata": {
        "colab": {
          "base_uri": "https://localhost:8080/"
        },
        "id": "If_EQZkP83GD",
        "outputId": "d29eab12-a611-49fd-9368-d4b0815370a6"
      },
      "source": [
        "'''Solution by: popomaticbubble\n",
        "'''\n",
        "\n",
        "def squares(n):\n",
        "  squares_list = [i ** 2 for i in range(1, n + 1)]\n",
        "  print(squares_list[-5:])\n",
        "\n",
        "squares(20)"
      ],
      "execution_count": 15,
      "outputs": [
        {
          "output_type": "stream",
          "text": [
            "[256, 289, 324, 361, 400]\n"
          ],
          "name": "stdout"
        }
      ]
    },
    {
      "cell_type": "markdown",
      "metadata": {
        "id": "dCC9VRtN9ltr"
      },
      "source": [
        "## **Question 36**\n",
        "Question:\n",
        "Define a function which can generate a list where the values are square of numbers\n",
        "between 1 and 20 (both included). Then the function needs to print all values\n",
        "except the first 5 elements in the list.\n",
        "\n",
        "### **Hints:**\n",
        "Use ** operator to get power of a number. Use range() for loops.\n",
        "Use list.append() to add values into a list. Use [n1:n2] to slice a list"
      ]
    },
    {
      "cell_type": "code",
      "metadata": {
        "colab": {
          "base_uri": "https://localhost:8080/"
        },
        "id": "t-yvJm1Q9tU9",
        "outputId": "0e86f60a-2d7e-4603-911f-4b351d4fae72"
      },
      "source": [
        "def printList():\n",
        "  li = list()\n",
        "  for i in range(1, 21):\n",
        "    li.append(i ** 2)\n",
        "  print(li[5:])\n",
        "\n",
        "printList()"
      ],
      "execution_count": 16,
      "outputs": [
        {
          "output_type": "stream",
          "text": [
            "[36, 49, 64, 81, 100, 121, 144, 169, 196, 225, 256, 289, 324, 361, 400]\n"
          ],
          "name": "stdout"
        }
      ]
    },
    {
      "cell_type": "code",
      "metadata": {
        "colab": {
          "base_uri": "https://localhost:8080/"
        },
        "id": "wXswF9Bw-QhY",
        "outputId": "e03b529e-f013-4a08-97bf-d07b8a3e84b6"
      },
      "source": [
        "def printList():\n",
        "  lst = [i ** 2 for i in range(1, 21)]\n",
        "  for i in range(5, 20):\n",
        "    print(lst[i])\n",
        "\n",
        "printList()"
      ],
      "execution_count": 17,
      "outputs": [
        {
          "output_type": "stream",
          "text": [
            "36\n",
            "49\n",
            "64\n",
            "81\n",
            "100\n",
            "121\n",
            "144\n",
            "169\n",
            "196\n",
            "225\n",
            "256\n",
            "289\n",
            "324\n",
            "361\n",
            "400\n"
          ],
          "name": "stdout"
        }
      ]
    },
    {
      "cell_type": "markdown",
      "metadata": {
        "id": "j9ZuR36_itbw"
      },
      "source": [
        "## **Question 37**\n",
        "Question:\n",
        "Define a function which can generate and print a tuple where the value are square of numbers\n",
        "between 1 and 20 (both included).\n",
        "\n",
        "### **Hints:**\n",
        "Use ** operator to get power of a number. Use range() for loops.\n",
        "Use list.append() to add values into a list. Use tuple() to get a tuple from a list."
      ]
    },
    {
      "cell_type": "code",
      "metadata": {
        "colab": {
          "base_uri": "https://localhost:8080/"
        },
        "id": "Yk_Rf25-jUHa",
        "outputId": "6252debe-3c46-4ebc-d078-6091c8ad492f"
      },
      "source": [
        "def printTuple():\n",
        "  li = list()\n",
        "  for i in range(1, 21):\n",
        "    li.append(i ** 2)\n",
        "  print(tuple(li))\n",
        "\n",
        "printTuple()"
      ],
      "execution_count": 19,
      "outputs": [
        {
          "output_type": "stream",
          "text": [
            "(1, 4, 9, 16, 25, 36, 49, 64, 81, 100, 121, 144, 169, 196, 225, 256, 289, 324, 361, 400)\n"
          ],
          "name": "stdout"
        }
      ]
    },
    {
      "cell_type": "code",
      "metadata": {
        "colab": {
          "base_uri": "https://localhost:8080/"
        },
        "id": "AQuXu1ZSjv-k",
        "outputId": "fbaa286d-a492-4cfa-fc26-89e4a1a5d50a"
      },
      "source": [
        "def printTuple():\n",
        "  lst = [i ** 2 for i in range(1, 21)]\n",
        "  print(tuple(lst))\n",
        "\n",
        "printTuple()"
      ],
      "execution_count": 20,
      "outputs": [
        {
          "output_type": "stream",
          "text": [
            "(1, 4, 9, 16, 25, 36, 49, 64, 81, 100, 121, 144, 169, 196, 225, 256, 289, 324, 361, 400)\n"
          ],
          "name": "stdout"
        }
      ]
    },
    {
      "cell_type": "code",
      "metadata": {
        "colab": {
          "base_uri": "https://localhost:8080/"
        },
        "id": "_t71rDvFkEo2",
        "outputId": "c6912cbc-37d1-4095-f2a2-c05dfe41cbb8"
      },
      "source": [
        "'''\n",
        "Solution by: Seawolf159\n",
        "'''\n",
        "\n",
        "def square_of_numbers():\n",
        "  return tuple(i ** 2 for i in range(1, 21))\n",
        "\n",
        "square_of_numbers()"
      ],
      "execution_count": 21,
      "outputs": [
        {
          "output_type": "execute_result",
          "data": {
            "text/plain": [
              "(1,\n",
              " 4,\n",
              " 9,\n",
              " 16,\n",
              " 25,\n",
              " 36,\n",
              " 49,\n",
              " 64,\n",
              " 81,\n",
              " 100,\n",
              " 121,\n",
              " 144,\n",
              " 169,\n",
              " 196,\n",
              " 225,\n",
              " 256,\n",
              " 289,\n",
              " 324,\n",
              " 361,\n",
              " 400)"
            ]
          },
          "metadata": {
            "tags": []
          },
          "execution_count": 21
        }
      ]
    }
  ]
}